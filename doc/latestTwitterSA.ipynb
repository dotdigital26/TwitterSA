{
 "metadata": {
  "name": "Twitter SA"
 },
 "nbformat": 3,
 "nbformat_minor": 0,
 "worksheets": [
  {
   "cells": [
    {
     "cell_type": "code",
     "collapsed": false,
     "input": "import scipy as sp\nimport nltk\nimport pandas as pd\nfrom nltk.classify import NaiveBayesClassifier\n\nstopwords = pd.read_csv('stop_words.csv')\nslang_file = open(\"slang.txt\")\nslang_dict = {}\ne = slang_file.readlines()\nfor i in e:\n   w = i.split(\" - \")\n   #print len(w)\n   slang_dict[w[0].strip()] = w[1].strip()",
     "language": "python",
     "metadata": {},
     "outputs": [],
     "prompt_number": 11
    },
    {
     "cell_type": "code",
     "collapsed": false,
     "input": "test = pd.read_csv('TestSA.csv')\ntrain = pd.read_csv('TrainSA.csv')\n",
     "language": "python",
     "metadata": {},
     "outputs": [],
     "prompt_number": 12
    },
    {
     "cell_type": "heading",
     "level": 1,
     "metadata": {},
     "source": "Pre process data"
    },
    {
     "cell_type": "heading",
     "level": 2,
     "metadata": {},
     "source": "Remove urls, usernames, multiple letters , and replace twitter slangs with proper words"
    },
    {
     "cell_type": "code",
     "collapsed": false,
     "input": "def clean_data(l):\n    d = []\n    for i in l:\n        if i.startswith('http'):\n            d.append('URL')\n        elif i.startswith('@'):\n            d.append('USERNAME')\n        else:\n            \n            d.append(re.sub(r'([a-z]+?)\\1+', r'\\1\\1', i))\n    return d",
     "language": "python",
     "metadata": {},
     "outputs": [],
     "prompt_number": 13
    },
    {
     "cell_type": "heading",
     "level": 3,
     "metadata": {},
     "source": "Preprocess train data"
    },
    {
     "cell_type": "code",
     "collapsed": false,
     "input": "from nltk.stem import PorterStemmer\nstemmer=PorterStemmer()\nimport re\nfor i in range(len(train)):\n    t = []\n    for word in nltk.word_tokenize(train.SentimentText[i]):\n        t.append(word)\n    d = []\n    for st in t:\n        if st in slang_dict.keys():\n            #sys.stdout.write('.')\n            st = slang_dict[st]\n        \n        d.append(st)\n    k = clean_data(d)\n    train.SentimentText[i] = \" \".join(k)\n    t = []\n    for word in nltk.word_tokenize(train.SentimentText[i]):\n        t.append(stemmer.stem(word))\n    train.SentimentText[i] = \" \".join(t)",
     "language": "python",
     "metadata": {},
     "outputs": [],
     "prompt_number": 17
    },
    {
     "cell_type": "code",
     "collapsed": false,
     "input": "",
     "language": "python",
     "metadata": {},
     "outputs": [],
     "prompt_number": "*"
    },
    {
     "cell_type": "heading",
     "level": 3,
     "metadata": {},
     "source": "Preprocess test data"
    },
    {
     "cell_type": "code",
     "collapsed": false,
     "input": "\nfor i in range(len(test)):\n    t = []\n    for word in nltk.word_tokenize(test.SentimentText[i]):\n        t.append(word)\n    d = []\n    for st in t:\n        if st in slang_dict.keys():\n            #sys.stdout.write('.')\n            st = slang_dict[st]\n        \n        d.append(st)\n    k = clean_data(d)\n    test.SentimentText[i] = \" \".join(k)\n    t=[]\n    for word in nltk.word_tokenize(test.SentimentText[i]):\n        t.append(stemmer.stem(word))\n    test.SentimentText[i] = \" \".join(t)",
     "language": "python",
     "metadata": {},
     "outputs": [],
     "prompt_number": 18
    },
    {
     "cell_type": "code",
     "collapsed": false,
     "input": "def word_feats(words):\n    return dict([(word, True) for word in words])\n\n\nneg_tweets = []\npos_tweets = []\nfor i in range(len(train)):\n    if train.Sentiment[i] == 0:\n        neg_tweets.append(i)\n    else:\n        pos_tweets.append(i)\n        \nnegfeats = [(word_feats(x for x in train.SentimentText[f].lower().split() if x not in stopwords), 'neg') for f in neg_tweets]\nposfeats = [(word_feats(x for x in train.SentimentText[f].lower().split() if x not in stopwords), 'pos') for f in pos_tweets]\n\ntrainfeats = negfeats + posfeats\nrandom.shuffle(trainfeats)\n\nneg_tweets_test = []\npos_tweets_test = []\nfor i in range(len(test)):\n    if test.Sentiment[i] == 0:\n        neg_tweets_test.append(i)\n    else:\n        pos_tweets_test.append(i)\n        \nnegfeatstest = [(word_feats(x for x in test.SentimentText[f].lower().split() if x not in stopwords), 'neg') for f in neg_tweets_test]\nposfeatstest = [(word_feats(x for x in test.SentimentText[f].lower().split() if x not in stopwords), 'pos') for f in pos_tweets_test]\ntestfeats = negfeatstest + posfeatstest\nrandom.shuffle(testfeats)",
     "language": "python",
     "metadata": {},
     "outputs": [],
     "prompt_number": 19
    },
    {
     "cell_type": "code",
     "collapsed": false,
     "input": "",
     "language": "python",
     "metadata": {},
     "outputs": [],
     "prompt_number": 6
    },
    {
     "cell_type": "heading",
     "level": 1,
     "metadata": {},
     "source": "Naive bayes with initial pre processing. "
    },
    {
     "cell_type": "code",
     "collapsed": false,
     "input": "classifier = NaiveBayesClassifier.train(trainfeats)\nprint 'train on %d instances, test on %d instances' % (len(trainfeats), len(testfeats))\n\nprint 'accuracy:', nltk.classify.util.accuracy(classifier, testfeats)\nprint classifier.show_most_informative_features()\n",
     "language": "python",
     "metadata": {},
     "outputs": [
      {
       "output_type": "stream",
       "stream": "stdout",
       "text": "train on 60908 instances, test on 44832 instances\naccuracy: "
      },
      {
       "output_type": "stream",
       "stream": "stdout",
       "text": "0.746520342612\nMost Informative Features\n                    sad. = True              neg : pos    =     40.0 : 1.0"
      },
      {
       "output_type": "stream",
       "stream": "stdout",
       "text": "\n                  throat = True              neg : pos    =     35.5 : 1.0\n                frustrat = True              neg : pos    =     27.4 : 1.0\n                thankyou = True              pos : neg    =     19.2 : 1.0\n                     sad = True              neg : pos    =     18.4 : 1.0\n                  dammit = True              neg : pos    =     16.2 : 1.0\n                 depress = True              neg : pos    =     15.8 : 1.0\n            followfriday = True              pos : neg    =     15.5 : 1.0\n                  shitti = True              neg : pos    =     15.3 : 1.0\n                  promot = True              pos : neg    =     13.8 : 1.0\nNone\n"
      }
     ],
     "prompt_number": 20
    },
    {
     "cell_type": "heading",
     "level": 2,
     "metadata": {},
     "source": "SVM with pre processing"
    },
    {
     "cell_type": "code",
     "collapsed": false,
     "input": "import scipy as sp\nfrom sklearn.svm import LinearSVC\nfrom nltk.classify.scikitlearn import SklearnClassifier\ny = []\ntrainsize = [60900]\naccuracy = []\nfor i in trainsize:\n    classif = SklearnClassifier(LinearSVC(C=0.032))\n    classif.train(trainfeats[:i])\n    print 'train on %d instances, test on %d instances' % (len(trainfeats[:i]), len(testfeats))\n    y.append( nltk.classify.util.accuracy(classif, testfeats))\nprint y",
     "language": "python",
     "metadata": {},
     "outputs": [
      {
       "output_type": "stream",
       "stream": "stdout",
       "text": "train on 60900 instances, test on 44832 instances\n[0.7683351177730193]"
      },
      {
       "output_type": "stream",
       "stream": "stdout",
       "text": "\n"
      }
     ],
     "prompt_number": 21
    },
    {
     "cell_type": "heading",
     "level": 2,
     "metadata": {},
     "source": "MaxEnt with pre processing data"
    },
    {
     "cell_type": "code",
     "collapsed": false,
     "input": "import nltk.classify.util\nfrom nltk.classify import MaxentClassifier\nalgorithm = nltk.classify.MaxentClassifier.ALGORITHMS[0]\n\npoints_3 = [60908]\namax = []\nfor i in points_3:\n    classifier = nltk.MaxentClassifier.train(trainfeats[:i],algorithm, max_iter=10)\n    out_maxent_uni = nltk.classify.util.accuracy(classifier, testfeats)\n    amax.append(out_maxent_uni)\n    print 'dataset: ',i, 'accuracy:', out_maxent_uni\nclassifier.show_most_informative_features()\ndel classifier",
     "language": "python",
     "metadata": {},
     "outputs": [
      {
       "output_type": "stream",
       "stream": "stdout",
       "text": "  ==> Training (10 iterations)\n\n      Iteration    Log Likelihood    Accuracy\n      ---------------------------------------\n             1          -0.69315        0.498"
      },
      {
       "output_type": "stream",
       "stream": "stdout",
       "text": "\n             2          -0.69313        0.862"
      },
      {
       "output_type": "stream",
       "stream": "stdout",
       "text": "\n             3          -0.69311        0.862"
      },
      {
       "output_type": "stream",
       "stream": "stdout",
       "text": "\n             4          -0.69310        0.862"
      },
      {
       "output_type": "stream",
       "stream": "stdout",
       "text": "\n             5          -0.69308        0.862"
      },
      {
       "output_type": "stream",
       "stream": "stdout",
       "text": "\n             6          -0.69306        0.862"
      },
      {
       "output_type": "stream",
       "stream": "stdout",
       "text": "\n             7          -0.69304        0.862"
      },
      {
       "output_type": "stream",
       "stream": "stdout",
       "text": "\n             8          -0.69303        0.862"
      },
      {
       "output_type": "stream",
       "stream": "stdout",
       "text": "\n             9          -0.69301        0.862"
      },
      {
       "output_type": "stream",
       "stream": "stdout",
       "text": "\n         Final          -0.69299        0.862"
      },
      {
       "output_type": "stream",
       "stream": "stdout",
       "text": "\ndataset: "
      },
      {
       "output_type": "stream",
       "stream": "stdout",
       "text": " 60908 accuracy: 0.747657922912\n  -0.001 sad.==True and label is 'pos'"
      },
      {
       "output_type": "stream",
       "stream": "stdout",
       "text": "\n  -0.001 throat==True and label is 'pos'\n  -0.001 frustrat==True and label is 'pos'\n  -0.000 thankyou==True and label is 'neg'\n  -0.000 dammit==True and label is 'pos'\n  -0.000 promot==True and label is 'neg'\n  -0.000 shitti==True and label is 'pos'\n  -0.000 charger==True and label is 'pos'\n  -0.000 sad==True and label is 'pos'\n  -0.000 depress==True and label is 'pos'\n"
      }
     ],
     "prompt_number": 28
    },
    {
     "cell_type": "code",
     "collapsed": false,
     "input": "",
     "language": "python",
     "metadata": {},
     "outputs": [],
     "prompt_number": 28
    },
    {
     "cell_type": "code",
     "collapsed": false,
     "input": "\n",
     "language": "python",
     "metadata": {},
     "outputs": [],
     "prompt_number": 28
    },
    {
     "cell_type": "code",
     "collapsed": false,
     "input": "",
     "language": "python",
     "metadata": {},
     "outputs": [],
     "prompt_number": 28
    },
    {
     "cell_type": "code",
     "collapsed": false,
     "input": "",
     "language": "python",
     "metadata": {},
     "outputs": [],
     "prompt_number": 27
    },
    {
     "cell_type": "code",
     "collapsed": false,
     "input": "!sudo pip install --upgrade scikit-learn",
     "language": "python",
     "metadata": {},
     "outputs": [
      {
       "output_type": "stream",
       "stream": "stdout",
       "text": "Downloading/unpacking scikit-learn\r\n"
      },
      {
       "output_type": "stream",
       "stream": "stdout",
       "text": "  Downloading scikit-learn-0.14.1.tar.gz (6.8Mb): \r  Downloading scikit-learn-0.14.1.tar.gz (6.8Mb):   0%  4.1Kb\r  Downloading scikit-learn-0.14.1.tar.gz (6.8Mb):   0%  8.2Kb\r  Downloading scikit-learn-0.14.1.tar.gz (6.8Mb):   0%  12Kb \r  Downloading scikit-learn-0.14.1.tar.gz (6.8Mb):   0%  16Kb\r  Downloading scikit-learn-0.14.1.tar.gz (6.8Mb):   0%  20Kb\r  Downloading scikit-learn-0.14.1.tar.gz (6.8Mb):   0%  24Kb"
      },
      {
       "output_type": "stream",
       "stream": "stdout",
       "text": "\r  Downloading scikit-learn-0.14.1.tar.gz (6.8Mb):   0%  28Kb\r  Downloading scikit-learn-0.14.1.tar.gz (6.8Mb):   0%  32Kb\r  Downloading scikit-learn-0.14.1.tar.gz (6.8Mb):   0%  36Kb\r  Downloading scikit-learn-0.14.1.tar.gz (6.8Mb):   0%  40Kb\r  Downloading scikit-learn-0.14.1.tar.gz (6.8Mb):   0%  45Kb\r  Downloading scikit-learn-0.14.1.tar.gz (6.8Mb):   0%  49Kb\r  Downloading scikit-learn-0.14.1.tar.gz (6.8Mb):   0%  53Kb\r  Downloading scikit-learn-0.14.1.tar.gz (6.8Mb):   0%  57Kb\r  Downloading scikit-learn-0.14.1.tar.gz (6.8Mb):   0%  61Kb\r  Downloading scikit-learn-0.14.1.tar.gz (6.8Mb):   0%  65Kb\r  Downloading scikit-learn-0.14.1.tar.gz (6.8Mb):   1%  69Kb\r  Downloading scikit-learn-0.14.1.tar.gz (6.8Mb):   1%  73Kb\r  Downloading scikit-learn-0.14.1.tar.gz (6.8Mb):   1%  77Kb\r  Downloading scikit-learn-0.14.1.tar.gz (6.8Mb):   1%  81Kb\r  Downloading scikit-learn-0.14.1.tar.gz (6.8Mb):   1%  86Kb\r  Downloading scikit-learn-0.14.1.tar.gz (6.8Mb):   1%  90Kb\r  Downloading scikit-learn-0.14.1.tar.gz (6.8Mb):   1%  94Kb\r  Downloading scikit-learn-0.14.1.tar.gz (6.8Mb):   1%  98Kb\r  Downloading scikit-learn-0.14.1.tar.gz (6.8Mb):   1%  102Kb\r  Downloading scikit-learn-0.14.1.tar.gz (6.8Mb):   1%  106Kb\r  Downloading scikit-learn-0.14.1.tar.gz (6.8Mb):   1%  110Kb\r  Downloading scikit-learn-0.14.1.tar.gz (6.8Mb):   1%  114Kb\r  Downloading scikit-learn-0.14.1.tar.gz (6.8Mb):   1%  118Kb\r  Downloading scikit-learn-0.14.1.tar.gz (6.8Mb):   1%  122Kb\r  Downloading scikit-learn-0.14.1.tar.gz (6.8Mb):   1%  126Kb\r  Downloading scikit-learn-0.14.1.tar.gz (6.8Mb):   1%  131Kb\r  Downloading scikit-learn-0.14.1.tar.gz (6.8Mb):   1%  135Kb\r  Downloading scikit-learn-0.14.1.tar.gz (6.8Mb):   2%  139Kb\r  Downloading scikit-learn-0.14.1.tar.gz (6.8Mb):   2%  143Kb\r  Downloading scikit-learn-0.14.1.tar.gz (6.8Mb):   2%  147Kb\r  Downloading scikit-learn-0.14.1.tar.gz (6.8Mb):   2%  151Kb\r  Downloading scikit-learn-0.14.1.tar.gz (6.8Mb):   2%  155Kb\r  Downloading scikit-learn-0.14.1.tar.gz (6.8Mb):   2%  159Kb\r  Downloading scikit-learn-0.14.1.tar.gz (6.8Mb):   2%  163Kb\r  Downloading scikit-learn-0.14.1.tar.gz (6.8Mb):   2%  167Kb\r  Downloading scikit-learn-0.14.1.tar.gz (6.8Mb):   2%  172Kb\r  Downloading scikit-learn-0.14.1.tar.gz (6.8Mb):   2%  176Kb\r  Downloading scikit-learn-0.14.1.tar.gz (6.8Mb):   2%  180Kb\r  Downloading scikit-learn-0.14.1.tar.gz (6.8Mb):   2%  184Kb\r  Downloading scikit-learn-0.14.1.tar.gz (6.8Mb):   2%  188Kb\r  Downloading scikit-learn-0.14.1.tar.gz (6.8Mb):   2%  192Kb\r  Downloading scikit-learn-0.14.1.tar.gz (6.8Mb):   2%  196Kb\r  Downloading scikit-learn-0.14.1.tar.gz (6.8Mb):   2%  200Kb\r  Downloading scikit-learn-0.14.1.tar.gz (6.8Mb):   2%  204Kb\r  Downloading scikit-learn-0.14.1.tar.gz (6.8Mb):   3%  208Kb\r  Downloading scikit-learn-0.14.1.tar.gz (6.8Mb):   3%  212Kb\r  Downloading scikit-learn-0.14.1.tar.gz (6.8Mb):   3%  217Kb\r  Downloading scikit-learn-0.14.1.tar.gz (6.8Mb):   3%  221Kb\r  Downloading scikit-learn-0.14.1.tar.gz (6.8Mb):   3%  225Kb\r  Downloading scikit-learn-0.14.1.tar.gz (6.8Mb):   3%  229Kb\r  Downloading scikit-learn-0.14.1.tar.gz (6.8Mb):   3%  233Kb\r  Downloading scikit-learn-0.14.1.tar.gz (6.8Mb):   3%  237Kb\r  Downloading scikit-learn-0.14.1.tar.gz (6.8Mb):   3%  241Kb\r  Downloading scikit-learn-0.14.1.tar.gz (6.8Mb):   3%  245Kb\r  Downloading scikit-learn-0.14.1.tar.gz (6.8Mb):   3%  249Kb\r  Downloading scikit-learn-0.14.1.tar.gz (6.8Mb):   3%  253Kb"
      },
      {
       "output_type": "stream",
       "stream": "stdout",
       "text": "\r  Downloading scikit-learn-0.14.1.tar.gz (6.8Mb):   3%  258Kb\r  Downloading scikit-learn-0.14.1.tar.gz (6.8Mb):   3%  262Kb\r  Downloading scikit-learn-0.14.1.tar.gz (6.8Mb):   3%  266Kb\r  Downloading scikit-learn-0.14.1.tar.gz (6.8Mb):   3%  270Kb\r  Downloading scikit-learn-0.14.1.tar.gz (6.8Mb):   4%  274Kb\r  Downloading scikit-learn-0.14.1.tar.gz (6.8Mb):   4%  278Kb\r  Downloading scikit-learn-0.14.1.tar.gz (6.8Mb):   4%  282Kb\r  Downloading scikit-learn-0.14.1.tar.gz (6.8Mb):   4%  286Kb\r  Downloading scikit-learn-0.14.1.tar.gz (6.8Mb):   4%  290Kb\r  Downloading scikit-learn-0.14.1.tar.gz (6.8Mb):   4%  294Kb\r  Downloading scikit-learn-0.14.1.tar.gz (6.8Mb):   4%  299Kb\r  Downloading scikit-learn-0.14.1.tar.gz (6.8Mb):   4%  303Kb\r  Downloading scikit-learn-0.14.1.tar.gz (6.8Mb):   4%  307Kb\r  Downloading scikit-learn-0.14.1.tar.gz (6.8Mb):   4%  311Kb\r  Downloading scikit-learn-0.14.1.tar.gz (6.8Mb):   4%  315Kb\r  Downloading scikit-learn-0.14.1.tar.gz (6.8Mb):   4%  319Kb\r  Downloading scikit-learn-0.14.1.tar.gz (6.8Mb):   4%  323Kb\r  Downloading scikit-learn-0.14.1.tar.gz (6.8Mb):   4%  327Kb\r  Downloading scikit-learn-0.14.1.tar.gz (6.8Mb):   4%  331Kb\r  Downloading scikit-learn-0.14.1.tar.gz (6.8Mb):   4%  335Kb\r  Downloading scikit-learn-0.14.1.tar.gz (6.8Mb):   4%  339Kb\r  Downloading scikit-learn-0.14.1.tar.gz (6.8Mb):   5%  344Kb\r  Downloading scikit-learn-0.14.1.tar.gz (6.8Mb):   5%  348Kb\r  Downloading scikit-learn-0.14.1.tar.gz (6.8Mb):   5%  352Kb\r  Downloading scikit-learn-0.14.1.tar.gz (6.8Mb):   5%  356Kb\r  Downloading scikit-learn-0.14.1.tar.gz (6.8Mb):   5%  360Kb\r  Downloading scikit-learn-0.14.1.tar.gz (6.8Mb):   5%  364Kb\r  Downloading scikit-learn-0.14.1.tar.gz (6.8Mb):   5%  368Kb\r  Downloading scikit-learn-0.14.1.tar.gz (6.8Mb):   5%  372Kb\r  Downloading scikit-learn-0.14.1.tar.gz (6.8Mb):   5%  376Kb\r  Downloading scikit-learn-0.14.1.tar.gz (6.8Mb):   5%  380Kb\r  Downloading scikit-learn-0.14.1.tar.gz (6.8Mb):   5%  385Kb\r  Downloading scikit-learn-0.14.1.tar.gz (6.8Mb):   5%  389Kb\r  Downloading scikit-learn-0.14.1.tar.gz (6.8Mb):   5%  393Kb\r  Downloading scikit-learn-0.14.1.tar.gz (6.8Mb):   5%  397Kb\r  Downloading scikit-learn-0.14.1.tar.gz (6.8Mb):   5%  401Kb\r  Downloading scikit-learn-0.14.1.tar.gz (6.8Mb):   5%  405Kb\r  Downloading scikit-learn-0.14.1.tar.gz (6.8Mb):   5%  409Kb\r  Downloading scikit-learn-0.14.1.tar.gz (6.8Mb):   6%  413Kb\r  Downloading scikit-learn-0.14.1.tar.gz (6.8Mb):   6%  417Kb\r  Downloading scikit-learn-0.14.1.tar.gz (6.8Mb):   6%  421Kb\r  Downloading scikit-learn-0.14.1.tar.gz (6.8Mb):   6%  425Kb\r  Downloading scikit-learn-0.14.1.tar.gz (6.8Mb):   6%  430Kb\r  Downloading scikit-learn-0.14.1.tar.gz (6.8Mb):   6%  434Kb\r  Downloading scikit-learn-0.14.1.tar.gz (6.8Mb):   6%  438Kb\r  Downloading scikit-learn-0.14.1.tar.gz (6.8Mb):   6%  442Kb\r  Downloading scikit-learn-0.14.1.tar.gz (6.8Mb):   6%  446Kb\r  Downloading scikit-learn-0.14.1.tar.gz (6.8Mb):   6%  450Kb\r  Downloading scikit-learn-0.14.1.tar.gz (6.8Mb):   6%  454Kb\r  Downloading scikit-learn-0.14.1.tar.gz (6.8Mb):   6%  458Kb\r  Downloading scikit-learn-0.14.1.tar.gz (6.8Mb):   6%  462Kb\r  Downloading scikit-learn-0.14.1.tar.gz (6.8Mb):   6%  466Kb\r  Downloading scikit-learn-0.14.1.tar.gz (6.8Mb):   6%  471Kb\r  Downloading scikit-learn-0.14.1.tar.gz (6.8Mb):   6%  475Kb\r  Downloading scikit-learn-0.14.1.tar.gz (6.8Mb):   7%  479Kb\r  Downloading scikit-learn-0.14.1.tar.gz (6.8Mb):   7%  483Kb\r  Downloading scikit-learn-0.14.1.tar.gz (6.8Mb):   7%  487Kb\r  Downloading scikit-learn-0.14.1.tar.gz (6.8Mb):   7%  491Kb\r  Downloading scikit-learn-0.14.1.tar.gz (6.8Mb):   7%  495Kb\r  Downloading scikit-learn-0.14.1.tar.gz (6.8Mb):   7%  499Kb\r  Downloading scikit-learn-0.14.1.tar.gz (6.8Mb):   7%  503Kb\r  Downloading scikit-learn-0.14.1.tar.gz (6.8Mb):   7%  507Kb\r  Downloading scikit-learn-0.14.1.tar.gz (6.8Mb):   7%  512Kb\r  Downloading scikit-learn-0.14.1.tar.gz (6.8Mb):   7%  516Kb\r  Downloading scikit-learn-0.14.1.tar.gz (6.8Mb):   7%  520Kb\r  Downloading scikit-learn-0.14.1.tar.gz (6.8Mb):   7%  524Kb\r  Downloading scikit-learn-0.14.1.tar.gz (6.8Mb):   7%  528Kb\r  Downloading scikit-learn-0.14.1.tar.gz (6.8Mb):   7%  532Kb\r  Downloading scikit-learn-0.14.1.tar.gz (6.8Mb):   7%  536Kb\r  Downloading scikit-learn-0.14.1.tar.gz (6.8Mb):   7%  540Kb\r  Downloading scikit-learn-0.14.1.tar.gz (6.8Mb):   7%  544Kb\r  Downloading scikit-learn-0.14.1.tar.gz (6.8Mb):   8%  548Kb\r  Downloading scikit-learn-0.14.1.tar.gz (6.8Mb):   8%  552Kb\r  Downloading scikit-learn-0.14.1.tar.gz (6.8Mb):   8%  557Kb\r  Downloading scikit-learn-0.14.1.tar.gz (6.8Mb):   8%  561Kb\r  Downloading scikit-learn-0.14.1.tar.gz (6.8Mb):   8%  565Kb\r  Downloading scikit-learn-0.14.1.tar.gz (6.8Mb):   8%  569Kb\r  Downloading scikit-learn-0.14.1.tar.gz (6.8Mb):   8%  573Kb\r  Downloading scikit-learn-0.14.1.tar.gz (6.8Mb):   8%  577Kb\r  Downloading scikit-learn-0.14.1.tar.gz (6.8Mb):   8%  581Kb\r  Downloading scikit-learn-0.14.1.tar.gz (6.8Mb):   8%  585Kb\r  Downloading scikit-learn-0.14.1.tar.gz (6.8Mb):   8%  589Kb\r  Downloading scikit-learn-0.14.1.tar.gz (6.8Mb):   8%  593Kb\r  Downloading scikit-learn-0.14.1.tar.gz (6.8Mb):   8%  598Kb\r  Downloading scikit-learn-0.14.1.tar.gz (6.8Mb):   8%  602Kb\r  Downloading scikit-learn-0.14.1.tar.gz (6.8Mb):   8%  606Kb\r  Downloading scikit-learn-0.14.1.tar.gz (6.8Mb):   8%  610Kb\r  Downloading scikit-learn-0.14.1.tar.gz (6.8Mb):   8%  614Kb\r  Downloading scikit-learn-0.14.1.tar.gz (6.8Mb):   9%  618Kb\r  Downloading scikit-learn-0.14.1.tar.gz (6.8Mb):   9%  622Kb\r  Downloading scikit-learn-0.14.1.tar.gz (6.8Mb):   9%  626Kb\r  Downloading scikit-learn-0.14.1.tar.gz (6.8Mb):   9%  630Kb\r  Downloading scikit-learn-0.14.1.tar.gz (6.8Mb):   9%  634Kb\r  Downloading scikit-learn-0.14.1.tar.gz (6.8Mb):   9%  638Kb\r  Downloading scikit-learn-0.14.1.tar.gz (6.8Mb):   9%  643Kb\r  Downloading scikit-learn-0.14.1.tar.gz (6.8Mb):   9%  647Kb\r  Downloading scikit-learn-0.14.1.tar.gz (6.8Mb):   9%  651Kb\r  Downloading scikit-learn-0.14.1.tar.gz (6.8Mb):   9%  655Kb\r  Downloading scikit-learn-0.14.1.tar.gz (6.8Mb):   9%  659Kb\r  Downloading scikit-learn-0.14.1.tar.gz (6.8Mb):   9%  663Kb\r  Downloading scikit-learn-0.14.1.tar.gz (6.8Mb):   9%  667Kb\r  Downloading scikit-learn-0.14.1.tar.gz (6.8Mb):   9%  671Kb\r  Downloading scikit-learn-0.14.1.tar.gz (6.8Mb):   9%  675Kb\r  Downloading scikit-learn-0.14.1.tar.gz (6.8Mb):   9%  679Kb\r  Downloading scikit-learn-0.14.1.tar.gz (6.8Mb):  10%  684Kb\r  Downloading scikit-learn-0.14.1.tar.gz (6.8Mb):  10%  688Kb\r  Downloading scikit-learn-0.14.1.tar.gz (6.8Mb):  10%  692Kb\r  Downloading scikit-learn-0.14.1.tar.gz (6.8Mb):  10%  696Kb\r  Downloading scikit-learn-0.14.1.tar.gz (6.8Mb):  10%  700Kb\r  Downloading scikit-learn-0.14.1.tar.gz (6.8Mb):  10%  704Kb\r  Downloading scikit-learn-0.14.1.tar.gz (6.8Mb):  10%  708Kb\r  Downloading scikit-learn-0.14.1.tar.gz (6.8Mb):  10%  712Kb\r  Downloading scikit-learn-0.14.1.tar.gz (6.8Mb):  10%  716Kb\r  Downloading scikit-learn-0.14.1.tar.gz (6.8Mb):  10%  720Kb\r  Downloading scikit-learn-0.14.1.tar.gz (6.8Mb):  10%  724Kb\r  Downloading scikit-learn-0.14.1.tar.gz (6.8Mb):  10%  729Kb\r  Downloading scikit-learn-0.14.1.tar.gz (6.8Mb):  10%  733Kb\r  Downloading scikit-learn-0.14.1.tar.gz (6.8Mb):  10%  737Kb\r  Downloading scikit-learn-0.14.1.tar.gz (6.8Mb):  10%  741Kb\r  Downloading scikit-learn-0.14.1.tar.gz (6.8Mb):  10%  745Kb\r  Downloading scikit-learn-0.14.1.tar.gz (6.8Mb):  10%  749Kb\r  Downloading scikit-learn-0.14.1.tar.gz (6.8Mb):  11%  753Kb\r  Downloading scikit-learn-0.14.1.tar.gz (6.8Mb):  11%  757Kb\r  Downloading scikit-learn-0.14.1.tar.gz (6.8Mb):  11%  761Kb\r  Downloading scikit-learn-0.14.1.tar.gz (6.8Mb):  11%  765Kb\r  Downloading scikit-learn-0.14.1.tar.gz (6.8Mb):  11%  770Kb\r  Downloading scikit-learn-0.14.1.tar.gz (6.8Mb):  11%  774Kb\r  Downloading scikit-learn-0.14.1.tar.gz (6.8Mb):  11%  778Kb\r  Downloading scikit-learn-0.14.1.tar.gz (6.8Mb):  11%  782Kb\r  Downloading scikit-learn-0.14.1.tar.gz (6.8Mb):  11%  786Kb\r  Downloading scikit-learn-0.14.1.tar.gz (6.8Mb):  11%  790Kb\r  Downloading scikit-learn-0.14.1.tar.gz (6.8Mb):  11%  794Kb\r  Downloading scikit-learn-0.14.1.tar.gz (6.8Mb):  11%  798Kb\r  Downloading scikit-learn-0.14.1.tar.gz (6.8Mb):  11%  802Kb\r  Downloading scikit-learn-0.14.1.tar.gz (6.8Mb):  11%  806Kb\r  Downloading scikit-learn-0.14.1.tar.gz (6.8Mb):  11%  811Kb\r  Downloading scikit-learn-0.14.1.tar.gz (6.8Mb):  11%  815Kb\r  Downloading scikit-learn-0.14.1.tar.gz (6.8Mb):  11%  819Kb\r  Downloading scikit-learn-0.14.1.tar.gz (6.8Mb):  12%  823Kb\r  Downloading scikit-learn-0.14.1.tar.gz (6.8Mb):  12%  827Kb\r  Downloading scikit-learn-0.14.1.tar.gz (6.8Mb):  12%  831Kb\r  Downloading scikit-learn-0.14.1.tar.gz (6.8Mb):  12%  835Kb\r  Downloading scikit-learn-0.14.1.tar.gz (6.8Mb):  12%  839Kb\r  Downloading scikit-learn-0.14.1.tar.gz (6.8Mb):  12%  843Kb\r  Downloading scikit-learn-0.14.1.tar.gz (6.8Mb):  12%  847Kb\r  Downloading scikit-learn-0.14.1.tar.gz (6.8Mb):  12%  851Kb\r  Downloading scikit-learn-0.14.1.tar.gz (6.8Mb):  12%  856Kb\r  Downloading scikit-learn-0.14.1.tar.gz (6.8Mb):  12%  860Kb"
      },
      {
       "output_type": "stream",
       "stream": "stdout",
       "text": "\r  Downloading scikit-learn-0.14.1.tar.gz (6.8Mb):  12%  864Kb\r  Downloading scikit-learn-0.14.1.tar.gz (6.8Mb):  12%  868Kb\r  Downloading scikit-learn-0.14.1.tar.gz (6.8Mb):  12%  872Kb\r  Downloading scikit-learn-0.14.1.tar.gz (6.8Mb):  12%  876Kb\r  Downloading scikit-learn-0.14.1.tar.gz (6.8Mb):  12%  880Kb\r  Downloading scikit-learn-0.14.1.tar.gz (6.8Mb):  12%  884Kb\r  Downloading scikit-learn-0.14.1.tar.gz (6.8Mb):  13%  888Kb\r  Downloading scikit-learn-0.14.1.tar.gz (6.8Mb):  13%  892Kb\r  Downloading scikit-learn-0.14.1.tar.gz (6.8Mb):  13%  897Kb\r  Downloading scikit-learn-0.14.1.tar.gz (6.8Mb):  13%  901Kb\r  Downloading scikit-learn-0.14.1.tar.gz (6.8Mb):  13%  905Kb\r  Downloading scikit-learn-0.14.1.tar.gz (6.8Mb):  13%  909Kb\r  Downloading scikit-learn-0.14.1.tar.gz (6.8Mb):  13%  913Kb\r  Downloading scikit-learn-0.14.1.tar.gz (6.8Mb):  13%  917Kb\r  Downloading scikit-learn-0.14.1.tar.gz (6.8Mb):  13%  921Kb\r  Downloading scikit-learn-0.14.1.tar.gz (6.8Mb):  13%  925Kb\r  Downloading scikit-learn-0.14.1.tar.gz (6.8Mb):  13%  929Kb\r  Downloading scikit-learn-0.14.1.tar.gz (6.8Mb):  13%  933Kb\r  Downloading scikit-learn-0.14.1.tar.gz (6.8Mb):  13%  937Kb\r  Downloading scikit-learn-0.14.1.tar.gz (6.8Mb):  13%  942Kb\r  Downloading scikit-learn-0.14.1.tar.gz (6.8Mb):  13%  946Kb\r  Downloading scikit-learn-0.14.1.tar.gz (6.8Mb):  13%  950Kb\r  Downloading scikit-learn-0.14.1.tar.gz (6.8Mb):  13%  954Kb\r  Downloading scikit-learn-0.14.1.tar.gz (6.8Mb):  14%  958Kb\r  Downloading scikit-learn-0.14.1.tar.gz (6.8Mb):  14%  962Kb\r  Downloading scikit-learn-0.14.1.tar.gz (6.8Mb):  14%  966Kb\r  Downloading scikit-learn-0.14.1.tar.gz (6.8Mb):  14%  970Kb\r  Downloading scikit-learn-0.14.1.tar.gz (6.8Mb):  14%  974Kb\r  Downloading scikit-learn-0.14.1.tar.gz (6.8Mb):  14%  978Kb\r  Downloading scikit-learn-0.14.1.tar.gz (6.8Mb):  14%  983Kb\r  Downloading scikit-learn-0.14.1.tar.gz (6.8Mb):  14%  987Kb\r  Downloading scikit-learn-0.14.1.tar.gz (6.8Mb):  14%  991Kb\r  Downloading scikit-learn-0.14.1.tar.gz (6.8Mb):  14%  995Kb\r  Downloading scikit-learn-0.14.1.tar.gz (6.8Mb):  14%  999Kb\r  Downloading scikit-learn-0.14.1.tar.gz (6.8Mb):  14%  1.0Mb\r  Downloading scikit-learn-0.14.1.tar.gz (6.8Mb):  14%  1.0Mb\r  Downloading scikit-learn-0.14.1.tar.gz (6.8Mb):  14%  1.0Mb\r  Downloading scikit-learn-0.14.1.tar.gz (6.8Mb):  14%  1.0Mb\r  Downloading scikit-learn-0.14.1.tar.gz (6.8Mb):  14%  1.0Mb\r  Downloading scikit-learn-0.14.1.tar.gz (6.8Mb):  14%  1.0Mb\r  Downloading scikit-learn-0.14.1.tar.gz (6.8Mb):  15%  1.0Mb\r  Downloading scikit-learn-0.14.1.tar.gz (6.8Mb):  15%  1.0Mb\r  Downloading scikit-learn-0.14.1.tar.gz (6.8Mb):  15%  1.0Mb\r  Downloading scikit-learn-0.14.1.tar.gz (6.8Mb):  15%  1.0Mb\r  Downloading scikit-learn-0.14.1.tar.gz (6.8Mb):  15%  1.0Mb\r  Downloading scikit-learn-0.14.1.tar.gz (6.8Mb):  15%  1.0Mb\r  Downloading scikit-learn-0.14.1.tar.gz (6.8Mb):  15%  1.1Mb\r  Downloading scikit-learn-0.14.1.tar.gz (6.8Mb):  15%  1.1Mb\r  Downloading scikit-learn-0.14.1.tar.gz (6.8Mb):  15%  1.1Mb\r  Downloading scikit-learn-0.14.1.tar.gz (6.8Mb):  15%  1.1Mb\r  Downloading scikit-learn-0.14.1.tar.gz (6.8Mb):  15%  1.1Mb\r  Downloading scikit-learn-0.14.1.tar.gz (6.8Mb):  15%  1.1Mb\r  Downloading scikit-learn-0.14.1.tar.gz (6.8Mb):  15%  1.1Mb\r  Downloading scikit-learn-0.14.1.tar.gz (6.8Mb):  15%  1.1Mb\r  Downloading scikit-learn-0.14.1.tar.gz (6.8Mb):  15%  1.1Mb\r  Downloading scikit-learn-0.14.1.tar.gz (6.8Mb):  15%  1.1Mb\r  Downloading scikit-learn-0.14.1.tar.gz (6.8Mb):  16%  1.1Mb\r  Downloading scikit-learn-0.14.1.tar.gz (6.8Mb):  16%  1.1Mb\r  Downloading scikit-learn-0.14.1.tar.gz (6.8Mb):  16%  1.1Mb\r  Downloading scikit-learn-0.14.1.tar.gz (6.8Mb):  16%  1.1Mb\r  Downloading scikit-learn-0.14.1.tar.gz (6.8Mb):  16%  1.1Mb\r  Downloading scikit-learn-0.14.1.tar.gz (6.8Mb):  16%  1.1Mb\r  Downloading scikit-learn-0.14.1.tar.gz (6.8Mb):  16%  1.1Mb\r  Downloading scikit-learn-0.14.1.tar.gz (6.8Mb):  16%  1.1Mb\r  Downloading scikit-learn-0.14.1.tar.gz (6.8Mb):  16%  1.1Mb\r  Downloading scikit-learn-0.14.1.tar.gz (6.8Mb):  16%  1.1Mb\r  Downloading scikit-learn-0.14.1.tar.gz (6.8Mb):  16%  1.1Mb\r  Downloading scikit-learn-0.14.1.tar.gz (6.8Mb):  16%  1.1Mb\r  Downloading scikit-learn-0.14.1.tar.gz (6.8Mb):  16%  1.1Mb\r  Downloading scikit-learn-0.14.1.tar.gz (6.8Mb):  16%  1.1Mb\r  Downloading scikit-learn-0.14.1.tar.gz (6.8Mb):  16%  1.2Mb\r  Downloading scikit-learn-0.14.1.tar.gz (6.8Mb):  16%  1.2Mb\r  Downloading scikit-learn-0.14.1.tar.gz (6.8Mb):  16%  1.2Mb\r  Downloading scikit-learn-0.14.1.tar.gz (6.8Mb):  17%  1.2Mb\r  Downloading scikit-learn-0.14.1.tar.gz (6.8Mb):  17%  1.2Mb\r  Downloading scikit-learn-0.14.1.tar.gz (6.8Mb):  17%  1.2Mb\r  Downloading scikit-learn-0.14.1.tar.gz (6.8Mb):  17%  1.2Mb\r  Downloading scikit-learn-0.14.1.tar.gz (6.8Mb):  17%  1.2Mb\r  Downloading scikit-learn-0.14.1.tar.gz (6.8Mb):  17%  1.2Mb\r  Downloading scikit-learn-0.14.1.tar.gz (6.8Mb):  17%  1.2Mb\r  Downloading scikit-learn-0.14.1.tar.gz (6.8Mb):  17%  1.2Mb\r  Downloading scikit-learn-0.14.1.tar.gz (6.8Mb):  17%  1.2Mb\r  Downloading scikit-learn-0.14.1.tar.gz (6.8Mb):  17%  1.2Mb\r  Downloading scikit-learn-0.14.1.tar.gz (6.8Mb):  17%  1.2Mb\r  Downloading scikit-learn-0.14.1.tar.gz (6.8Mb):  17%  1.2Mb\r  Downloading scikit-learn-0.14.1.tar.gz (6.8Mb):  17%  1.2Mb\r  Downloading scikit-learn-0.14.1.tar.gz (6.8Mb):  17%  1.2Mb\r  Downloading scikit-learn-0.14.1.tar.gz (6.8Mb):  17%  1.2Mb\r  Downloading scikit-learn-0.14.1.tar.gz (6.8Mb):  17%  1.2Mb\r  Downloading scikit-learn-0.14.1.tar.gz (6.8Mb):  17%  1.2Mb\r  Downloading scikit-learn-0.14.1.tar.gz (6.8Mb):  18%  1.2Mb\r  Downloading scikit-learn-0.14.1.tar.gz (6.8Mb):  18%  1.2Mb\r  Downloading scikit-learn-0.14.1.tar.gz (6.8Mb):  18%  1.2Mb\r  Downloading scikit-learn-0.14.1.tar.gz (6.8Mb):  18%  1.2Mb\r  Downloading scikit-learn-0.14.1.tar.gz (6.8Mb):  18%  1.2Mb\r  Downloading scikit-learn-0.14.1.tar.gz (6.8Mb):  18%  1.3Mb\r  Downloading scikit-learn-0.14.1.tar.gz (6.8Mb):  18%  1.3Mb\r  Downloading scikit-learn-0.14.1.tar.gz (6.8Mb):  18%  1.3Mb\r  Downloading scikit-learn-0.14.1.tar.gz (6.8Mb):  18%  1.3Mb\r  Downloading scikit-learn-0.14.1.tar.gz (6.8Mb):  18%  1.3Mb\r  Downloading scikit-learn-0.14.1.tar.gz (6.8Mb):  18%  1.3Mb\r  Downloading scikit-learn-0.14.1.tar.gz (6.8Mb):  18%  1.3Mb\r  Downloading scikit-learn-0.14.1.tar.gz (6.8Mb):  18%  1.3Mb\r  Downloading scikit-learn-0.14.1.tar.gz (6.8Mb):  18%  1.3Mb\r  Downloading scikit-learn-0.14.1.tar.gz (6.8Mb):  18%  1.3Mb\r  Downloading scikit-learn-0.14.1.tar.gz (6.8Mb):  18%  1.3Mb\r  Downloading scikit-learn-0.14.1.tar.gz (6.8Mb):  19%  1.3Mb\r  Downloading scikit-learn-0.14.1.tar.gz (6.8Mb):  19%  1.3Mb\r  Downloading scikit-learn-0.14.1.tar.gz (6.8Mb):  19%  1.3Mb\r  Downloading scikit-learn-0.14.1.tar.gz (6.8Mb):  19%  1.3Mb\r  Downloading scikit-learn-0.14.1.tar.gz (6.8Mb):  19%  1.3Mb\r  Downloading scikit-learn-0.14.1.tar.gz (6.8Mb):  19%  1.3Mb\r  Downloading scikit-learn-0.14.1.tar.gz (6.8Mb):  19%  1.3Mb\r  Downloading scikit-learn-0.14.1.tar.gz (6.8Mb):  19%  1.3Mb\r  Downloading scikit-learn-0.14.1.tar.gz (6.8Mb):  19%  1.3Mb\r  Downloading scikit-learn-0.14.1.tar.gz (6.8Mb):  19%  1.3Mb\r  Downloading scikit-learn-0.14.1.tar.gz (6.8Mb):  19%  1.3Mb\r  Downloading scikit-learn-0.14.1.tar.gz (6.8Mb):  19%  1.3Mb\r  Downloading scikit-learn-0.14.1.tar.gz (6.8Mb):  19%  1.3Mb\r  Downloading scikit-learn-0.14.1.tar.gz (6.8Mb):  19%  1.4Mb\r  Downloading scikit-learn-0.14.1.tar.gz (6.8Mb):  19%  1.4Mb\r  Downloading scikit-learn-0.14.1.tar.gz (6.8Mb):  19%  1.4Mb\r  Downloading scikit-learn-0.14.1.tar.gz (6.8Mb):  19%  1.4Mb\r  Downloading scikit-learn-0.14.1.tar.gz (6.8Mb):  20%  1.4Mb\r  Downloading scikit-learn-0.14.1.tar.gz (6.8Mb):  20%  1.4Mb\r  Downloading scikit-learn-0.14.1.tar.gz (6.8Mb):  20%  1.4Mb\r  Downloading scikit-learn-0.14.1.tar.gz (6.8Mb):  20%  1.4Mb\r  Downloading scikit-learn-0.14.1.tar.gz (6.8Mb):  20%  1.4Mb\r  Downloading scikit-learn-0.14.1.tar.gz (6.8Mb):  20%  1.4Mb\r  Downloading scikit-learn-0.14.1.tar.gz (6.8Mb):  20%  1.4Mb\r  Downloading scikit-learn-0.14.1.tar.gz (6.8Mb):  20%  1.4Mb\r  Downloading scikit-learn-0.14.1.tar.gz (6.8Mb):  20%  1.4Mb\r  Downloading scikit-learn-0.14.1.tar.gz (6.8Mb):  20%  1.4Mb\r  Downloading scikit-learn-0.14.1.tar.gz (6.8Mb):  20%  1.4Mb\r  Downloading scikit-learn-0.14.1.tar.gz (6.8Mb):  20%  1.4Mb\r  Downloading scikit-learn-0.14.1.tar.gz (6.8Mb):  20%  1.4Mb\r  Downloading scikit-learn-0.14.1.tar.gz (6.8Mb):  20%  1.4Mb\r  Downloading scikit-learn-0.14.1.tar.gz (6.8Mb):  20%  1.4Mb\r  Downloading scikit-learn-0.14.1.tar.gz (6.8Mb):  20%  1.4Mb\r  Downloading scikit-learn-0.14.1.tar.gz (6.8Mb):  20%  1.4Mb\r  Downloading scikit-learn-0.14.1.tar.gz (6.8Mb):  21%  1.4Mb\r  Downloading scikit-learn-0.14.1.tar.gz (6.8Mb):  21%  1.4Mb\r  Downloading scikit-learn-0.14.1.tar.gz (6.8Mb):  21%  1.4Mb\r  Downloading scikit-learn-0.14.1.tar.gz (6.8Mb):  21%  1.4Mb\r  Downloading scikit-learn-0.14.1.tar.gz (6.8Mb):  21%  1.5Mb\r  Downloading scikit-learn-0.14.1.tar.gz (6.8Mb):  21%  1.5Mb\r  Downloading scikit-learn-0.14.1.tar.gz (6.8Mb):  21%  1.5Mb\r  Downloading scikit-learn-0.14.1.tar.gz (6.8Mb):  21%  1.5Mb\r  Downloading scikit-learn-0.14.1.tar.gz (6.8Mb):  21%  1.5Mb\r  Downloading scikit-learn-0.14.1.tar.gz (6.8Mb):  21%  1.5Mb\r  Downloading scikit-learn-0.14.1.tar.gz (6.8Mb):  21%  1.5Mb\r  Downloading scikit-learn-0.14.1.tar.gz (6.8Mb):  21%  1.5Mb\r  Downloading scikit-learn-0.14.1.tar.gz (6.8Mb):  21%  1.5Mb\r  Downloading scikit-learn-0.14.1.tar.gz (6.8Mb):  21%  1.5Mb\r  Downloading scikit-learn-0.14.1.tar.gz (6.8Mb):  21%  1.5Mb\r  Downloading scikit-learn-0.14.1.tar.gz (6.8Mb):  21%  1.5Mb\r  Downloading scikit-learn-0.14.1.tar.gz (6.8Mb):  21%  1.5Mb\r  Downloading scikit-learn-0.14.1.tar.gz (6.8Mb):  22%  1.5Mb\r  Downloading scikit-learn-0.14.1.tar.gz (6.8Mb):  22%  1.5Mb\r  Downloading scikit-learn-0.14.1.tar.gz (6.8Mb):  22%  1.5Mb\r  Downloading scikit-learn-0.14.1.tar.gz (6.8Mb):  22%  1.5Mb\r  Downloading scikit-learn-0.14.1.tar.gz (6.8Mb):  22%  1.5Mb\r  Downloading scikit-learn-0.14.1.tar.gz (6.8Mb):  22%  1.5Mb\r  Downloading scikit-learn-0.14.1.tar.gz (6.8Mb):  22%  1.5Mb\r  Downloading scikit-learn-0.14.1.tar.gz (6.8Mb):  22%  1.5Mb\r  Downloading scikit-learn-0.14.1.tar.gz (6.8Mb):  22%  1.5Mb\r  Downloading scikit-learn-0.14.1.tar.gz (6.8Mb):  22%  1.5Mb\r  Downloading scikit-learn-0.14.1.tar.gz (6.8Mb):  22%  1.5Mb\r  Downloading scikit-learn-0.14.1.tar.gz (6.8Mb):  22%  1.6Mb\r  Downloading scikit-learn-0.14.1.tar.gz (6.8Mb):  22%  1.6Mb\r  Downloading scikit-learn-0.14.1.tar.gz (6.8Mb):  22%  1.6Mb\r  Downloading scikit-learn-0.14.1.tar.gz (6.8Mb):  22%  1.6Mb\r  Downloading scikit-learn-0.14.1.tar.gz (6.8Mb):  22%  1.6Mb\r  Downloading scikit-learn-0.14.1.tar.gz (6.8Mb):  23%  1.6Mb\r  Downloading scikit-learn-0.14.1.tar.gz (6.8Mb):  23%  1.6Mb\r  Downloading scikit-learn-0.14.1.tar.gz (6.8Mb):  23%  1.6Mb\r  Downloading scikit-learn-0.14.1.tar.gz (6.8Mb):  23%  1.6Mb\r  Downloading scikit-learn-0.14.1.tar.gz (6.8Mb):  23%  1.6Mb\r  Downloading scikit-learn-0.14.1.tar.gz (6.8Mb):  23%  1.6Mb\r  Downloading scikit-learn-0.14.1.tar.gz (6.8Mb):  23%  1.6Mb\r  Downloading scikit-learn-0.14.1.tar.gz (6.8Mb):  23%  1.6Mb\r  Downloading scikit-learn-0.14.1.tar.gz (6.8Mb):  23%  1.6Mb\r  Downloading scikit-learn-0.14.1.tar.gz (6.8Mb):  23%  1.6Mb\r  Downloading scikit-learn-0.14.1.tar.gz (6.8Mb):  23%  1.6Mb\r  Downloading scikit-learn-0.14.1.tar.gz (6.8Mb):  23%  1.6Mb\r  Downloading scikit-learn-0.14.1.tar.gz (6.8Mb):  23%  1.6Mb\r  Downloading scikit-learn-0.14.1.tar.gz (6.8Mb):  23%  1.6Mb\r  Downloading scikit-learn-0.14.1.tar.gz (6.8Mb):  23%  1.6Mb\r  Downloading scikit-learn-0.14.1.tar.gz (6.8Mb):  23%  1.6Mb\r  Downloading scikit-learn-0.14.1.tar.gz (6.8Mb):  23%  1.6Mb\r  Downloading scikit-learn-0.14.1.tar.gz (6.8Mb):  24%  1.6Mb\r  Downloading scikit-learn-0.14.1.tar.gz (6.8Mb):  24%  1.6Mb\r  Downloading scikit-learn-0.14.1.tar.gz (6.8Mb):  24%  1.7Mb\r  Downloading scikit-learn-0.14.1.tar.gz (6.8Mb):  24%  1.7Mb\r  Downloading scikit-learn-0.14.1.tar.gz (6.8Mb):  24%  1.7Mb\r  Downloading scikit-learn-0.14.1.tar.gz (6.8Mb):  24%  1.7Mb\r  Downloading scikit-learn-0.14.1.tar.gz (6.8Mb):  24%  1.7Mb\r  Downloading scikit-learn-0.14.1.tar.gz (6.8Mb):  24%  1.7Mb\r  Downloading scikit-learn-0.14.1.tar.gz (6.8Mb):  24%  1.7Mb\r  Downloading scikit-learn-0.14.1.tar.gz (6.8Mb):  24%  1.7Mb\r  Downloading scikit-learn-0.14.1.tar.gz (6.8Mb):  24%  1.7Mb\r  Downloading scikit-learn-0.14.1.tar.gz (6.8Mb):  24%  1.7Mb\r  Downloading scikit-learn-0.14.1.tar.gz (6.8Mb):  24%  1.7Mb\r  Downloading scikit-learn-0.14.1.tar.gz (6.8Mb):  24%  1.7Mb\r  Downloading scikit-learn-0.14.1.tar.gz (6.8Mb):  24%  1.7Mb\r  Downloading scikit-learn-0.14.1.tar.gz (6.8Mb):  24%  1.7Mb\r  Downloading scikit-learn-0.14.1.tar.gz (6.8Mb):  24%  1.7Mb\r  Downloading scikit-learn-0.14.1.tar.gz (6.8Mb):  25%  1.7Mb\r  Downloading scikit-learn-0.14.1.tar.gz (6.8Mb):  25%  1.7Mb\r  Downloading scikit-learn-0.14.1.tar.gz (6.8Mb):  25%  1.7Mb\r  Downloading scikit-learn-0.14.1.tar.gz (6.8Mb):  25%  1.7Mb\r  Downloading scikit-learn-0.14.1.tar.gz (6.8Mb):  25%  1.7Mb\r  Downloading scikit-learn-0.14.1.tar.gz (6.8Mb):  25%  1.7Mb\r  Downloading scikit-learn-0.14.1.tar.gz (6.8Mb):  25%  1.7Mb\r  Downloading scikit-learn-0.14.1.tar.gz (6.8Mb):  25%  1.7Mb\r  Downloading scikit-learn-0.14.1.tar.gz (6.8Mb):  25%  1.7Mb\r  Downloading scikit-learn-0.14.1.tar.gz (6.8Mb):  25%  1.7Mb\r  Downloading scikit-learn-0.14.1.tar.gz (6.8Mb):  25%  1.8Mb\r  Downloading scikit-learn-0.14.1.tar.gz (6.8Mb):  25%  1.8Mb\r  Downloading scikit-learn-0.14.1.tar.gz (6.8Mb):  25%  1.8Mb\r  Downloading scikit-learn-0.14.1.tar.gz (6.8Mb):  25%  1.8Mb\r  Downloading scikit-learn-0.14.1.tar.gz (6.8Mb):  25%  1.8Mb\r  Downloading scikit-learn-0.14.1.tar.gz (6.8Mb):  25%  1.8Mb\r  Downloading scikit-learn-0.14.1.tar.gz (6.8Mb):  26%  1.8Mb\r  Downloading scikit-learn-0.14.1.tar.gz (6.8Mb):  26%  1.8Mb\r  Downloading scikit-learn-0.14.1.tar.gz (6.8Mb):  26%  1.8Mb\r  Downloading scikit-learn-0.14.1.tar.gz (6.8Mb):  26%  1.8Mb\r  Downloading scikit-learn-0.14.1.tar.gz (6.8Mb):  26%  1.8Mb\r  Downloading scikit-learn-0.14.1.tar.gz (6.8Mb):  26%  1.8Mb\r  Downloading scikit-learn-0.14.1.tar.gz (6.8Mb):  26%  1.8Mb\r  Downloading scikit-learn-0.14.1.tar.gz (6.8Mb):  26%  1.8Mb\r  Downloading scikit-learn-0.14.1.tar.gz (6.8Mb):  26%  1.8Mb\r  Downloading scikit-learn-0.14.1.tar.gz (6.8Mb):  26%  1.8Mb\r  Downloading scikit-learn-0.14.1.tar.gz (6.8Mb):  26%  1.8Mb\r  Downloading scikit-learn-0.14.1.tar.gz (6.8Mb):  26%  1.8Mb\r  Downloading scikit-learn-0.14.1.tar.gz (6.8Mb):  26%  1.8Mb\r  Downloading scikit-learn-0.14.1.tar.gz (6.8Mb):  26%  1.8Mb\r  Downloading scikit-learn-0.14.1.tar.gz (6.8Mb):  26%  1.8Mb\r  Downloading scikit-learn-0.14.1.tar.gz (6.8Mb):  26%  1.8Mb\r  Downloading scikit-learn-0.14.1.tar.gz (6.8Mb):  26%  1.8Mb\r  Downloading scikit-learn-0.14.1.tar.gz (6.8Mb):  27%  1.8Mb\r  Downloading scikit-learn-0.14.1.tar.gz (6.8Mb):  27%  1.9Mb\r  Downloading scikit-learn-0.14.1.tar.gz (6.8Mb):  27%  1.9Mb\r  Downloading scikit-learn-0.14.1.tar.gz (6.8Mb):  27%  1.9Mb\r  Downloading scikit-learn-0.14.1.tar.gz (6.8Mb):  27%  1.9Mb\r  Downloading scikit-learn-0.14.1.tar.gz (6.8Mb):  27%  1.9Mb\r  Downloading scikit-learn-0.14.1.tar.gz (6.8Mb):  27%  1.9Mb\r  Downloading scikit-learn-0.14.1.tar.gz (6.8Mb):  27%  1.9Mb\r  Downloading scikit-learn-0.14.1.tar.gz (6.8Mb):  27%  1.9Mb\r  Downloading scikit-learn-0.14.1.tar.gz (6.8Mb):  27%  1.9Mb\r  Downloading scikit-learn-0.14.1.tar.gz (6.8Mb):  27%  1.9Mb\r  Downloading scikit-learn-0.14.1.tar.gz (6.8Mb):  27%  1.9Mb\r  Downloading scikit-learn-0.14.1.tar.gz (6.8Mb):  27%  1.9Mb\r  Downloading scikit-learn-0.14.1.tar.gz (6.8Mb):  27%  1.9Mb\r  Downloading scikit-learn-0.14.1.tar.gz (6.8Mb):  27%  1.9Mb\r  Downloading scikit-learn-0.14.1.tar.gz (6.8Mb):  27%  1.9Mb\r  Downloading scikit-learn-0.14.1.tar.gz (6.8Mb):  27%  1.9Mb\r  Downloading scikit-learn-0.14.1.tar.gz (6.8Mb):  28%  1.9Mb\r  Downloading scikit-learn-0.14.1.tar.gz (6.8Mb):  28%  1.9Mb\r  Downloading scikit-learn-0.14.1.tar.gz (6.8Mb):  28%  1.9Mb\r  Downloading scikit-learn-0.14.1.tar.gz (6.8Mb):  28%  1.9Mb\r  Downloading scikit-learn-0.14.1.tar.gz (6.8Mb):  28%  1.9Mb\r  Downloading scikit-learn-0.14.1.tar.gz (6.8Mb):  28%  1.9Mb\r  Downloading scikit-learn-0.14.1.tar.gz (6.8Mb):  28%  1.9Mb\r  Downloading scikit-learn-0.14.1.tar.gz (6.8Mb):  28%  1.9Mb\r  Downloading scikit-learn-0.14.1.tar.gz (6.8Mb):  28%  1.9Mb\r  Downloading scikit-learn-0.14.1.tar.gz (6.8Mb):  28%  2.0Mb\r  Downloading scikit-learn-0.14.1.tar.gz (6.8Mb):  28%  2.0Mb\r  Downloading scikit-learn-0.14.1.tar.gz (6.8Mb):  28%  2.0Mb\r  Downloading scikit-learn-0.14.1.tar.gz (6.8Mb):  28%  2.0Mb\r  Downloading scikit-learn-0.14.1.tar.gz (6.8Mb):  28%  2.0Mb\r  Downloading scikit-learn-0.14.1.tar.gz (6.8Mb):  28%  2.0Mb\r  Downloading scikit-learn-0.14.1.tar.gz (6.8Mb):  28%  2.0Mb\r  Downloading scikit-learn-0.14.1.tar.gz (6.8Mb):  29%  2.0Mb\r  Downloading scikit-learn-0.14.1.tar.gz (6.8Mb):  29%  2.0Mb\r  Downloading scikit-learn-0.14.1.tar.gz (6.8Mb):  29%  2.0Mb\r  Downloading scikit-learn-0.14.1.tar.gz (6.8Mb):  29%  2.0Mb\r  Downloading scikit-learn-0.14.1.tar.gz (6.8Mb):  29%  2.0Mb\r  Downloading scikit-learn-0.14.1.tar.gz (6.8Mb):  29%  2.0Mb\r  Downloading scikit-learn-0.14.1.tar.gz (6.8Mb):  29%  2.0Mb\r  Downloading scikit-learn-0.14.1.tar.gz (6.8Mb):  29%  2.0Mb\r  Downloading scikit-learn-0.14.1.tar.gz (6.8Mb):  29%  2.0Mb\r  Downloading scikit-learn-0.14.1.tar.gz (6.8Mb):  29%  2.0Mb\r  Downloading scikit-learn-0.14.1.tar.gz (6.8Mb):  29%  2.0Mb\r  Downloading scikit-learn-0.14.1.tar.gz (6.8Mb):  29%  2.0Mb\r  Downloading scikit-learn-0.14.1.tar.gz (6.8Mb):  29%  2.0Mb\r  Downloading scikit-learn-0.14.1.tar.gz (6.8Mb):  29%  2.0Mb\r  Downloading scikit-learn-0.14.1.tar.gz (6.8Mb):  29%  2.0Mb\r  Downloading scikit-learn-0.14.1.tar.gz (6.8Mb):  29%  2.0Mb\r  Downloading scikit-learn-0.14.1.tar.gz (6.8Mb):  29%  2.0Mb\r  Downloading scikit-learn-0.14.1.tar.gz (6.8Mb):  30%  2.1Mb\r  Downloading scikit-learn-0.14.1.tar.gz (6.8Mb):  30%  2.1Mb\r  Downloading scikit-learn-0.14.1.tar.gz (6.8Mb):  30%  2.1Mb\r  Downloading scikit-learn-0.14.1.tar.gz (6.8Mb):  30%  2.1Mb\r  Downloading scikit-learn-0.14.1.tar.gz (6.8Mb):  30%  2.1Mb\r  Downloading scikit-learn-0.14.1.tar.gz (6.8Mb):  30%  2.1Mb\r  Downloading scikit-learn-0.14.1.tar.gz (6.8Mb):  30%  2.1Mb\r  Downloading scikit-learn-0.14.1.tar.gz (6.8Mb):  30%  2.1Mb\r  Downloading scikit-learn-0.14.1.tar.gz (6.8Mb):  30%  2.1Mb\r  Downloading scikit-learn-0.14.1.tar.gz (6.8Mb):  30%  2.1Mb\r  Downloading scikit-learn-0.14.1.tar.gz (6.8Mb):  30%  2.1Mb\r  Downloading scikit-learn-0.14.1.tar.gz (6.8Mb):  30%  2.1Mb\r  Downloading scikit-learn-0.14.1.tar.gz (6.8Mb):  30%  2.1Mb\r  Downloading scikit-learn-0.14.1.tar.gz (6.8Mb):  30%  2.1Mb\r  Downloading scikit-learn-0.14.1.tar.gz (6.8Mb):  30%  2.1Mb\r  Downloading scikit-learn-0.14.1.tar.gz (6.8Mb):  30%  2.1Mb\r  Downloading scikit-learn-0.14.1.tar.gz (6.8Mb):  30%  2.1Mb\r  Downloading scikit-learn-0.14.1.tar.gz (6.8Mb):  31%  2.1Mb"
      },
      {
       "output_type": "stream",
       "stream": "stdout",
       "text": "\r  Downloading scikit-learn-0.14.1.tar.gz (6.8Mb):  31%  2.1Mb\r  Downloading scikit-learn-0.14.1.tar.gz (6.8Mb):  31%  2.1Mb\r  Downloading scikit-learn-0.14.1.tar.gz (6.8Mb):  31%  2.1Mb\r  Downloading scikit-learn-0.14.1.tar.gz (6.8Mb):  31%  2.1Mb\r  Downloading scikit-learn-0.14.1.tar.gz (6.8Mb):  31%  2.1Mb\r  Downloading scikit-learn-0.14.1.tar.gz (6.8Mb):  31%  2.1Mb\r  Downloading scikit-learn-0.14.1.tar.gz (6.8Mb):  31%  2.2Mb\r  Downloading scikit-learn-0.14.1.tar.gz (6.8Mb):  31%  2.2Mb\r  Downloading scikit-learn-0.14.1.tar.gz (6.8Mb):  31%  2.2Mb\r  Downloading scikit-learn-0.14.1.tar.gz (6.8Mb):  31%  2.2Mb\r  Downloading scikit-learn-0.14.1.tar.gz (6.8Mb):  31%  2.2Mb\r  Downloading scikit-learn-0.14.1.tar.gz (6.8Mb):  31%  2.2Mb\r  Downloading scikit-learn-0.14.1.tar.gz (6.8Mb):  31%  2.2Mb\r  Downloading scikit-learn-0.14.1.tar.gz (6.8Mb):  31%  2.2Mb\r  Downloading scikit-learn-0.14.1.tar.gz (6.8Mb):  31%  2.2Mb\r  Downloading scikit-learn-0.14.1.tar.gz (6.8Mb):  32%  2.2Mb\r  Downloading scikit-learn-0.14.1.tar.gz (6.8Mb):  32%  2.2Mb\r  Downloading scikit-learn-0.14.1.tar.gz (6.8Mb):  32%  2.2Mb\r  Downloading scikit-learn-0.14.1.tar.gz (6.8Mb):  32%  2.2Mb\r  Downloading scikit-learn-0.14.1.tar.gz (6.8Mb):  32%  2.2Mb\r  Downloading scikit-learn-0.14.1.tar.gz (6.8Mb):  32%  2.2Mb\r  Downloading scikit-learn-0.14.1.tar.gz (6.8Mb):  32%  2.2Mb\r  Downloading scikit-learn-0.14.1.tar.gz (6.8Mb):  32%  2.2Mb\r  Downloading scikit-learn-0.14.1.tar.gz (6.8Mb):  32%  2.2Mb\r  Downloading scikit-learn-0.14.1.tar.gz (6.8Mb):  32%  2.2Mb\r  Downloading scikit-learn-0.14.1.tar.gz (6.8Mb):  32%  2.2Mb\r  Downloading scikit-learn-0.14.1.tar.gz (6.8Mb):  32%  2.2Mb\r  Downloading scikit-learn-0.14.1.tar.gz (6.8Mb):  32%  2.2Mb\r  Downloading scikit-learn-0.14.1.tar.gz (6.8Mb):  32%  2.2Mb\r  Downloading scikit-learn-0.14.1.tar.gz (6.8Mb):  32%  2.2Mb\r  Downloading scikit-learn-0.14.1.tar.gz (6.8Mb):  32%  2.2Mb\r  Downloading scikit-learn-0.14.1.tar.gz (6.8Mb):  32%  2.3Mb\r  Downloading scikit-learn-0.14.1.tar.gz (6.8Mb):  33%  2.3Mb\r  Downloading scikit-learn-0.14.1.tar.gz (6.8Mb):  33%  2.3Mb\r  Downloading scikit-learn-0.14.1.tar.gz (6.8Mb):  33%  2.3Mb\r  Downloading scikit-learn-0.14.1.tar.gz (6.8Mb):  33%  2.3Mb\r  Downloading scikit-learn-0.14.1.tar.gz (6.8Mb):  33%  2.3Mb\r  Downloading scikit-learn-0.14.1.tar.gz (6.8Mb):  33%  2.3Mb\r  Downloading scikit-learn-0.14.1.tar.gz (6.8Mb):  33%  2.3Mb\r  Downloading scikit-learn-0.14.1.tar.gz (6.8Mb):  33%  2.3Mb\r  Downloading scikit-learn-0.14.1.tar.gz (6.8Mb):  33%  2.3Mb\r  Downloading scikit-learn-0.14.1.tar.gz (6.8Mb):  33%  2.3Mb\r  Downloading scikit-learn-0.14.1.tar.gz (6.8Mb):  33%  2.3Mb\r  Downloading scikit-learn-0.14.1.tar.gz (6.8Mb):  33%  2.3Mb\r  Downloading scikit-learn-0.14.1.tar.gz (6.8Mb):  33%  2.3Mb\r  Downloading scikit-learn-0.14.1.tar.gz (6.8Mb):  33%  2.3Mb\r  Downloading scikit-learn-0.14.1.tar.gz (6.8Mb):  33%  2.3Mb\r  Downloading scikit-learn-0.14.1.tar.gz (6.8Mb):  33%  2.3Mb\r  Downloading scikit-learn-0.14.1.tar.gz (6.8Mb):  33%  2.3Mb\r  Downloading scikit-learn-0.14.1.tar.gz (6.8Mb):  34%  2.3Mb\r  Downloading scikit-learn-0.14.1.tar.gz (6.8Mb):  34%  2.3Mb\r  Downloading scikit-learn-0.14.1.tar.gz (6.8Mb):  34%  2.3Mb\r  Downloading scikit-learn-0.14.1.tar.gz (6.8Mb):  34%  2.3Mb\r  Downloading scikit-learn-0.14.1.tar.gz (6.8Mb):  34%  2.3Mb\r  Downloading scikit-learn-0.14.1.tar.gz (6.8Mb):  34%  2.3Mb\r  Downloading scikit-learn-0.14.1.tar.gz (6.8Mb):  34%  2.4Mb\r  Downloading scikit-learn-0.14.1.tar.gz (6.8Mb):  34%  2.4Mb\r  Downloading scikit-learn-0.14.1.tar.gz (6.8Mb):  34%  2.4Mb\r  Downloading scikit-learn-0.14.1.tar.gz (6.8Mb):  34%  2.4Mb\r  Downloading scikit-learn-0.14.1.tar.gz (6.8Mb):  34%  2.4Mb\r  Downloading scikit-learn-0.14.1.tar.gz (6.8Mb):  34%  2.4Mb\r  Downloading scikit-learn-0.14.1.tar.gz (6.8Mb):  34%  2.4Mb\r  Downloading scikit-learn-0.14.1.tar.gz (6.8Mb):  34%  2.4Mb\r  Downloading scikit-learn-0.14.1.tar.gz (6.8Mb):  34%  2.4Mb\r  Downloading scikit-learn-0.14.1.tar.gz (6.8Mb):  34%  2.4Mb\r  Downloading scikit-learn-0.14.1.tar.gz (6.8Mb):  35%  2.4Mb\r  Downloading scikit-learn-0.14.1.tar.gz (6.8Mb):  35%  2.4Mb\r  Downloading scikit-learn-0.14.1.tar.gz (6.8Mb):  35%  2.4Mb\r  Downloading scikit-learn-0.14.1.tar.gz (6.8Mb):  35%  2.4Mb\r  Downloading scikit-learn-0.14.1.tar.gz (6.8Mb):  35%  2.4Mb\r  Downloading scikit-learn-0.14.1.tar.gz (6.8Mb):  35%  2.4Mb\r  Downloading scikit-learn-0.14.1.tar.gz (6.8Mb):  35%  2.4Mb\r  Downloading scikit-learn-0.14.1.tar.gz (6.8Mb):  35%  2.4Mb\r  Downloading scikit-learn-0.14.1.tar.gz (6.8Mb):  35%  2.4Mb\r  Downloading scikit-learn-0.14.1.tar.gz (6.8Mb):  35%  2.4Mb\r  Downloading scikit-learn-0.14.1.tar.gz (6.8Mb):  35%  2.4Mb\r  Downloading scikit-learn-0.14.1.tar.gz (6.8Mb):  35%  2.4Mb\r  Downloading scikit-learn-0.14.1.tar.gz (6.8Mb):  35%  2.4Mb\r  Downloading scikit-learn-0.14.1.tar.gz (6.8Mb):  35%  2.4Mb\r  Downloading scikit-learn-0.14.1.tar.gz (6.8Mb):  35%  2.4Mb\r  Downloading scikit-learn-0.14.1.tar.gz (6.8Mb):  35%  2.5Mb\r  Downloading scikit-learn-0.14.1.tar.gz (6.8Mb):  35%  2.5Mb\r  Downloading scikit-learn-0.14.1.tar.gz (6.8Mb):  36%  2.5Mb\r  Downloading scikit-learn-0.14.1.tar.gz (6.8Mb):  36%  2.5Mb\r  Downloading scikit-learn-0.14.1.tar.gz (6.8Mb):  36%  2.5Mb\r  Downloading scikit-learn-0.14.1.tar.gz (6.8Mb):  36%  2.5Mb\r  Downloading scikit-learn-0.14.1.tar.gz (6.8Mb):  36%  2.5Mb\r  Downloading scikit-learn-0.14.1.tar.gz (6.8Mb):  36%  2.5Mb\r  Downloading scikit-learn-0.14.1.tar.gz (6.8Mb):  36%  2.5Mb\r  Downloading scikit-learn-0.14.1.tar.gz (6.8Mb):  36%  2.5Mb\r  Downloading scikit-learn-0.14.1.tar.gz (6.8Mb):  36%  2.5Mb\r  Downloading scikit-learn-0.14.1.tar.gz (6.8Mb):  36%  2.5Mb\r  Downloading scikit-learn-0.14.1.tar.gz (6.8Mb):  36%  2.5Mb\r  Downloading scikit-learn-0.14.1.tar.gz (6.8Mb):  36%  2.5Mb\r  Downloading scikit-learn-0.14.1.tar.gz (6.8Mb):  36%  2.5Mb\r  Downloading scikit-learn-0.14.1.tar.gz (6.8Mb):  36%  2.5Mb\r  Downloading scikit-learn-0.14.1.tar.gz (6.8Mb):  36%  2.5Mb\r  Downloading scikit-learn-0.14.1.tar.gz (6.8Mb):  36%  2.5Mb\r  Downloading scikit-learn-0.14.1.tar.gz (6.8Mb):  36%  2.5Mb\r  Downloading scikit-learn-0.14.1.tar.gz (6.8Mb):  37%  2.5Mb\r  Downloading scikit-learn-0.14.1.tar.gz (6.8Mb):  37%  2.5Mb\r  Downloading scikit-learn-0.14.1.tar.gz (6.8Mb):  37%  2.5Mb\r  Downloading scikit-learn-0.14.1.tar.gz (6.8Mb):  37%  2.5Mb\r  Downloading scikit-learn-0.14.1.tar.gz (6.8Mb):  37%  2.5Mb\r  Downloading scikit-learn-0.14.1.tar.gz (6.8Mb):  37%  2.6Mb\r  Downloading scikit-learn-0.14.1.tar.gz (6.8Mb):  37%  2.6Mb\r  Downloading scikit-learn-0.14.1.tar.gz (6.8Mb):  37%  2.6Mb\r  Downloading scikit-learn-0.14.1.tar.gz (6.8Mb):  37%  2.6Mb\r  Downloading scikit-learn-0.14.1.tar.gz (6.8Mb):  37%  2.6Mb\r  Downloading scikit-learn-0.14.1.tar.gz (6.8Mb):  37%  2.6Mb\r  Downloading scikit-learn-0.14.1.tar.gz (6.8Mb):  37%  2.6Mb\r  Downloading scikit-learn-0.14.1.tar.gz (6.8Mb):  37%  2.6Mb\r  Downloading scikit-learn-0.14.1.tar.gz (6.8Mb):  37%  2.6Mb\r  Downloading scikit-learn-0.14.1.tar.gz (6.8Mb):  37%  2.6Mb\r  Downloading scikit-learn-0.14.1.tar.gz (6.8Mb):  37%  2.6Mb\r  Downloading scikit-learn-0.14.1.tar.gz (6.8Mb):  38%  2.6Mb\r  Downloading scikit-learn-0.14.1.tar.gz (6.8Mb):  38%  2.6Mb\r  Downloading scikit-learn-0.14.1.tar.gz (6.8Mb):  38%  2.6Mb\r  Downloading scikit-learn-0.14.1.tar.gz (6.8Mb):  38%  2.6Mb\r  Downloading scikit-learn-0.14.1.tar.gz (6.8Mb):  38%  2.6Mb\r  Downloading scikit-learn-0.14.1.tar.gz (6.8Mb):  38%  2.6Mb\r  Downloading scikit-learn-0.14.1.tar.gz (6.8Mb):  38%  2.6Mb\r  Downloading scikit-learn-0.14.1.tar.gz (6.8Mb):  38%  2.6Mb\r  Downloading scikit-learn-0.14.1.tar.gz (6.8Mb):  38%  2.6Mb\r  Downloading scikit-learn-0.14.1.tar.gz (6.8Mb):  38%  2.6Mb\r  Downloading scikit-learn-0.14.1.tar.gz (6.8Mb):  38%  2.6Mb\r  Downloading scikit-learn-0.14.1.tar.gz (6.8Mb):  38%  2.6Mb\r  Downloading scikit-learn-0.14.1.tar.gz (6.8Mb):  38%  2.6Mb\r  Downloading scikit-learn-0.14.1.tar.gz (6.8Mb):  38%  2.7Mb\r  Downloading scikit-learn-0.14.1.tar.gz (6.8Mb):  38%  2.7Mb\r  Downloading scikit-learn-0.14.1.tar.gz (6.8Mb):  38%  2.7Mb\r  Downloading scikit-learn-0.14.1.tar.gz (6.8Mb):  38%  2.7Mb\r  Downloading scikit-learn-0.14.1.tar.gz (6.8Mb):  39%  2.7Mb\r  Downloading scikit-learn-0.14.1.tar.gz (6.8Mb):  39%  2.7Mb\r  Downloading scikit-learn-0.14.1.tar.gz (6.8Mb):  39%  2.7Mb\r  Downloading scikit-learn-0.14.1.tar.gz (6.8Mb):  39%  2.7Mb\r  Downloading scikit-learn-0.14.1.tar.gz (6.8Mb):  39%  2.7Mb\r  Downloading scikit-learn-0.14.1.tar.gz (6.8Mb):  39%  2.7Mb\r  Downloading scikit-learn-0.14.1.tar.gz (6.8Mb):  39%  2.7Mb\r  Downloading scikit-learn-0.14.1.tar.gz (6.8Mb):  39%  2.7Mb\r  Downloading scikit-learn-0.14.1.tar.gz (6.8Mb):  39%  2.7Mb\r  Downloading scikit-learn-0.14.1.tar.gz (6.8Mb):  39%  2.7Mb\r  Downloading scikit-learn-0.14.1.tar.gz (6.8Mb):  39%  2.7Mb\r  Downloading scikit-learn-0.14.1.tar.gz (6.8Mb):  39%  2.7Mb\r  Downloading scikit-learn-0.14.1.tar.gz (6.8Mb):  39%  2.7Mb\r  Downloading scikit-learn-0.14.1.tar.gz (6.8Mb):  39%  2.7Mb\r  Downloading scikit-learn-0.14.1.tar.gz (6.8Mb):  39%  2.7Mb\r  Downloading scikit-learn-0.14.1.tar.gz (6.8Mb):  39%  2.7Mb\r  Downloading scikit-learn-0.14.1.tar.gz (6.8Mb):  39%  2.7Mb\r  Downloading scikit-learn-0.14.1.tar.gz (6.8Mb):  40%  2.7Mb\r  Downloading scikit-learn-0.14.1.tar.gz (6.8Mb):  40%  2.7Mb\r  Downloading scikit-learn-0.14.1.tar.gz (6.8Mb):  40%  2.7Mb\r  Downloading scikit-learn-0.14.1.tar.gz (6.8Mb):  40%  2.7Mb\r  Downloading scikit-learn-0.14.1.tar.gz (6.8Mb):  40%  2.8Mb\r  Downloading scikit-learn-0.14.1.tar.gz (6.8Mb):  40%  2.8Mb\r  Downloading scikit-learn-0.14.1.tar.gz (6.8Mb):  40%  2.8Mb\r  Downloading scikit-learn-0.14.1.tar.gz (6.8Mb):  40%  2.8Mb\r  Downloading scikit-learn-0.14.1.tar.gz (6.8Mb):  40%  2.8Mb\r  Downloading scikit-learn-0.14.1.tar.gz (6.8Mb):  40%  2.8Mb\r  Downloading scikit-learn-0.14.1.tar.gz (6.8Mb):  40%  2.8Mb\r  Downloading scikit-learn-0.14.1.tar.gz (6.8Mb):  40%  2.8Mb\r  Downloading scikit-learn-0.14.1.tar.gz (6.8Mb):  40%  2.8Mb\r  Downloading scikit-learn-0.14.1.tar.gz (6.8Mb):  40%  2.8Mb\r  Downloading scikit-learn-0.14.1.tar.gz (6.8Mb):  40%  2.8Mb\r  Downloading scikit-learn-0.14.1.tar.gz (6.8Mb):  40%  2.8Mb\r  Downloading scikit-learn-0.14.1.tar.gz (6.8Mb):  40%  2.8Mb\r  Downloading scikit-learn-0.14.1.tar.gz (6.8Mb):  41%  2.8Mb\r  Downloading scikit-learn-0.14.1.tar.gz (6.8Mb):  41%  2.8Mb\r  Downloading scikit-learn-0.14.1.tar.gz (6.8Mb):  41%  2.8Mb\r  Downloading scikit-learn-0.14.1.tar.gz (6.8Mb):  41%  2.8Mb\r  Downloading scikit-learn-0.14.1.tar.gz (6.8Mb):  41%  2.8Mb\r  Downloading scikit-learn-0.14.1.tar.gz (6.8Mb):  41%  2.8Mb\r  Downloading scikit-learn-0.14.1.tar.gz (6.8Mb):  41%  2.8Mb\r  Downloading scikit-learn-0.14.1.tar.gz (6.8Mb):  41%  2.8Mb\r  Downloading scikit-learn-0.14.1.tar.gz (6.8Mb):  41%  2.8Mb\r  Downloading scikit-learn-0.14.1.tar.gz (6.8Mb):  41%  2.8Mb\r  Downloading scikit-learn-0.14.1.tar.gz (6.8Mb):  41%  2.8Mb\r  Downloading scikit-learn-0.14.1.tar.gz (6.8Mb):  41%  2.9Mb\r  Downloading scikit-learn-0.14.1.tar.gz (6.8Mb):  41%  2.9Mb\r  Downloading scikit-learn-0.14.1.tar.gz (6.8Mb):  41%  2.9Mb\r  Downloading scikit-learn-0.14.1.tar.gz (6.8Mb):  41%  2.9Mb\r  Downloading scikit-learn-0.14.1.tar.gz (6.8Mb):  41%  2.9Mb\r  Downloading scikit-learn-0.14.1.tar.gz (6.8Mb):  42%  2.9Mb\r  Downloading scikit-learn-0.14.1.tar.gz (6.8Mb):  42%  2.9Mb\r  Downloading scikit-learn-0.14.1.tar.gz (6.8Mb):  42%  2.9Mb\r  Downloading scikit-learn-0.14.1.tar.gz (6.8Mb):  42%  2.9Mb\r  Downloading scikit-learn-0.14.1.tar.gz (6.8Mb):  42%  2.9Mb\r  Downloading scikit-learn-0.14.1.tar.gz (6.8Mb):  42%  2.9Mb\r  Downloading scikit-learn-0.14.1.tar.gz (6.8Mb):  42%  2.9Mb\r  Downloading scikit-learn-0.14.1.tar.gz (6.8Mb):  42%  2.9Mb\r  Downloading scikit-learn-0.14.1.tar.gz (6.8Mb):  42%  2.9Mb\r  Downloading scikit-learn-0.14.1.tar.gz (6.8Mb):  42%  2.9Mb\r  Downloading scikit-learn-0.14.1.tar.gz (6.8Mb):  42%  2.9Mb\r  Downloading scikit-learn-0.14.1.tar.gz (6.8Mb):  42%  2.9Mb\r  Downloading scikit-learn-0.14.1.tar.gz (6.8Mb):  42%  2.9Mb\r  Downloading scikit-learn-0.14.1.tar.gz (6.8Mb):  42%  2.9Mb\r  Downloading scikit-learn-0.14.1.tar.gz (6.8Mb):  42%  2.9Mb\r  Downloading scikit-learn-0.14.1.tar.gz (6.8Mb):  42%  2.9Mb\r  Downloading scikit-learn-0.14.1.tar.gz (6.8Mb):  42%  2.9Mb\r  Downloading scikit-learn-0.14.1.tar.gz (6.8Mb):  43%  2.9Mb\r  Downloading scikit-learn-0.14.1.tar.gz (6.8Mb):  43%  2.9Mb\r  Downloading scikit-learn-0.14.1.tar.gz (6.8Mb):  43%  2.9Mb\r  Downloading scikit-learn-0.14.1.tar.gz (6.8Mb):  43%  3.0Mb\r  Downloading scikit-learn-0.14.1.tar.gz (6.8Mb):  43%  3.0Mb\r  Downloading scikit-learn-0.14.1.tar.gz (6.8Mb):  43%  3.0Mb\r  Downloading scikit-learn-0.14.1.tar.gz (6.8Mb):  43%  3.0Mb\r  Downloading scikit-learn-0.14.1.tar.gz (6.8Mb):  43%  3.0Mb\r  Downloading scikit-learn-0.14.1.tar.gz (6.8Mb):  43%  3.0Mb\r  Downloading scikit-learn-0.14.1.tar.gz (6.8Mb):  43%  3.0Mb\r  Downloading scikit-learn-0.14.1.tar.gz (6.8Mb):  43%  3.0Mb\r  Downloading scikit-learn-0.14.1.tar.gz (6.8Mb):  43%  3.0Mb\r  Downloading scikit-learn-0.14.1.tar.gz (6.8Mb):  43%  3.0Mb\r  Downloading scikit-learn-0.14.1.tar.gz (6.8Mb):  43%  3.0Mb\r  Downloading scikit-learn-0.14.1.tar.gz (6.8Mb):  43%  3.0Mb\r  Downloading scikit-learn-0.14.1.tar.gz (6.8Mb):  43%  3.0Mb\r  Downloading scikit-learn-0.14.1.tar.gz (6.8Mb):  43%  3.0Mb\r  Downloading scikit-learn-0.14.1.tar.gz (6.8Mb):  44%  3.0Mb\r  Downloading scikit-learn-0.14.1.tar.gz (6.8Mb):  44%  3.0Mb\r  Downloading scikit-learn-0.14.1.tar.gz (6.8Mb):  44%  3.0Mb\r  Downloading scikit-learn-0.14.1.tar.gz (6.8Mb):  44%  3.0Mb\r  Downloading scikit-learn-0.14.1.tar.gz (6.8Mb):  44%  3.0Mb\r  Downloading scikit-learn-0.14.1.tar.gz (6.8Mb):  44%  3.0Mb\r  Downloading scikit-learn-0.14.1.tar.gz (6.8Mb):  44%  3.0Mb\r  Downloading scikit-learn-0.14.1.tar.gz (6.8Mb):  44%  3.0Mb\r  Downloading scikit-learn-0.14.1.tar.gz (6.8Mb):  44%  3.0Mb\r  Downloading scikit-learn-0.14.1.tar.gz (6.8Mb):  44%  3.0Mb\r  Downloading scikit-learn-0.14.1.tar.gz (6.8Mb):  44%  3.1Mb\r  Downloading scikit-learn-0.14.1.tar.gz (6.8Mb):  44%  3.1Mb\r  Downloading scikit-learn-0.14.1.tar.gz (6.8Mb):  44%  3.1Mb\r  Downloading scikit-learn-0.14.1.tar.gz (6.8Mb):  44%  3.1Mb\r  Downloading scikit-learn-0.14.1.tar.gz (6.8Mb):  44%  3.1Mb\r  Downloading scikit-learn-0.14.1.tar.gz (6.8Mb):  44%  3.1Mb\r  Downloading scikit-learn-0.14.1.tar.gz (6.8Mb):  45%  3.1Mb\r  Downloading scikit-learn-0.14.1.tar.gz (6.8Mb):  45%  3.1Mb\r  Downloading scikit-learn-0.14.1.tar.gz (6.8Mb):  45%  3.1Mb\r  Downloading scikit-learn-0.14.1.tar.gz (6.8Mb):  45%  3.1Mb\r  Downloading scikit-learn-0.14.1.tar.gz (6.8Mb):  45%  3.1Mb\r  Downloading scikit-learn-0.14.1.tar.gz (6.8Mb):  45%  3.1Mb\r  Downloading scikit-learn-0.14.1.tar.gz (6.8Mb):  45%  3.1Mb\r  Downloading scikit-learn-0.14.1.tar.gz (6.8Mb):  45%  3.1Mb\r  Downloading scikit-learn-0.14.1.tar.gz (6.8Mb):  45%  3.1Mb\r  Downloading scikit-learn-0.14.1.tar.gz (6.8Mb):  45%  3.1Mb\r  Downloading scikit-learn-0.14.1.tar.gz (6.8Mb):  45%  3.1Mb\r  Downloading scikit-learn-0.14.1.tar.gz (6.8Mb):  45%  3.1Mb\r  Downloading scikit-learn-0.14.1.tar.gz (6.8Mb):  45%  3.1Mb\r  Downloading scikit-learn-0.14.1.tar.gz (6.8Mb):  45%  3.1Mb\r  Downloading scikit-learn-0.14.1.tar.gz (6.8Mb):  45%  3.1Mb\r  Downloading scikit-learn-0.14.1.tar.gz (6.8Mb):  45%  3.1Mb\r  Downloading scikit-learn-0.14.1.tar.gz (6.8Mb):  45%  3.1Mb\r  Downloading scikit-learn-0.14.1.tar.gz (6.8Mb):  46%  3.1Mb\r  Downloading scikit-learn-0.14.1.tar.gz (6.8Mb):  46%  3.1Mb\r  Downloading scikit-learn-0.14.1.tar.gz (6.8Mb):  46%  3.2Mb\r  Downloading scikit-learn-0.14.1.tar.gz (6.8Mb):  46%  3.2Mb\r  Downloading scikit-learn-0.14.1.tar.gz (6.8Mb):  46%  3.2Mb\r  Downloading scikit-learn-0.14.1.tar.gz (6.8Mb):  46%  3.2Mb\r  Downloading scikit-learn-0.14.1.tar.gz (6.8Mb):  46%  3.2Mb\r  Downloading scikit-learn-0.14.1.tar.gz (6.8Mb):  46%  3.2Mb\r  Downloading scikit-learn-0.14.1.tar.gz (6.8Mb):  46%  3.2Mb\r  Downloading scikit-learn-0.14.1.tar.gz (6.8Mb):  46%  3.2Mb\r  Downloading scikit-learn-0.14.1.tar.gz (6.8Mb):  46%  3.2Mb\r  Downloading scikit-learn-0.14.1.tar.gz (6.8Mb):  46%  3.2Mb\r  Downloading scikit-learn-0.14.1.tar.gz (6.8Mb):  46%  3.2Mb\r  Downloading scikit-learn-0.14.1.tar.gz (6.8Mb):  46%  3.2Mb\r  Downloading scikit-learn-0.14.1.tar.gz (6.8Mb):  46%  3.2Mb\r  Downloading scikit-learn-0.14.1.tar.gz (6.8Mb):  46%  3.2Mb\r  Downloading scikit-learn-0.14.1.tar.gz (6.8Mb):  46%  3.2Mb\r  Downloading scikit-learn-0.14.1.tar.gz (6.8Mb):  47%  3.2Mb\r  Downloading scikit-learn-0.14.1.tar.gz (6.8Mb):  47%  3.2Mb\r  Downloading scikit-learn-0.14.1.tar.gz (6.8Mb):  47%  3.2Mb\r  Downloading scikit-learn-0.14.1.tar.gz (6.8Mb):  47%  3.2Mb\r  Downloading scikit-learn-0.14.1.tar.gz (6.8Mb):  47%  3.2Mb\r  Downloading scikit-learn-0.14.1.tar.gz (6.8Mb):  47%  3.2Mb\r  Downloading scikit-learn-0.14.1.tar.gz (6.8Mb):  47%  3.2Mb\r  Downloading scikit-learn-0.14.1.tar.gz (6.8Mb):  47%  3.2Mb\r  Downloading scikit-learn-0.14.1.tar.gz (6.8Mb):  47%  3.2Mb\r  Downloading scikit-learn-0.14.1.tar.gz (6.8Mb):  47%  3.3Mb\r  Downloading scikit-learn-0.14.1.tar.gz (6.8Mb):  47%  3.3Mb\r  Downloading scikit-learn-0.14.1.tar.gz (6.8Mb):  47%  3.3Mb\r  Downloading scikit-learn-0.14.1.tar.gz (6.8Mb):  47%  3.3Mb\r  Downloading scikit-learn-0.14.1.tar.gz (6.8Mb):  47%  3.3Mb\r  Downloading scikit-learn-0.14.1.tar.gz (6.8Mb):  47%  3.3Mb\r  Downloading scikit-learn-0.14.1.tar.gz (6.8Mb):  47%  3.3Mb\r  Downloading scikit-learn-0.14.1.tar.gz (6.8Mb):  48%  3.3Mb\r  Downloading scikit-learn-0.14.1.tar.gz (6.8Mb):  48%  3.3Mb\r  Downloading scikit-learn-0.14.1.tar.gz (6.8Mb):  48%  3.3Mb\r  Downloading scikit-learn-0.14.1.tar.gz (6.8Mb):  48%  3.3Mb\r  Downloading scikit-learn-0.14.1.tar.gz (6.8Mb):  48%  3.3Mb\r  Downloading scikit-learn-0.14.1.tar.gz (6.8Mb):  48%  3.3Mb\r  Downloading scikit-learn-0.14.1.tar.gz (6.8Mb):  48%  3.3Mb\r  Downloading scikit-learn-0.14.1.tar.gz (6.8Mb):  48%  3.3Mb\r  Downloading scikit-learn-0.14.1.tar.gz (6.8Mb):  48%  3.3Mb\r  Downloading scikit-learn-0.14.1.tar.gz (6.8Mb):  48%  3.3Mb\r  Downloading scikit-learn-0.14.1.tar.gz (6.8Mb):  48%  3.3Mb\r  Downloading scikit-learn-0.14.1.tar.gz (6.8Mb):  48%  3.3Mb\r  Downloading scikit-learn-0.14.1.tar.gz (6.8Mb):  48%  3.3Mb\r  Downloading scikit-learn-0.14.1.tar.gz (6.8Mb):  48%  3.3Mb\r  Downloading scikit-learn-0.14.1.tar.gz (6.8Mb):  48%  3.3Mb\r  Downloading scikit-learn-0.14.1.tar.gz (6.8Mb):  48%  3.3Mb\r  Downloading scikit-learn-0.14.1.tar.gz (6.8Mb):  48%  3.3Mb\r  Downloading scikit-learn-0.14.1.tar.gz (6.8Mb):  49%  3.4Mb\r  Downloading scikit-learn-0.14.1.tar.gz (6.8Mb):  49%  3.4Mb\r  Downloading scikit-learn-0.14.1.tar.gz (6.8Mb):  49%  3.4Mb\r  Downloading scikit-learn-0.14.1.tar.gz (6.8Mb):  49%  3.4Mb\r  Downloading scikit-learn-0.14.1.tar.gz (6.8Mb):  49%  3.4Mb\r  Downloading scikit-learn-0.14.1.tar.gz (6.8Mb):  49%  3.4Mb\r  Downloading scikit-learn-0.14.1.tar.gz (6.8Mb):  49%  3.4Mb\r  Downloading scikit-learn-0.14.1.tar.gz (6.8Mb):  49%  3.4Mb\r  Downloading scikit-learn-0.14.1.tar.gz (6.8Mb):  49%  3.4Mb\r  Downloading scikit-learn-0.14.1.tar.gz (6.8Mb):  49%  3.4Mb\r  Downloading scikit-learn-0.14.1.tar.gz (6.8Mb):  49%  3.4Mb\r  Downloading scikit-learn-0.14.1.tar.gz (6.8Mb):  49%  3.4Mb\r  Downloading scikit-learn-0.14.1.tar.gz (6.8Mb):  49%  3.4Mb\r  Downloading scikit-learn-0.14.1.tar.gz (6.8Mb):  49%  3.4Mb\r  Downloading scikit-learn-0.14.1.tar.gz (6.8Mb):  49%  3.4Mb\r  Downloading scikit-learn-0.14.1.tar.gz (6.8Mb):  49%  3.4Mb\r  Downloading scikit-learn-0.14.1.tar.gz (6.8Mb):  49%  3.4Mb\r  Downloading scikit-learn-0.14.1.tar.gz (6.8Mb):  50%  3.4Mb\r  Downloading scikit-learn-0.14.1.tar.gz (6.8Mb):  50%  3.4Mb\r  Downloading scikit-learn-0.14.1.tar.gz (6.8Mb):  50%  3.4Mb\r  Downloading scikit-learn-0.14.1.tar.gz (6.8Mb):  50%  3.4Mb\r  Downloading scikit-learn-0.14.1.tar.gz (6.8Mb):  50%  3.4Mb\r  Downloading scikit-learn-0.14.1.tar.gz (6.8Mb):  50%  3.4Mb\r  Downloading scikit-learn-0.14.1.tar.gz (6.8Mb):  50%  3.4Mb\r  Downloading scikit-learn-0.14.1.tar.gz (6.8Mb):  50%  3.4Mb\r  Downloading scikit-learn-0.14.1.tar.gz (6.8Mb):  50%  3.5Mb\r  Downloading scikit-learn-0.14.1.tar.gz (6.8Mb):  50%  3.5Mb\r  Downloading scikit-learn-0.14.1.tar.gz (6.8Mb):  50%  3.5Mb\r  Downloading scikit-learn-0.14.1.tar.gz (6.8Mb):  50%  3.5Mb\r  Downloading scikit-learn-0.14.1.tar.gz (6.8Mb):  50%  3.5Mb\r  Downloading scikit-learn-0.14.1.tar.gz (6.8Mb):  50%  3.5Mb\r  Downloading scikit-learn-0.14.1.tar.gz (6.8Mb):  50%  3.5Mb\r  Downloading scikit-learn-0.14.1.tar.gz (6.8Mb):  50%  3.5Mb\r  Downloading scikit-learn-0.14.1.tar.gz (6.8Mb):  51%  3.5Mb\r  Downloading scikit-learn-0.14.1.tar.gz (6.8Mb):  51%  3.5Mb\r  Downloading scikit-learn-0.14.1.tar.gz (6.8Mb):  51%  3.5Mb\r  Downloading scikit-learn-0.14.1.tar.gz (6.8Mb):  51%  3.5Mb\r  Downloading scikit-learn-0.14.1.tar.gz (6.8Mb):  51%  3.5Mb\r  Downloading scikit-learn-0.14.1.tar.gz (6.8Mb):  51%  3.5Mb\r  Downloading scikit-learn-0.14.1.tar.gz (6.8Mb):  51%  3.5Mb\r  Downloading scikit-learn-0.14.1.tar.gz (6.8Mb):  51%  3.5Mb\r  Downloading scikit-learn-0.14.1.tar.gz (6.8Mb):  51%  3.5Mb\r  Downloading scikit-learn-0.14.1.tar.gz (6.8Mb):  51%  3.5Mb"
      },
      {
       "output_type": "stream",
       "stream": "stdout",
       "text": "\r  Downloading scikit-learn-0.14.1.tar.gz (6.8Mb):  51%  3.5Mb\r  Downloading scikit-learn-0.14.1.tar.gz (6.8Mb):  51%  3.5Mb\r  Downloading scikit-learn-0.14.1.tar.gz (6.8Mb):  51%  3.5Mb\r  Downloading scikit-learn-0.14.1.tar.gz (6.8Mb):  51%  3.5Mb\r  Downloading scikit-learn-0.14.1.tar.gz (6.8Mb):  51%  3.5Mb\r  Downloading scikit-learn-0.14.1.tar.gz (6.8Mb):  51%  3.5Mb\r  Downloading scikit-learn-0.14.1.tar.gz (6.8Mb):  51%  3.6Mb\r  Downloading scikit-learn-0.14.1.tar.gz (6.8Mb):  52%  3.6Mb\r  Downloading scikit-learn-0.14.1.tar.gz (6.8Mb):  52%  3.6Mb\r  Downloading scikit-learn-0.14.1.tar.gz (6.8Mb):  52%  3.6Mb\r  Downloading scikit-learn-0.14.1.tar.gz (6.8Mb):  52%  3.6Mb\r  Downloading scikit-learn-0.14.1.tar.gz (6.8Mb):  52%  3.6Mb\r  Downloading scikit-learn-0.14.1.tar.gz (6.8Mb):  52%  3.6Mb\r  Downloading scikit-learn-0.14.1.tar.gz (6.8Mb):  52%  3.6Mb\r  Downloading scikit-learn-0.14.1.tar.gz (6.8Mb):  52%  3.6Mb\r  Downloading scikit-learn-0.14.1.tar.gz (6.8Mb):  52%  3.6Mb\r  Downloading scikit-learn-0.14.1.tar.gz (6.8Mb):  52%  3.6Mb\r  Downloading scikit-learn-0.14.1.tar.gz (6.8Mb):  52%  3.6Mb\r  Downloading scikit-learn-0.14.1.tar.gz (6.8Mb):  52%  3.6Mb\r  Downloading scikit-learn-0.14.1.tar.gz (6.8Mb):  52%  3.6Mb\r  Downloading scikit-learn-0.14.1.tar.gz (6.8Mb):  52%  3.6Mb\r  Downloading scikit-learn-0.14.1.tar.gz (6.8Mb):  52%  3.6Mb\r  Downloading scikit-learn-0.14.1.tar.gz (6.8Mb):  52%  3.6Mb\r  Downloading scikit-learn-0.14.1.tar.gz (6.8Mb):  52%  3.6Mb\r  Downloading scikit-learn-0.14.1.tar.gz (6.8Mb):  53%  3.6Mb\r  Downloading scikit-learn-0.14.1.tar.gz (6.8Mb):  53%  3.6Mb\r  Downloading scikit-learn-0.14.1.tar.gz (6.8Mb):  53%  3.6Mb\r  Downloading scikit-learn-0.14.1.tar.gz (6.8Mb):  53%  3.6Mb\r  Downloading scikit-learn-0.14.1.tar.gz (6.8Mb):  53%  3.6Mb\r  Downloading scikit-learn-0.14.1.tar.gz (6.8Mb):  53%  3.6Mb\r  Downloading scikit-learn-0.14.1.tar.gz (6.8Mb):  53%  3.6Mb\r  Downloading scikit-learn-0.14.1.tar.gz (6.8Mb):  53%  3.7Mb\r  Downloading scikit-learn-0.14.1.tar.gz (6.8Mb):  53%  3.7Mb\r  Downloading scikit-learn-0.14.1.tar.gz (6.8Mb):  53%  3.7Mb\r  Downloading scikit-learn-0.14.1.tar.gz (6.8Mb):  53%  3.7Mb\r  Downloading scikit-learn-0.14.1.tar.gz (6.8Mb):  53%  3.7Mb\r  Downloading scikit-learn-0.14.1.tar.gz (6.8Mb):  53%  3.7Mb\r  Downloading scikit-learn-0.14.1.tar.gz (6.8Mb):  53%  3.7Mb\r  Downloading scikit-learn-0.14.1.tar.gz (6.8Mb):  53%  3.7Mb\r  Downloading scikit-learn-0.14.1.tar.gz (6.8Mb):  53%  3.7Mb\r  Downloading scikit-learn-0.14.1.tar.gz (6.8Mb):  54%  3.7Mb\r  Downloading scikit-learn-0.14.1.tar.gz (6.8Mb):  54%  3.7Mb\r  Downloading scikit-learn-0.14.1.tar.gz (6.8Mb):  54%  3.7Mb\r  Downloading scikit-learn-0.14.1.tar.gz (6.8Mb):  54%  3.7Mb\r  Downloading scikit-learn-0.14.1.tar.gz (6.8Mb):  54%  3.7Mb\r  Downloading scikit-learn-0.14.1.tar.gz (6.8Mb):  54%  3.7Mb\r  Downloading scikit-learn-0.14.1.tar.gz (6.8Mb):  54%  3.7Mb\r  Downloading scikit-learn-0.14.1.tar.gz (6.8Mb):  54%  3.7Mb\r  Downloading scikit-learn-0.14.1.tar.gz (6.8Mb):  54%  3.7Mb\r  Downloading scikit-learn-0.14.1.tar.gz (6.8Mb):  54%  3.7Mb\r  Downloading scikit-learn-0.14.1.tar.gz (6.8Mb):  54%  3.7Mb\r  Downloading scikit-learn-0.14.1.tar.gz (6.8Mb):  54%  3.7Mb\r  Downloading scikit-learn-0.14.1.tar.gz (6.8Mb):  54%  3.7Mb\r  Downloading scikit-learn-0.14.1.tar.gz (6.8Mb):  54%  3.7Mb\r  Downloading scikit-learn-0.14.1.tar.gz (6.8Mb):  54%  3.7Mb\r  Downloading scikit-learn-0.14.1.tar.gz (6.8Mb):  54%  3.8Mb\r  Downloading scikit-learn-0.14.1.tar.gz (6.8Mb):  54%  3.8Mb\r  Downloading scikit-learn-0.14.1.tar.gz (6.8Mb):  55%  3.8Mb\r  Downloading scikit-learn-0.14.1.tar.gz (6.8Mb):  55%  3.8Mb\r  Downloading scikit-learn-0.14.1.tar.gz (6.8Mb):  55%  3.8Mb\r  Downloading scikit-learn-0.14.1.tar.gz (6.8Mb):  55%  3.8Mb\r  Downloading scikit-learn-0.14.1.tar.gz (6.8Mb):  55%  3.8Mb\r  Downloading scikit-learn-0.14.1.tar.gz (6.8Mb):  55%  3.8Mb\r  Downloading scikit-learn-0.14.1.tar.gz (6.8Mb):  55%  3.8Mb\r  Downloading scikit-learn-0.14.1.tar.gz (6.8Mb):  55%  3.8Mb\r  Downloading scikit-learn-0.14.1.tar.gz (6.8Mb):  55%  3.8Mb\r  Downloading scikit-learn-0.14.1.tar.gz (6.8Mb):  55%  3.8Mb\r  Downloading scikit-learn-0.14.1.tar.gz (6.8Mb):  55%  3.8Mb\r  Downloading scikit-learn-0.14.1.tar.gz (6.8Mb):  55%  3.8Mb\r  Downloading scikit-learn-0.14.1.tar.gz (6.8Mb):  55%  3.8Mb\r  Downloading scikit-learn-0.14.1.tar.gz (6.8Mb):  55%  3.8Mb\r  Downloading scikit-learn-0.14.1.tar.gz (6.8Mb):  55%  3.8Mb\r  Downloading scikit-learn-0.14.1.tar.gz (6.8Mb):  55%  3.8Mb\r  Downloading scikit-learn-0.14.1.tar.gz (6.8Mb):  55%  3.8Mb\r  Downloading scikit-learn-0.14.1.tar.gz (6.8Mb):  56%  3.8Mb\r  Downloading scikit-learn-0.14.1.tar.gz (6.8Mb):  56%  3.8Mb\r  Downloading scikit-learn-0.14.1.tar.gz (6.8Mb):  56%  3.8Mb\r  Downloading scikit-learn-0.14.1.tar.gz (6.8Mb):  56%  3.8Mb\r  Downloading scikit-learn-0.14.1.tar.gz (6.8Mb):  56%  3.8Mb\r  Downloading scikit-learn-0.14.1.tar.gz (6.8Mb):  56%  3.9Mb\r  Downloading scikit-learn-0.14.1.tar.gz (6.8Mb):  56%  3.9Mb\r  Downloading scikit-learn-0.14.1.tar.gz (6.8Mb):  56%  3.9Mb\r  Downloading scikit-learn-0.14.1.tar.gz (6.8Mb):  56%  3.9Mb\r  Downloading scikit-learn-0.14.1.tar.gz (6.8Mb):  56%  3.9Mb\r  Downloading scikit-learn-0.14.1.tar.gz (6.8Mb):  56%  3.9Mb\r  Downloading scikit-learn-0.14.1.tar.gz (6.8Mb):  56%  3.9Mb\r  Downloading scikit-learn-0.14.1.tar.gz (6.8Mb):  56%  3.9Mb\r  Downloading scikit-learn-0.14.1.tar.gz (6.8Mb):  56%  3.9Mb\r  Downloading scikit-learn-0.14.1.tar.gz (6.8Mb):  56%  3.9Mb\r  Downloading scikit-learn-0.14.1.tar.gz (6.8Mb):  56%  3.9Mb\r  Downloading scikit-learn-0.14.1.tar.gz (6.8Mb):  57%  3.9Mb\r  Downloading scikit-learn-0.14.1.tar.gz (6.8Mb):  57%  3.9Mb\r  Downloading scikit-learn-0.14.1.tar.gz (6.8Mb):  57%  3.9Mb\r  Downloading scikit-learn-0.14.1.tar.gz (6.8Mb):  57%  3.9Mb\r  Downloading scikit-learn-0.14.1.tar.gz (6.8Mb):  57%  3.9Mb\r  Downloading scikit-learn-0.14.1.tar.gz (6.8Mb):  57%  3.9Mb\r  Downloading scikit-learn-0.14.1.tar.gz (6.8Mb):  57%  3.9Mb\r  Downloading scikit-learn-0.14.1.tar.gz (6.8Mb):  57%  3.9Mb\r  Downloading scikit-learn-0.14.1.tar.gz (6.8Mb):  57%  3.9Mb\r  Downloading scikit-learn-0.14.1.tar.gz (6.8Mb):  57%  3.9Mb\r  Downloading scikit-learn-0.14.1.tar.gz (6.8Mb):  57%  3.9Mb\r  Downloading scikit-learn-0.14.1.tar.gz (6.8Mb):  57%  3.9Mb\r  Downloading scikit-learn-0.14.1.tar.gz (6.8Mb):  57%  3.9Mb\r  Downloading scikit-learn-0.14.1.tar.gz (6.8Mb):  57%  3.9Mb\r  Downloading scikit-learn-0.14.1.tar.gz (6.8Mb):  57%  4.0Mb\r  Downloading scikit-learn-0.14.1.tar.gz (6.8Mb):  57%  4.0Mb\r  Downloading scikit-learn-0.14.1.tar.gz (6.8Mb):  57%  4.0Mb\r  Downloading scikit-learn-0.14.1.tar.gz (6.8Mb):  58%  4.0Mb\r  Downloading scikit-learn-0.14.1.tar.gz (6.8Mb):  58%  4.0Mb\r  Downloading scikit-learn-0.14.1.tar.gz (6.8Mb):  58%  4.0Mb\r  Downloading scikit-learn-0.14.1.tar.gz (6.8Mb):  58%  4.0Mb\r  Downloading scikit-learn-0.14.1.tar.gz (6.8Mb):  58%  4.0Mb\r  Downloading scikit-learn-0.14.1.tar.gz (6.8Mb):  58%  4.0Mb\r  Downloading scikit-learn-0.14.1.tar.gz (6.8Mb):  58%  4.0Mb\r  Downloading scikit-learn-0.14.1.tar.gz (6.8Mb):  58%  4.0Mb\r  Downloading scikit-learn-0.14.1.tar.gz (6.8Mb):  58%  4.0Mb\r  Downloading scikit-learn-0.14.1.tar.gz (6.8Mb):  58%  4.0Mb\r  Downloading scikit-learn-0.14.1.tar.gz (6.8Mb):  58%  4.0Mb\r  Downloading scikit-learn-0.14.1.tar.gz (6.8Mb):  58%  4.0Mb\r  Downloading scikit-learn-0.14.1.tar.gz (6.8Mb):  58%  4.0Mb\r  Downloading scikit-learn-0.14.1.tar.gz (6.8Mb):  58%  4.0Mb\r  Downloading scikit-learn-0.14.1.tar.gz (6.8Mb):  58%  4.0Mb\r  Downloading scikit-learn-0.14.1.tar.gz (6.8Mb):  58%  4.0Mb\r  Downloading scikit-learn-0.14.1.tar.gz (6.8Mb):  58%  4.0Mb\r  Downloading scikit-learn-0.14.1.tar.gz (6.8Mb):  59%  4.0Mb\r  Downloading scikit-learn-0.14.1.tar.gz (6.8Mb):  59%  4.0Mb\r  Downloading scikit-learn-0.14.1.tar.gz (6.8Mb):  59%  4.0Mb\r  Downloading scikit-learn-0.14.1.tar.gz (6.8Mb):  59%  4.0Mb\r  Downloading scikit-learn-0.14.1.tar.gz (6.8Mb):  59%  4.1Mb\r  Downloading scikit-learn-0.14.1.tar.gz (6.8Mb):  59%  4.1Mb\r  Downloading scikit-learn-0.14.1.tar.gz (6.8Mb):  59%  4.1Mb\r  Downloading scikit-learn-0.14.1.tar.gz (6.8Mb):  59%  4.1Mb\r  Downloading scikit-learn-0.14.1.tar.gz (6.8Mb):  59%  4.1Mb\r  Downloading scikit-learn-0.14.1.tar.gz (6.8Mb):  59%  4.1Mb\r  Downloading scikit-learn-0.14.1.tar.gz (6.8Mb):  59%  4.1Mb\r  Downloading scikit-learn-0.14.1.tar.gz (6.8Mb):  59%  4.1Mb\r  Downloading scikit-learn-0.14.1.tar.gz (6.8Mb):  59%  4.1Mb\r  Downloading scikit-learn-0.14.1.tar.gz (6.8Mb):  59%  4.1Mb\r  Downloading scikit-learn-0.14.1.tar.gz (6.8Mb):  59%  4.1Mb\r  Downloading scikit-learn-0.14.1.tar.gz (6.8Mb):  59%  4.1Mb\r  Downloading scikit-learn-0.14.1.tar.gz (6.8Mb):  59%  4.1Mb\r  Downloading scikit-learn-0.14.1.tar.gz (6.8Mb):  60%  4.1Mb\r  Downloading scikit-learn-0.14.1.tar.gz (6.8Mb):  60%  4.1Mb\r  Downloading scikit-learn-0.14.1.tar.gz (6.8Mb):  60%  4.1Mb\r  Downloading scikit-learn-0.14.1.tar.gz (6.8Mb):  60%  4.1Mb\r  Downloading scikit-learn-0.14.1.tar.gz (6.8Mb):  60%  4.1Mb\r  Downloading scikit-learn-0.14.1.tar.gz (6.8Mb):  60%  4.1Mb\r  Downloading scikit-learn-0.14.1.tar.gz (6.8Mb):  60%  4.1Mb\r  Downloading scikit-learn-0.14.1.tar.gz (6.8Mb):  60%  4.1Mb\r  Downloading scikit-learn-0.14.1.tar.gz (6.8Mb):  60%  4.1Mb\r  Downloading scikit-learn-0.14.1.tar.gz (6.8Mb):  60%  4.1Mb\r  Downloading scikit-learn-0.14.1.tar.gz (6.8Mb):  60%  4.1Mb\r  Downloading scikit-learn-0.14.1.tar.gz (6.8Mb):  60%  4.1Mb\r  Downloading scikit-learn-0.14.1.tar.gz (6.8Mb):  60%  4.2Mb\r  Downloading scikit-learn-0.14.1.tar.gz (6.8Mb):  60%  4.2Mb\r  Downloading scikit-learn-0.14.1.tar.gz (6.8Mb):  60%  4.2Mb\r  Downloading scikit-learn-0.14.1.tar.gz (6.8Mb):  60%  4.2Mb\r  Downloading scikit-learn-0.14.1.tar.gz (6.8Mb):  61%  4.2Mb\r  Downloading scikit-learn-0.14.1.tar.gz (6.8Mb):  61%  4.2Mb\r  Downloading scikit-learn-0.14.1.tar.gz (6.8Mb):  61%  4.2Mb\r  Downloading scikit-learn-0.14.1.tar.gz (6.8Mb):  61%  4.2Mb\r  Downloading scikit-learn-0.14.1.tar.gz (6.8Mb):  61%  4.2Mb\r  Downloading scikit-learn-0.14.1.tar.gz (6.8Mb):  61%  4.2Mb\r  Downloading scikit-learn-0.14.1.tar.gz (6.8Mb):  61%  4.2Mb\r  Downloading scikit-learn-0.14.1.tar.gz (6.8Mb):  61%  4.2Mb\r  Downloading scikit-learn-0.14.1.tar.gz (6.8Mb):  61%  4.2Mb\r  Downloading scikit-learn-0.14.1.tar.gz (6.8Mb):  61%  4.2Mb\r  Downloading scikit-learn-0.14.1.tar.gz (6.8Mb):  61%  4.2Mb\r  Downloading scikit-learn-0.14.1.tar.gz (6.8Mb):  61%  4.2Mb\r  Downloading scikit-learn-0.14.1.tar.gz (6.8Mb):  61%  4.2Mb\r  Downloading scikit-learn-0.14.1.tar.gz (6.8Mb):  61%  4.2Mb\r  Downloading scikit-learn-0.14.1.tar.gz (6.8Mb):  61%  4.2Mb\r  Downloading scikit-learn-0.14.1.tar.gz (6.8Mb):  61%  4.2Mb\r  Downloading scikit-learn-0.14.1.tar.gz (6.8Mb):  61%  4.2Mb\r  Downloading scikit-learn-0.14.1.tar.gz (6.8Mb):  62%  4.2Mb\r  Downloading scikit-learn-0.14.1.tar.gz (6.8Mb):  62%  4.2Mb\r  Downloading scikit-learn-0.14.1.tar.gz (6.8Mb):  62%  4.2Mb\r  Downloading scikit-learn-0.14.1.tar.gz (6.8Mb):  62%  4.3Mb\r  Downloading scikit-learn-0.14.1.tar.gz (6.8Mb):  62%  4.3Mb\r  Downloading scikit-learn-0.14.1.tar.gz (6.8Mb):  62%  4.3Mb\r  Downloading scikit-learn-0.14.1.tar.gz (6.8Mb):  62%  4.3Mb\r  Downloading scikit-learn-0.14.1.tar.gz (6.8Mb):  62%  4.3Mb\r  Downloading scikit-learn-0.14.1.tar.gz (6.8Mb):  62%  4.3Mb\r  Downloading scikit-learn-0.14.1.tar.gz (6.8Mb):  62%  4.3Mb\r  Downloading scikit-learn-0.14.1.tar.gz (6.8Mb):  62%  4.3Mb\r  Downloading scikit-learn-0.14.1.tar.gz (6.8Mb):  62%  4.3Mb\r  Downloading scikit-learn-0.14.1.tar.gz (6.8Mb):  62%  4.3Mb\r  Downloading scikit-learn-0.14.1.tar.gz (6.8Mb):  62%  4.3Mb\r  Downloading scikit-learn-0.14.1.tar.gz (6.8Mb):  62%  4.3Mb\r  Downloading scikit-learn-0.14.1.tar.gz (6.8Mb):  62%  4.3Mb\r  Downloading scikit-learn-0.14.1.tar.gz (6.8Mb):  62%  4.3Mb\r  Downloading scikit-learn-0.14.1.tar.gz (6.8Mb):  63%  4.3Mb\r  Downloading scikit-learn-0.14.1.tar.gz (6.8Mb):  63%  4.3Mb\r  Downloading scikit-learn-0.14.1.tar.gz (6.8Mb):  63%  4.3Mb\r  Downloading scikit-learn-0.14.1.tar.gz (6.8Mb):  63%  4.3Mb\r  Downloading scikit-learn-0.14.1.tar.gz (6.8Mb):  63%  4.3Mb\r  Downloading scikit-learn-0.14.1.tar.gz (6.8Mb):  63%  4.3Mb\r  Downloading scikit-learn-0.14.1.tar.gz (6.8Mb):  63%  4.3Mb\r  Downloading scikit-learn-0.14.1.tar.gz (6.8Mb):  63%  4.3Mb\r  Downloading scikit-learn-0.14.1.tar.gz (6.8Mb):  63%  4.3Mb\r  Downloading scikit-learn-0.14.1.tar.gz (6.8Mb):  63%  4.3Mb\r  Downloading scikit-learn-0.14.1.tar.gz (6.8Mb):  63%  4.3Mb\r  Downloading scikit-learn-0.14.1.tar.gz (6.8Mb):  63%  4.4Mb\r  Downloading scikit-learn-0.14.1.tar.gz (6.8Mb):  63%  4.4Mb\r  Downloading scikit-learn-0.14.1.tar.gz (6.8Mb):  63%  4.4Mb\r  Downloading scikit-learn-0.14.1.tar.gz (6.8Mb):  63%  4.4Mb\r  Downloading scikit-learn-0.14.1.tar.gz (6.8Mb):  63%  4.4Mb\r  Downloading scikit-learn-0.14.1.tar.gz (6.8Mb):  64%  4.4Mb\r  Downloading scikit-learn-0.14.1.tar.gz (6.8Mb):  64%  4.4Mb\r  Downloading scikit-learn-0.14.1.tar.gz (6.8Mb):  64%  4.4Mb\r  Downloading scikit-learn-0.14.1.tar.gz (6.8Mb):  64%  4.4Mb\r  Downloading scikit-learn-0.14.1.tar.gz (6.8Mb):  64%  4.4Mb\r  Downloading scikit-learn-0.14.1.tar.gz (6.8Mb):  64%  4.4Mb\r  Downloading scikit-learn-0.14.1.tar.gz (6.8Mb):  64%  4.4Mb\r  Downloading scikit-learn-0.14.1.tar.gz (6.8Mb):  64%  4.4Mb\r  Downloading scikit-learn-0.14.1.tar.gz (6.8Mb):  64%  4.4Mb\r  Downloading scikit-learn-0.14.1.tar.gz (6.8Mb):  64%  4.4Mb\r  Downloading scikit-learn-0.14.1.tar.gz (6.8Mb):  64%  4.4Mb\r  Downloading scikit-learn-0.14.1.tar.gz (6.8Mb):  64%  4.4Mb\r  Downloading scikit-learn-0.14.1.tar.gz (6.8Mb):  64%  4.4Mb\r  Downloading scikit-learn-0.14.1.tar.gz (6.8Mb):  64%  4.4Mb\r  Downloading scikit-learn-0.14.1.tar.gz (6.8Mb):  64%  4.4Mb\r  Downloading scikit-learn-0.14.1.tar.gz (6.8Mb):  64%  4.4Mb\r  Downloading scikit-learn-0.14.1.tar.gz (6.8Mb):  64%  4.4Mb\r  Downloading scikit-learn-0.14.1.tar.gz (6.8Mb):  65%  4.4Mb\r  Downloading scikit-learn-0.14.1.tar.gz (6.8Mb):  65%  4.4Mb\r  Downloading scikit-learn-0.14.1.tar.gz (6.8Mb):  65%  4.5Mb\r  Downloading scikit-learn-0.14.1.tar.gz (6.8Mb):  65%  4.5Mb\r  Downloading scikit-learn-0.14.1.tar.gz (6.8Mb):  65%  4.5Mb\r  Downloading scikit-learn-0.14.1.tar.gz (6.8Mb):  65%  4.5Mb\r  Downloading scikit-learn-0.14.1.tar.gz (6.8Mb):  65%  4.5Mb\r  Downloading scikit-learn-0.14.1.tar.gz (6.8Mb):  65%  4.5Mb\r  Downloading scikit-learn-0.14.1.tar.gz (6.8Mb):  65%  4.5Mb\r  Downloading scikit-learn-0.14.1.tar.gz (6.8Mb):  65%  4.5Mb\r  Downloading scikit-learn-0.14.1.tar.gz (6.8Mb):  65%  4.5Mb\r  Downloading scikit-learn-0.14.1.tar.gz (6.8Mb):  65%  4.5Mb\r  Downloading scikit-learn-0.14.1.tar.gz (6.8Mb):  65%  4.5Mb\r  Downloading scikit-learn-0.14.1.tar.gz (6.8Mb):  65%  4.5Mb\r  Downloading scikit-learn-0.14.1.tar.gz (6.8Mb):  65%  4.5Mb\r  Downloading scikit-learn-0.14.1.tar.gz (6.8Mb):  65%  4.5Mb\r  Downloading scikit-learn-0.14.1.tar.gz (6.8Mb):  65%  4.5Mb\r  Downloading scikit-learn-0.14.1.tar.gz (6.8Mb):  66%  4.5Mb\r  Downloading scikit-learn-0.14.1.tar.gz (6.8Mb):  66%  4.5Mb\r  Downloading scikit-learn-0.14.1.tar.gz (6.8Mb):  66%  4.5Mb\r  Downloading scikit-learn-0.14.1.tar.gz (6.8Mb):  66%  4.5Mb\r  Downloading scikit-learn-0.14.1.tar.gz (6.8Mb):  66%  4.5Mb\r  Downloading scikit-learn-0.14.1.tar.gz (6.8Mb):  66%  4.5Mb\r  Downloading scikit-learn-0.14.1.tar.gz (6.8Mb):  66%  4.5Mb\r  Downloading scikit-learn-0.14.1.tar.gz (6.8Mb):  66%  4.5Mb\r  Downloading scikit-learn-0.14.1.tar.gz (6.8Mb):  66%  4.5Mb\r  Downloading scikit-learn-0.14.1.tar.gz (6.8Mb):  66%  4.6Mb\r  Downloading scikit-learn-0.14.1.tar.gz (6.8Mb):  66%  4.6Mb\r  Downloading scikit-learn-0.14.1.tar.gz (6.8Mb):  66%  4.6Mb\r  Downloading scikit-learn-0.14.1.tar.gz (6.8Mb):  66%  4.6Mb\r  Downloading scikit-learn-0.14.1.tar.gz (6.8Mb):  66%  4.6Mb\r  Downloading scikit-learn-0.14.1.tar.gz (6.8Mb):  66%  4.6Mb\r  Downloading scikit-learn-0.14.1.tar.gz (6.8Mb):  66%  4.6Mb\r  Downloading scikit-learn-0.14.1.tar.gz (6.8Mb):  67%  4.6Mb\r  Downloading scikit-learn-0.14.1.tar.gz (6.8Mb):  67%  4.6Mb\r  Downloading scikit-learn-0.14.1.tar.gz (6.8Mb):  67%  4.6Mb\r  Downloading scikit-learn-0.14.1.tar.gz (6.8Mb):  67%  4.6Mb\r  Downloading scikit-learn-0.14.1.tar.gz (6.8Mb):  67%  4.6Mb\r  Downloading scikit-learn-0.14.1.tar.gz (6.8Mb):  67%  4.6Mb\r  Downloading scikit-learn-0.14.1.tar.gz (6.8Mb):  67%  4.6Mb\r  Downloading scikit-learn-0.14.1.tar.gz (6.8Mb):  67%  4.6Mb\r  Downloading scikit-learn-0.14.1.tar.gz (6.8Mb):  67%  4.6Mb\r  Downloading scikit-learn-0.14.1.tar.gz (6.8Mb):  67%  4.6Mb\r  Downloading scikit-learn-0.14.1.tar.gz (6.8Mb):  67%  4.6Mb\r  Downloading scikit-learn-0.14.1.tar.gz (6.8Mb):  67%  4.6Mb\r  Downloading scikit-learn-0.14.1.tar.gz (6.8Mb):  67%  4.6Mb\r  Downloading scikit-learn-0.14.1.tar.gz (6.8Mb):  67%  4.6Mb\r  Downloading scikit-learn-0.14.1.tar.gz (6.8Mb):  67%  4.6Mb\r  Downloading scikit-learn-0.14.1.tar.gz (6.8Mb):  67%  4.6Mb\r  Downloading scikit-learn-0.14.1.tar.gz (6.8Mb):  67%  4.6Mb\r  Downloading scikit-learn-0.14.1.tar.gz (6.8Mb):  68%  4.6Mb\r  Downloading scikit-learn-0.14.1.tar.gz (6.8Mb):  68%  4.7Mb\r  Downloading scikit-learn-0.14.1.tar.gz (6.8Mb):  68%  4.7Mb\r  Downloading scikit-learn-0.14.1.tar.gz (6.8Mb):  68%  4.7Mb\r  Downloading scikit-learn-0.14.1.tar.gz (6.8Mb):  68%  4.7Mb\r  Downloading scikit-learn-0.14.1.tar.gz (6.8Mb):  68%  4.7Mb\r  Downloading scikit-learn-0.14.1.tar.gz (6.8Mb):  68%  4.7Mb\r  Downloading scikit-learn-0.14.1.tar.gz (6.8Mb):  68%  4.7Mb\r  Downloading scikit-learn-0.14.1.tar.gz (6.8Mb):  68%  4.7Mb\r  Downloading scikit-learn-0.14.1.tar.gz (6.8Mb):  68%  4.7Mb\r  Downloading scikit-learn-0.14.1.tar.gz (6.8Mb):  68%  4.7Mb\r  Downloading scikit-learn-0.14.1.tar.gz (6.8Mb):  68%  4.7Mb\r  Downloading scikit-learn-0.14.1.tar.gz (6.8Mb):  68%  4.7Mb\r  Downloading scikit-learn-0.14.1.tar.gz (6.8Mb):  68%  4.7Mb\r  Downloading scikit-learn-0.14.1.tar.gz (6.8Mb):  68%  4.7Mb\r  Downloading scikit-learn-0.14.1.tar.gz (6.8Mb):  68%  4.7Mb\r  Downloading scikit-learn-0.14.1.tar.gz (6.8Mb):  68%  4.7Mb\r  Downloading scikit-learn-0.14.1.tar.gz (6.8Mb):  69%  4.7Mb\r  Downloading scikit-learn-0.14.1.tar.gz (6.8Mb):  69%  4.7Mb\r  Downloading scikit-learn-0.14.1.tar.gz (6.8Mb):  69%  4.7Mb\r  Downloading scikit-learn-0.14.1.tar.gz (6.8Mb):  69%  4.7Mb\r  Downloading scikit-learn-0.14.1.tar.gz (6.8Mb):  69%  4.7Mb\r  Downloading scikit-learn-0.14.1.tar.gz (6.8Mb):  69%  4.7Mb\r  Downloading scikit-learn-0.14.1.tar.gz (6.8Mb):  69%  4.7Mb\r  Downloading scikit-learn-0.14.1.tar.gz (6.8Mb):  69%  4.7Mb\r  Downloading scikit-learn-0.14.1.tar.gz (6.8Mb):  69%  4.8Mb\r  Downloading scikit-learn-0.14.1.tar.gz (6.8Mb):  69%  4.8Mb\r  Downloading scikit-learn-0.14.1.tar.gz (6.8Mb):  69%  4.8Mb\r  Downloading scikit-learn-0.14.1.tar.gz (6.8Mb):  69%  4.8Mb\r  Downloading scikit-learn-0.14.1.tar.gz (6.8Mb):  69%  4.8Mb\r  Downloading scikit-learn-0.14.1.tar.gz (6.8Mb):  69%  4.8Mb\r  Downloading scikit-learn-0.14.1.tar.gz (6.8Mb):  69%  4.8Mb\r  Downloading scikit-learn-0.14.1.tar.gz (6.8Mb):  69%  4.8Mb\r  Downloading scikit-learn-0.14.1.tar.gz (6.8Mb):  70%  4.8Mb\r  Downloading scikit-learn-0.14.1.tar.gz (6.8Mb):  70%  4.8Mb\r  Downloading scikit-learn-0.14.1.tar.gz (6.8Mb):  70%  4.8Mb\r  Downloading scikit-learn-0.14.1.tar.gz (6.8Mb):  70%  4.8Mb\r  Downloading scikit-learn-0.14.1.tar.gz (6.8Mb):  70%  4.8Mb\r  Downloading scikit-learn-0.14.1.tar.gz (6.8Mb):  70%  4.8Mb\r  Downloading scikit-learn-0.14.1.tar.gz (6.8Mb):  70%  4.8Mb\r  Downloading scikit-learn-0.14.1.tar.gz (6.8Mb):  70%  4.8Mb\r  Downloading scikit-learn-0.14.1.tar.gz (6.8Mb):  70%  4.8Mb\r  Downloading scikit-learn-0.14.1.tar.gz (6.8Mb):  70%  4.8Mb\r  Downloading scikit-learn-0.14.1.tar.gz (6.8Mb):  70%  4.8Mb\r  Downloading scikit-learn-0.14.1.tar.gz (6.8Mb):  70%  4.8Mb\r  Downloading scikit-learn-0.14.1.tar.gz (6.8Mb):  70%  4.8Mb\r  Downloading scikit-learn-0.14.1.tar.gz (6.8Mb):  70%  4.8Mb\r  Downloading scikit-learn-0.14.1.tar.gz (6.8Mb):  70%  4.8Mb\r  Downloading scikit-learn-0.14.1.tar.gz (6.8Mb):  70%  4.8Mb\r  Downloading scikit-learn-0.14.1.tar.gz (6.8Mb):  70%  4.8Mb\r  Downloading scikit-learn-0.14.1.tar.gz (6.8Mb):  71%  4.9Mb\r  Downloading scikit-learn-0.14.1.tar.gz (6.8Mb):  71%  4.9Mb\r  Downloading scikit-learn-0.14.1.tar.gz (6.8Mb):  71%  4.9Mb\r  Downloading scikit-learn-0.14.1.tar.gz (6.8Mb):  71%  4.9Mb\r  Downloading scikit-learn-0.14.1.tar.gz (6.8Mb):  71%  4.9Mb\r  Downloading scikit-learn-0.14.1.tar.gz (6.8Mb):  71%  4.9Mb\r  Downloading scikit-learn-0.14.1.tar.gz (6.8Mb):  71%  4.9Mb\r  Downloading scikit-learn-0.14.1.tar.gz (6.8Mb):  71%  4.9Mb\r  Downloading scikit-learn-0.14.1.tar.gz (6.8Mb):  71%  4.9Mb\r  Downloading scikit-learn-0.14.1.tar.gz (6.8Mb):  71%  4.9Mb\r  Downloading scikit-learn-0.14.1.tar.gz (6.8Mb):  71%  4.9Mb\r  Downloading scikit-learn-0.14.1.tar.gz (6.8Mb):  71%  4.9Mb\r  Downloading scikit-learn-0.14.1.tar.gz (6.8Mb):  71%  4.9Mb\r  Downloading scikit-learn-0.14.1.tar.gz (6.8Mb):  71%  4.9Mb\r  Downloading scikit-learn-0.14.1.tar.gz (6.8Mb):  71%  4.9Mb\r  Downloading scikit-learn-0.14.1.tar.gz (6.8Mb):  71%  4.9Mb\r  Downloading scikit-learn-0.14.1.tar.gz (6.8Mb):  71%  4.9Mb\r  Downloading scikit-learn-0.14.1.tar.gz (6.8Mb):  72%  4.9Mb\r  Downloading scikit-learn-0.14.1.tar.gz (6.8Mb):  72%  4.9Mb\r  Downloading scikit-learn-0.14.1.tar.gz (6.8Mb):  72%  4.9Mb\r  Downloading scikit-learn-0.14.1.tar.gz (6.8Mb):  72%  4.9Mb\r  Downloading scikit-learn-0.14.1.tar.gz (6.8Mb):  72%  4.9Mb\r  Downloading scikit-learn-0.14.1.tar.gz (6.8Mb):  72%  4.9Mb"
      },
      {
       "output_type": "stream",
       "stream": "stdout",
       "text": "\r  Downloading scikit-learn-0.14.1.tar.gz (6.8Mb):  72%  4.9Mb\r  Downloading scikit-learn-0.14.1.tar.gz (6.8Mb):  72%  5.0Mb\r  Downloading scikit-learn-0.14.1.tar.gz (6.8Mb):  72%  5.0Mb\r  Downloading scikit-learn-0.14.1.tar.gz (6.8Mb):  72%  5.0Mb\r  Downloading scikit-learn-0.14.1.tar.gz (6.8Mb):  72%  5.0Mb\r  Downloading scikit-learn-0.14.1.tar.gz (6.8Mb):  72%  5.0Mb\r  Downloading scikit-learn-0.14.1.tar.gz (6.8Mb):  72%  5.0Mb\r  Downloading scikit-learn-0.14.1.tar.gz (6.8Mb):  72%  5.0Mb\r  Downloading scikit-learn-0.14.1.tar.gz (6.8Mb):  72%  5.0Mb\r  Downloading scikit-learn-0.14.1.tar.gz (6.8Mb):  72%  5.0Mb\r  Downloading scikit-learn-0.14.1.tar.gz (6.8Mb):  73%  5.0Mb\r  Downloading scikit-learn-0.14.1.tar.gz (6.8Mb):  73%  5.0Mb\r  Downloading scikit-learn-0.14.1.tar.gz (6.8Mb):  73%  5.0Mb\r  Downloading scikit-learn-0.14.1.tar.gz (6.8Mb):  73%  5.0Mb\r  Downloading scikit-learn-0.14.1.tar.gz (6.8Mb):  73%  5.0Mb\r  Downloading scikit-learn-0.14.1.tar.gz (6.8Mb):  73%  5.0Mb\r  Downloading scikit-learn-0.14.1.tar.gz (6.8Mb):  73%  5.0Mb\r  Downloading scikit-learn-0.14.1.tar.gz (6.8Mb):  73%  5.0Mb\r  Downloading scikit-learn-0.14.1.tar.gz (6.8Mb):  73%  5.0Mb\r  Downloading scikit-learn-0.14.1.tar.gz (6.8Mb):  73%  5.0Mb\r  Downloading scikit-learn-0.14.1.tar.gz (6.8Mb):  73%  5.0Mb\r  Downloading scikit-learn-0.14.1.tar.gz (6.8Mb):  73%  5.0Mb\r  Downloading scikit-learn-0.14.1.tar.gz (6.8Mb):  73%  5.0Mb\r  Downloading scikit-learn-0.14.1.tar.gz (6.8Mb):  73%  5.0Mb\r  Downloading scikit-learn-0.14.1.tar.gz (6.8Mb):  73%  5.0Mb\r  Downloading scikit-learn-0.14.1.tar.gz (6.8Mb):  73%  5.1Mb\r  Downloading scikit-learn-0.14.1.tar.gz (6.8Mb):  73%  5.1Mb\r  Downloading scikit-learn-0.14.1.tar.gz (6.8Mb):  74%  5.1Mb\r  Downloading scikit-learn-0.14.1.tar.gz (6.8Mb):  74%  5.1Mb\r  Downloading scikit-learn-0.14.1.tar.gz (6.8Mb):  74%  5.1Mb\r  Downloading scikit-learn-0.14.1.tar.gz (6.8Mb):  74%  5.1Mb\r  Downloading scikit-learn-0.14.1.tar.gz (6.8Mb):  74%  5.1Mb\r  Downloading scikit-learn-0.14.1.tar.gz (6.8Mb):  74%  5.1Mb\r  Downloading scikit-learn-0.14.1.tar.gz (6.8Mb):  74%  5.1Mb\r  Downloading scikit-learn-0.14.1.tar.gz (6.8Mb):  74%  5.1Mb\r  Downloading scikit-learn-0.14.1.tar.gz (6.8Mb):  74%  5.1Mb\r  Downloading scikit-learn-0.14.1.tar.gz (6.8Mb):  74%  5.1Mb\r  Downloading scikit-learn-0.14.1.tar.gz (6.8Mb):  74%  5.1Mb\r  Downloading scikit-learn-0.14.1.tar.gz (6.8Mb):  74%  5.1Mb\r  Downloading scikit-learn-0.14.1.tar.gz (6.8Mb):  74%  5.1Mb\r  Downloading scikit-learn-0.14.1.tar.gz (6.8Mb):  74%  5.1Mb\r  Downloading scikit-learn-0.14.1.tar.gz (6.8Mb):  74%  5.1Mb\r  Downloading scikit-learn-0.14.1.tar.gz (6.8Mb):  74%  5.1Mb\r  Downloading scikit-learn-0.14.1.tar.gz (6.8Mb):  74%  5.1Mb\r  Downloading scikit-learn-0.14.1.tar.gz (6.8Mb):  75%  5.1Mb\r  Downloading scikit-learn-0.14.1.tar.gz (6.8Mb):  75%  5.1Mb\r  Downloading scikit-learn-0.14.1.tar.gz (6.8Mb):  75%  5.1Mb\r  Downloading scikit-learn-0.14.1.tar.gz (6.8Mb):  75%  5.1Mb\r  Downloading scikit-learn-0.14.1.tar.gz (6.8Mb):  75%  5.1Mb\r  Downloading scikit-learn-0.14.1.tar.gz (6.8Mb):  75%  5.1Mb\r  Downloading scikit-learn-0.14.1.tar.gz (6.8Mb):  75%  5.2Mb\r  Downloading scikit-learn-0.14.1.tar.gz (6.8Mb):  75%  5.2Mb\r  Downloading scikit-learn-0.14.1.tar.gz (6.8Mb):  75%  5.2Mb\r  Downloading scikit-learn-0.14.1.tar.gz (6.8Mb):  75%  5.2Mb\r  Downloading scikit-learn-0.14.1.tar.gz (6.8Mb):  75%  5.2Mb\r  Downloading scikit-learn-0.14.1.tar.gz (6.8Mb):  75%  5.2Mb\r  Downloading scikit-learn-0.14.1.tar.gz (6.8Mb):  75%  5.2Mb\r  Downloading scikit-learn-0.14.1.tar.gz (6.8Mb):  75%  5.2Mb\r  Downloading scikit-learn-0.14.1.tar.gz (6.8Mb):  75%  5.2Mb\r  Downloading scikit-learn-0.14.1.tar.gz (6.8Mb):  75%  5.2Mb\r  Downloading scikit-learn-0.14.1.tar.gz (6.8Mb):  76%  5.2Mb\r  Downloading scikit-learn-0.14.1.tar.gz (6.8Mb):  76%  5.2Mb\r  Downloading scikit-learn-0.14.1.tar.gz (6.8Mb):  76%  5.2Mb\r  Downloading scikit-learn-0.14.1.tar.gz (6.8Mb):  76%  5.2Mb\r  Downloading scikit-learn-0.14.1.tar.gz (6.8Mb):  76%  5.2Mb\r  Downloading scikit-learn-0.14.1.tar.gz (6.8Mb):  76%  5.2Mb\r  Downloading scikit-learn-0.14.1.tar.gz (6.8Mb):  76%  5.2Mb\r  Downloading scikit-learn-0.14.1.tar.gz (6.8Mb):  76%  5.2Mb\r  Downloading scikit-learn-0.14.1.tar.gz (6.8Mb):  76%  5.2Mb\r  Downloading scikit-learn-0.14.1.tar.gz (6.8Mb):  76%  5.2Mb\r  Downloading scikit-learn-0.14.1.tar.gz (6.8Mb):  76%  5.2Mb\r  Downloading scikit-learn-0.14.1.tar.gz (6.8Mb):  76%  5.2Mb\r  Downloading scikit-learn-0.14.1.tar.gz (6.8Mb):  76%  5.2Mb\r  Downloading scikit-learn-0.14.1.tar.gz (6.8Mb):  76%  5.2Mb\r  Downloading scikit-learn-0.14.1.tar.gz (6.8Mb):  76%  5.3Mb\r  Downloading scikit-learn-0.14.1.tar.gz (6.8Mb):  76%  5.3Mb\r  Downloading scikit-learn-0.14.1.tar.gz (6.8Mb):  76%  5.3Mb\r  Downloading scikit-learn-0.14.1.tar.gz (6.8Mb):  77%  5.3Mb\r  Downloading scikit-learn-0.14.1.tar.gz (6.8Mb):  77%  5.3Mb\r  Downloading scikit-learn-0.14.1.tar.gz (6.8Mb):  77%  5.3Mb\r  Downloading scikit-learn-0.14.1.tar.gz (6.8Mb):  77%  5.3Mb\r  Downloading scikit-learn-0.14.1.tar.gz (6.8Mb):  77%  5.3Mb\r  Downloading scikit-learn-0.14.1.tar.gz (6.8Mb):  77%  5.3Mb\r  Downloading scikit-learn-0.14.1.tar.gz (6.8Mb):  77%  5.3Mb\r  Downloading scikit-learn-0.14.1.tar.gz (6.8Mb):  77%  5.3Mb\r  Downloading scikit-learn-0.14.1.tar.gz (6.8Mb):  77%  5.3Mb\r  Downloading scikit-learn-0.14.1.tar.gz (6.8Mb):  77%  5.3Mb\r  Downloading scikit-learn-0.14.1.tar.gz (6.8Mb):  77%  5.3Mb\r  Downloading scikit-learn-0.14.1.tar.gz (6.8Mb):  77%  5.3Mb\r  Downloading scikit-learn-0.14.1.tar.gz (6.8Mb):  77%  5.3Mb\r  Downloading scikit-learn-0.14.1.tar.gz (6.8Mb):  77%  5.3Mb\r  Downloading scikit-learn-0.14.1.tar.gz (6.8Mb):  77%  5.3Mb\r  Downloading scikit-learn-0.14.1.tar.gz (6.8Mb):  77%  5.3Mb\r  Downloading scikit-learn-0.14.1.tar.gz (6.8Mb):  77%  5.3Mb\r  Downloading scikit-learn-0.14.1.tar.gz (6.8Mb):  78%  5.3Mb\r  Downloading scikit-learn-0.14.1.tar.gz (6.8Mb):  78%  5.3Mb\r  Downloading scikit-learn-0.14.1.tar.gz (6.8Mb):  78%  5.3Mb\r  Downloading scikit-learn-0.14.1.tar.gz (6.8Mb):  78%  5.3Mb\r  Downloading scikit-learn-0.14.1.tar.gz (6.8Mb):  78%  5.3Mb\r  Downloading scikit-learn-0.14.1.tar.gz (6.8Mb):  78%  5.4Mb\r  Downloading scikit-learn-0.14.1.tar.gz (6.8Mb):  78%  5.4Mb\r  Downloading scikit-learn-0.14.1.tar.gz (6.8Mb):  78%  5.4Mb\r  Downloading scikit-learn-0.14.1.tar.gz (6.8Mb):  78%  5.4Mb\r  Downloading scikit-learn-0.14.1.tar.gz (6.8Mb):  78%  5.4Mb\r  Downloading scikit-learn-0.14.1.tar.gz (6.8Mb):  78%  5.4Mb\r  Downloading scikit-learn-0.14.1.tar.gz (6.8Mb):  78%  5.4Mb\r  Downloading scikit-learn-0.14.1.tar.gz (6.8Mb):  78%  5.4Mb\r  Downloading scikit-learn-0.14.1.tar.gz (6.8Mb):  78%  5.4Mb\r  Downloading scikit-learn-0.14.1.tar.gz (6.8Mb):  78%  5.4Mb\r  Downloading scikit-learn-0.14.1.tar.gz (6.8Mb):  78%  5.4Mb\r  Downloading scikit-learn-0.14.1.tar.gz (6.8Mb):  78%  5.4Mb\r  Downloading scikit-learn-0.14.1.tar.gz (6.8Mb):  79%  5.4Mb\r  Downloading scikit-learn-0.14.1.tar.gz (6.8Mb):  79%  5.4Mb\r  Downloading scikit-learn-0.14.1.tar.gz (6.8Mb):  79%  5.4Mb\r  Downloading scikit-learn-0.14.1.tar.gz (6.8Mb):  79%  5.4Mb\r  Downloading scikit-learn-0.14.1.tar.gz (6.8Mb):  79%  5.4Mb\r  Downloading scikit-learn-0.14.1.tar.gz (6.8Mb):  79%  5.4Mb\r  Downloading scikit-learn-0.14.1.tar.gz (6.8Mb):  79%  5.4Mb\r  Downloading scikit-learn-0.14.1.tar.gz (6.8Mb):  79%  5.4Mb\r  Downloading scikit-learn-0.14.1.tar.gz (6.8Mb):  79%  5.4Mb\r  Downloading scikit-learn-0.14.1.tar.gz (6.8Mb):  79%  5.4Mb\r  Downloading scikit-learn-0.14.1.tar.gz (6.8Mb):  79%  5.4Mb\r  Downloading scikit-learn-0.14.1.tar.gz (6.8Mb):  79%  5.4Mb\r  Downloading scikit-learn-0.14.1.tar.gz (6.8Mb):  79%  5.5Mb\r  Downloading scikit-learn-0.14.1.tar.gz (6.8Mb):  79%  5.5Mb\r  Downloading scikit-learn-0.14.1.tar.gz (6.8Mb):  79%  5.5Mb\r  Downloading scikit-learn-0.14.1.tar.gz (6.8Mb):  79%  5.5Mb\r  Downloading scikit-learn-0.14.1.tar.gz (6.8Mb):  80%  5.5Mb\r  Downloading scikit-learn-0.14.1.tar.gz (6.8Mb):  80%  5.5Mb\r  Downloading scikit-learn-0.14.1.tar.gz (6.8Mb):  80%  5.5Mb\r  Downloading scikit-learn-0.14.1.tar.gz (6.8Mb):  80%  5.5Mb\r  Downloading scikit-learn-0.14.1.tar.gz (6.8Mb):  80%  5.5Mb\r  Downloading scikit-learn-0.14.1.tar.gz (6.8Mb):  80%  5.5Mb\r  Downloading scikit-learn-0.14.1.tar.gz (6.8Mb):  80%  5.5Mb\r  Downloading scikit-learn-0.14.1.tar.gz (6.8Mb):  80%  5.5Mb\r  Downloading scikit-learn-0.14.1.tar.gz (6.8Mb):  80%  5.5Mb\r  Downloading scikit-learn-0.14.1.tar.gz (6.8Mb):  80%  5.5Mb\r  Downloading scikit-learn-0.14.1.tar.gz (6.8Mb):  80%  5.5Mb\r  Downloading scikit-learn-0.14.1.tar.gz (6.8Mb):  80%  5.5Mb\r  Downloading scikit-learn-0.14.1.tar.gz (6.8Mb):  80%  5.5Mb\r  Downloading scikit-learn-0.14.1.tar.gz (6.8Mb):  80%  5.5Mb\r  Downloading scikit-learn-0.14.1.tar.gz (6.8Mb):  80%  5.5Mb\r  Downloading scikit-learn-0.14.1.tar.gz (6.8Mb):  80%  5.5Mb\r  Downloading scikit-learn-0.14.1.tar.gz (6.8Mb):  80%  5.5Mb\r  Downloading scikit-learn-0.14.1.tar.gz (6.8Mb):  81%  5.5Mb\r  Downloading scikit-learn-0.14.1.tar.gz (6.8Mb):  81%  5.5Mb\r  Downloading scikit-learn-0.14.1.tar.gz (6.8Mb):  81%  5.5Mb\r  Downloading scikit-learn-0.14.1.tar.gz (6.8Mb):  81%  5.6Mb\r  Downloading scikit-learn-0.14.1.tar.gz (6.8Mb):  81%  5.6Mb\r  Downloading scikit-learn-0.14.1.tar.gz (6.8Mb):  81%  5.6Mb\r  Downloading scikit-learn-0.14.1.tar.gz (6.8Mb):  81%  5.6Mb\r  Downloading scikit-learn-0.14.1.tar.gz (6.8Mb):  81%  5.6Mb\r  Downloading scikit-learn-0.14.1.tar.gz (6.8Mb):  81%  5.6Mb\r  Downloading scikit-learn-0.14.1.tar.gz (6.8Mb):  81%  5.6Mb\r  Downloading scikit-learn-0.14.1.tar.gz (6.8Mb):  81%  5.6Mb\r  Downloading scikit-learn-0.14.1.tar.gz (6.8Mb):  81%  5.6Mb\r  Downloading scikit-learn-0.14.1.tar.gz (6.8Mb):  81%  5.6Mb\r  Downloading scikit-learn-0.14.1.tar.gz (6.8Mb):  81%  5.6Mb\r  Downloading scikit-learn-0.14.1.tar.gz (6.8Mb):  81%  5.6Mb\r  Downloading scikit-learn-0.14.1.tar.gz (6.8Mb):  81%  5.6Mb\r  Downloading scikit-learn-0.14.1.tar.gz (6.8Mb):  81%  5.6Mb\r  Downloading scikit-learn-0.14.1.tar.gz (6.8Mb):  82%  5.6Mb\r  Downloading scikit-learn-0.14.1.tar.gz (6.8Mb):  82%  5.6Mb\r  Downloading scikit-learn-0.14.1.tar.gz (6.8Mb):  82%  5.6Mb\r  Downloading scikit-learn-0.14.1.tar.gz (6.8Mb):  82%  5.6Mb\r  Downloading scikit-learn-0.14.1.tar.gz (6.8Mb):  82%  5.6Mb\r  Downloading scikit-learn-0.14.1.tar.gz (6.8Mb):  82%  5.6Mb\r  Downloading scikit-learn-0.14.1.tar.gz (6.8Mb):  82%  5.6Mb\r  Downloading scikit-learn-0.14.1.tar.gz (6.8Mb):  82%  5.6Mb\r  Downloading scikit-learn-0.14.1.tar.gz (6.8Mb):  82%  5.6Mb\r  Downloading scikit-learn-0.14.1.tar.gz (6.8Mb):  82%  5.6Mb\r  Downloading scikit-learn-0.14.1.tar.gz (6.8Mb):  82%  5.6Mb\r  Downloading scikit-learn-0.14.1.tar.gz (6.8Mb):  82%  5.7Mb\r  Downloading scikit-learn-0.14.1.tar.gz (6.8Mb):  82%  5.7Mb\r  Downloading scikit-learn-0.14.1.tar.gz (6.8Mb):  82%  5.7Mb\r  Downloading scikit-learn-0.14.1.tar.gz (6.8Mb):  82%  5.7Mb\r  Downloading scikit-learn-0.14.1.tar.gz (6.8Mb):  82%  5.7Mb\r  Downloading scikit-learn-0.14.1.tar.gz (6.8Mb):  83%  5.7Mb\r  Downloading scikit-learn-0.14.1.tar.gz (6.8Mb):  83%  5.7Mb\r  Downloading scikit-learn-0.14.1.tar.gz (6.8Mb):  83%  5.7Mb\r  Downloading scikit-learn-0.14.1.tar.gz (6.8Mb):  83%  5.7Mb\r  Downloading scikit-learn-0.14.1.tar.gz (6.8Mb):  83%  5.7Mb\r  Downloading scikit-learn-0.14.1.tar.gz (6.8Mb):  83%  5.7Mb\r  Downloading scikit-learn-0.14.1.tar.gz (6.8Mb):  83%  5.7Mb\r  Downloading scikit-learn-0.14.1.tar.gz (6.8Mb):  83%  5.7Mb\r  Downloading scikit-learn-0.14.1.tar.gz (6.8Mb):  83%  5.7Mb\r  Downloading scikit-learn-0.14.1.tar.gz (6.8Mb):  83%  5.7Mb\r  Downloading scikit-learn-0.14.1.tar.gz (6.8Mb):  83%  5.7Mb\r  Downloading scikit-learn-0.14.1.tar.gz (6.8Mb):  83%  5.7Mb\r  Downloading scikit-learn-0.14.1.tar.gz (6.8Mb):  83%  5.7Mb\r  Downloading scikit-learn-0.14.1.tar.gz (6.8Mb):  83%  5.7Mb\r  Downloading scikit-learn-0.14.1.tar.gz (6.8Mb):  83%  5.7Mb\r  Downloading scikit-learn-0.14.1.tar.gz (6.8Mb):  83%  5.7Mb\r  Downloading scikit-learn-0.14.1.tar.gz (6.8Mb):  83%  5.7Mb\r  Downloading scikit-learn-0.14.1.tar.gz (6.8Mb):  84%  5.7Mb\r  Downloading scikit-learn-0.14.1.tar.gz (6.8Mb):  84%  5.7Mb\r  Downloading scikit-learn-0.14.1.tar.gz (6.8Mb):  84%  5.8Mb\r  Downloading scikit-learn-0.14.1.tar.gz (6.8Mb):  84%  5.8Mb\r  Downloading scikit-learn-0.14.1.tar.gz (6.8Mb):  84%  5.8Mb\r  Downloading scikit-learn-0.14.1.tar.gz (6.8Mb):  84%  5.8Mb\r  Downloading scikit-learn-0.14.1.tar.gz (6.8Mb):  84%  5.8Mb\r  Downloading scikit-learn-0.14.1.tar.gz (6.8Mb):  84%  5.8Mb\r  Downloading scikit-learn-0.14.1.tar.gz (6.8Mb):  84%  5.8Mb\r  Downloading scikit-learn-0.14.1.tar.gz (6.8Mb):  84%  5.8Mb\r  Downloading scikit-learn-0.14.1.tar.gz (6.8Mb):  84%  5.8Mb\r  Downloading scikit-learn-0.14.1.tar.gz (6.8Mb):  84%  5.8Mb\r  Downloading scikit-learn-0.14.1.tar.gz (6.8Mb):  84%  5.8Mb\r  Downloading scikit-learn-0.14.1.tar.gz (6.8Mb):  84%  5.8Mb\r  Downloading scikit-learn-0.14.1.tar.gz (6.8Mb):  84%  5.8Mb\r  Downloading scikit-learn-0.14.1.tar.gz (6.8Mb):  84%  5.8Mb\r  Downloading scikit-learn-0.14.1.tar.gz (6.8Mb):  84%  5.8Mb\r  Downloading scikit-learn-0.14.1.tar.gz (6.8Mb):  85%  5.8Mb\r  Downloading scikit-learn-0.14.1.tar.gz (6.8Mb):  85%  5.8Mb\r  Downloading scikit-learn-0.14.1.tar.gz (6.8Mb):  85%  5.8Mb\r  Downloading scikit-learn-0.14.1.tar.gz (6.8Mb):  85%  5.8Mb\r  Downloading scikit-learn-0.14.1.tar.gz (6.8Mb):  85%  5.8Mb\r  Downloading scikit-learn-0.14.1.tar.gz (6.8Mb):  85%  5.8Mb\r  Downloading scikit-learn-0.14.1.tar.gz (6.8Mb):  85%  5.8Mb\r  Downloading scikit-learn-0.14.1.tar.gz (6.8Mb):  85%  5.8Mb\r  Downloading scikit-learn-0.14.1.tar.gz (6.8Mb):  85%  5.8Mb\r  Downloading scikit-learn-0.14.1.tar.gz (6.8Mb):  85%  5.8Mb\r  Downloading scikit-learn-0.14.1.tar.gz (6.8Mb):  85%  5.9Mb\r  Downloading scikit-learn-0.14.1.tar.gz (6.8Mb):  85%  5.9Mb\r  Downloading scikit-learn-0.14.1.tar.gz (6.8Mb):  85%  5.9Mb\r  Downloading scikit-learn-0.14.1.tar.gz (6.8Mb):  85%  5.9Mb\r  Downloading scikit-learn-0.14.1.tar.gz (6.8Mb):  85%  5.9Mb\r  Downloading scikit-learn-0.14.1.tar.gz (6.8Mb):  85%  5.9Mb\r  Downloading scikit-learn-0.14.1.tar.gz (6.8Mb):  86%  5.9Mb\r  Downloading scikit-learn-0.14.1.tar.gz (6.8Mb):  86%  5.9Mb\r  Downloading scikit-learn-0.14.1.tar.gz (6.8Mb):  86%  5.9Mb\r  Downloading scikit-learn-0.14.1.tar.gz (6.8Mb):  86%  5.9Mb\r  Downloading scikit-learn-0.14.1.tar.gz (6.8Mb):  86%  5.9Mb\r  Downloading scikit-learn-0.14.1.tar.gz (6.8Mb):  86%  5.9Mb\r  Downloading scikit-learn-0.14.1.tar.gz (6.8Mb):  86%  5.9Mb\r  Downloading scikit-learn-0.14.1.tar.gz (6.8Mb):  86%  5.9Mb\r  Downloading scikit-learn-0.14.1.tar.gz (6.8Mb):  86%  5.9Mb\r  Downloading scikit-learn-0.14.1.tar.gz (6.8Mb):  86%  5.9Mb\r  Downloading scikit-learn-0.14.1.tar.gz (6.8Mb):  86%  5.9Mb\r  Downloading scikit-learn-0.14.1.tar.gz (6.8Mb):  86%  5.9Mb\r  Downloading scikit-learn-0.14.1.tar.gz (6.8Mb):  86%  5.9Mb\r  Downloading scikit-learn-0.14.1.tar.gz (6.8Mb):  86%  5.9Mb\r  Downloading scikit-learn-0.14.1.tar.gz (6.8Mb):  86%  5.9Mb\r  Downloading scikit-learn-0.14.1.tar.gz (6.8Mb):  86%  5.9Mb\r  Downloading scikit-learn-0.14.1.tar.gz (6.8Mb):  86%  5.9Mb\r  Downloading scikit-learn-0.14.1.tar.gz (6.8Mb):  87%  5.9Mb\r  Downloading scikit-learn-0.14.1.tar.gz (6.8Mb):  87%  6.0Mb\r  Downloading scikit-learn-0.14.1.tar.gz (6.8Mb):  87%  6.0Mb\r  Downloading scikit-learn-0.14.1.tar.gz (6.8Mb):  87%  6.0Mb\r  Downloading scikit-learn-0.14.1.tar.gz (6.8Mb):  87%  6.0Mb\r  Downloading scikit-learn-0.14.1.tar.gz (6.8Mb):  87%  6.0Mb\r  Downloading scikit-learn-0.14.1.tar.gz (6.8Mb):  87%  6.0Mb\r  Downloading scikit-learn-0.14.1.tar.gz (6.8Mb):  87%  6.0Mb\r  Downloading scikit-learn-0.14.1.tar.gz (6.8Mb):  87%  6.0Mb\r  Downloading scikit-learn-0.14.1.tar.gz (6.8Mb):  87%  6.0Mb\r  Downloading scikit-learn-0.14.1.tar.gz (6.8Mb):  87%  6.0Mb\r  Downloading scikit-learn-0.14.1.tar.gz (6.8Mb):  87%  6.0Mb\r  Downloading scikit-learn-0.14.1.tar.gz (6.8Mb):  87%  6.0Mb\r  Downloading scikit-learn-0.14.1.tar.gz (6.8Mb):  87%  6.0Mb\r  Downloading scikit-learn-0.14.1.tar.gz (6.8Mb):  87%  6.0Mb\r  Downloading scikit-learn-0.14.1.tar.gz (6.8Mb):  87%  6.0Mb\r  Downloading scikit-learn-0.14.1.tar.gz (6.8Mb):  87%  6.0Mb\r  Downloading scikit-learn-0.14.1.tar.gz (6.8Mb):  88%  6.0Mb\r  Downloading scikit-learn-0.14.1.tar.gz (6.8Mb):  88%  6.0Mb\r  Downloading scikit-learn-0.14.1.tar.gz (6.8Mb):  88%  6.0Mb\r  Downloading scikit-learn-0.14.1.tar.gz (6.8Mb):  88%  6.0Mb\r  Downloading scikit-learn-0.14.1.tar.gz (6.8Mb):  88%  6.0Mb\r  Downloading scikit-learn-0.14.1.tar.gz (6.8Mb):  88%  6.0Mb\r  Downloading scikit-learn-0.14.1.tar.gz (6.8Mb):  88%  6.0Mb\r  Downloading scikit-learn-0.14.1.tar.gz (6.8Mb):  88%  6.0Mb\r  Downloading scikit-learn-0.14.1.tar.gz (6.8Mb):  88%  6.0Mb\r  Downloading scikit-learn-0.14.1.tar.gz (6.8Mb):  88%  6.1Mb\r  Downloading scikit-learn-0.14.1.tar.gz (6.8Mb):  88%  6.1Mb\r  Downloading scikit-learn-0.14.1.tar.gz (6.8Mb):  88%  6.1Mb\r  Downloading scikit-learn-0.14.1.tar.gz (6.8Mb):  88%  6.1Mb\r  Downloading scikit-learn-0.14.1.tar.gz (6.8Mb):  88%  6.1Mb\r  Downloading scikit-learn-0.14.1.tar.gz (6.8Mb):  88%  6.1Mb\r  Downloading scikit-learn-0.14.1.tar.gz (6.8Mb):  88%  6.1Mb\r  Downloading scikit-learn-0.14.1.tar.gz (6.8Mb):  89%  6.1Mb\r  Downloading scikit-learn-0.14.1.tar.gz (6.8Mb):  89%  6.1Mb\r  Downloading scikit-learn-0.14.1.tar.gz (6.8Mb):  89%  6.1Mb\r  Downloading scikit-learn-0.14.1.tar.gz (6.8Mb):  89%  6.1Mb\r  Downloading scikit-learn-0.14.1.tar.gz (6.8Mb):  89%  6.1Mb\r  Downloading scikit-learn-0.14.1.tar.gz (6.8Mb):  89%  6.1Mb\r  Downloading scikit-learn-0.14.1.tar.gz (6.8Mb):  89%  6.1Mb\r  Downloading scikit-learn-0.14.1.tar.gz (6.8Mb):  89%  6.1Mb\r  Downloading scikit-learn-0.14.1.tar.gz (6.8Mb):  89%  6.1Mb\r  Downloading scikit-learn-0.14.1.tar.gz (6.8Mb):  89%  6.1Mb\r  Downloading scikit-learn-0.14.1.tar.gz (6.8Mb):  89%  6.1Mb\r  Downloading scikit-learn-0.14.1.tar.gz (6.8Mb):  89%  6.1Mb\r  Downloading scikit-learn-0.14.1.tar.gz (6.8Mb):  89%  6.1Mb\r  Downloading scikit-learn-0.14.1.tar.gz (6.8Mb):  89%  6.1Mb\r  Downloading scikit-learn-0.14.1.tar.gz (6.8Mb):  89%  6.1Mb\r  Downloading scikit-learn-0.14.1.tar.gz (6.8Mb):  89%  6.1Mb\r  Downloading scikit-learn-0.14.1.tar.gz (6.8Mb):  89%  6.1Mb\r  Downloading scikit-learn-0.14.1.tar.gz (6.8Mb):  90%  6.2Mb\r  Downloading scikit-learn-0.14.1.tar.gz (6.8Mb):  90%  6.2Mb\r  Downloading scikit-learn-0.14.1.tar.gz (6.8Mb):  90%  6.2Mb\r  Downloading scikit-learn-0.14.1.tar.gz (6.8Mb):  90%  6.2Mb\r  Downloading scikit-learn-0.14.1.tar.gz (6.8Mb):  90%  6.2Mb\r  Downloading scikit-learn-0.14.1.tar.gz (6.8Mb):  90%  6.2Mb\r  Downloading scikit-learn-0.14.1.tar.gz (6.8Mb):  90%  6.2Mb\r  Downloading scikit-learn-0.14.1.tar.gz (6.8Mb):  90%  6.2Mb\r  Downloading scikit-learn-0.14.1.tar.gz (6.8Mb):  90%  6.2Mb\r  Downloading scikit-learn-0.14.1.tar.gz (6.8Mb):  90%  6.2Mb\r  Downloading scikit-learn-0.14.1.tar.gz (6.8Mb):  90%  6.2Mb\r  Downloading scikit-learn-0.14.1.tar.gz (6.8Mb):  90%  6.2Mb\r  Downloading scikit-learn-0.14.1.tar.gz (6.8Mb):  90%  6.2Mb\r  Downloading scikit-learn-0.14.1.tar.gz (6.8Mb):  90%  6.2Mb\r  Downloading scikit-learn-0.14.1.tar.gz (6.8Mb):  90%  6.2Mb\r  Downloading scikit-learn-0.14.1.tar.gz (6.8Mb):  90%  6.2Mb\r  Downloading scikit-learn-0.14.1.tar.gz (6.8Mb):  90%  6.2Mb\r  Downloading scikit-learn-0.14.1.tar.gz (6.8Mb):  91%  6.2Mb\r  Downloading scikit-learn-0.14.1.tar.gz (6.8Mb):  91%  6.2Mb\r  Downloading scikit-learn-0.14.1.tar.gz (6.8Mb):  91%  6.2Mb\r  Downloading scikit-learn-0.14.1.tar.gz (6.8Mb):  91%  6.2Mb\r  Downloading scikit-learn-0.14.1.tar.gz (6.8Mb):  91%  6.2Mb\r  Downloading scikit-learn-0.14.1.tar.gz (6.8Mb):  91%  6.2Mb\r  Downloading scikit-learn-0.14.1.tar.gz (6.8Mb):  91%  6.2Mb\r  Downloading scikit-learn-0.14.1.tar.gz (6.8Mb):  91%  6.3Mb\r  Downloading scikit-learn-0.14.1.tar.gz (6.8Mb):  91%  6.3Mb\r  Downloading scikit-learn-0.14.1.tar.gz (6.8Mb):  91%  6.3Mb\r  Downloading scikit-learn-0.14.1.tar.gz (6.8Mb):  91%  6.3Mb\r  Downloading scikit-learn-0.14.1.tar.gz (6.8Mb):  91%  6.3Mb\r  Downloading scikit-learn-0.14.1.tar.gz (6.8Mb):  91%  6.3Mb\r  Downloading scikit-learn-0.14.1.tar.gz (6.8Mb):  91%  6.3Mb\r  Downloading scikit-learn-0.14.1.tar.gz (6.8Mb):  91%  6.3Mb\r  Downloading scikit-learn-0.14.1.tar.gz (6.8Mb):  91%  6.3Mb\r  Downloading scikit-learn-0.14.1.tar.gz (6.8Mb):  92%  6.3Mb\r  Downloading scikit-learn-0.14.1.tar.gz (6.8Mb):  92%  6.3Mb\r  Downloading scikit-learn-0.14.1.tar.gz (6.8Mb):  92%  6.3Mb\r  Downloading scikit-learn-0.14.1.tar.gz (6.8Mb):  92%  6.3Mb\r  Downloading scikit-learn-0.14.1.tar.gz (6.8Mb):  92%  6.3Mb\r  Downloading scikit-learn-0.14.1.tar.gz (6.8Mb):  92%  6.3Mb\r  Downloading scikit-learn-0.14.1.tar.gz (6.8Mb):  92%  6.3Mb\r  Downloading scikit-learn-0.14.1.tar.gz (6.8Mb):  92%  6.3Mb\r  Downloading scikit-learn-0.14.1.tar.gz (6.8Mb):  92%  6.3Mb\r  Downloading scikit-learn-0.14.1.tar.gz (6.8Mb):  92%  6.3Mb\r  Downloading scikit-learn-0.14.1.tar.gz (6.8Mb):  92%  6.3Mb\r  Downloading scikit-learn-0.14.1.tar.gz (6.8Mb):  92%  6.3Mb\r  Downloading scikit-learn-0.14.1.tar.gz (6.8Mb):  92%  6.3Mb\r  Downloading scikit-learn-0.14.1.tar.gz (6.8Mb):  92%  6.3Mb"
      },
      {
       "output_type": "stream",
       "stream": "stdout",
       "text": "\r  Downloading scikit-learn-0.14.1.tar.gz (6.8Mb):  92%  6.3Mb\r  Downloading scikit-learn-0.14.1.tar.gz (6.8Mb):  92%  6.3Mb\r  Downloading scikit-learn-0.14.1.tar.gz (6.8Mb):  92%  6.4Mb\r  Downloading scikit-learn-0.14.1.tar.gz (6.8Mb):  93%  6.4Mb\r  Downloading scikit-learn-0.14.1.tar.gz (6.8Mb):  93%  6.4Mb\r  Downloading scikit-learn-0.14.1.tar.gz (6.8Mb):  93%  6.4Mb\r  Downloading scikit-learn-0.14.1.tar.gz (6.8Mb):  93%  6.4Mb\r  Downloading scikit-learn-0.14.1.tar.gz (6.8Mb):  93%  6.4Mb\r  Downloading scikit-learn-0.14.1.tar.gz (6.8Mb):  93%  6.4Mb\r  Downloading scikit-learn-0.14.1.tar.gz (6.8Mb):  93%  6.4Mb\r  Downloading scikit-learn-0.14.1.tar.gz (6.8Mb):  93%  6.4Mb\r  Downloading scikit-learn-0.14.1.tar.gz (6.8Mb):  93%  6.4Mb\r  Downloading scikit-learn-0.14.1.tar.gz (6.8Mb):  93%  6.4Mb\r  Downloading scikit-learn-0.14.1.tar.gz (6.8Mb):  93%  6.4Mb\r  Downloading scikit-learn-0.14.1.tar.gz (6.8Mb):  93%  6.4Mb\r  Downloading scikit-learn-0.14.1.tar.gz (6.8Mb):  93%  6.4Mb\r  Downloading scikit-learn-0.14.1.tar.gz (6.8Mb):  93%  6.4Mb\r  Downloading scikit-learn-0.14.1.tar.gz (6.8Mb):  93%  6.4Mb\r  Downloading scikit-learn-0.14.1.tar.gz (6.8Mb):  93%  6.4Mb\r  Downloading scikit-learn-0.14.1.tar.gz (6.8Mb):  93%  6.4Mb\r  Downloading scikit-learn-0.14.1.tar.gz (6.8Mb):  94%  6.4Mb\r  Downloading scikit-learn-0.14.1.tar.gz (6.8Mb):  94%  6.4Mb\r  Downloading scikit-learn-0.14.1.tar.gz (6.8Mb):  94%  6.4Mb\r  Downloading scikit-learn-0.14.1.tar.gz (6.8Mb):  94%  6.4Mb\r  Downloading scikit-learn-0.14.1.tar.gz (6.8Mb):  94%  6.4Mb\r  Downloading scikit-learn-0.14.1.tar.gz (6.8Mb):  94%  6.4Mb\r  Downloading scikit-learn-0.14.1.tar.gz (6.8Mb):  94%  6.5Mb\r  Downloading scikit-learn-0.14.1.tar.gz (6.8Mb):  94%  6.5Mb\r  Downloading scikit-learn-0.14.1.tar.gz (6.8Mb):  94%  6.5Mb\r  Downloading scikit-learn-0.14.1.tar.gz (6.8Mb):  94%  6.5Mb\r  Downloading scikit-learn-0.14.1.tar.gz (6.8Mb):  94%  6.5Mb\r  Downloading scikit-learn-0.14.1.tar.gz (6.8Mb):  94%  6.5Mb\r  Downloading scikit-learn-0.14.1.tar.gz (6.8Mb):  94%  6.5Mb\r  Downloading scikit-learn-0.14.1.tar.gz (6.8Mb):  94%  6.5Mb\r  Downloading scikit-learn-0.14.1.tar.gz (6.8Mb):  94%  6.5Mb\r  Downloading scikit-learn-0.14.1.tar.gz (6.8Mb):  94%  6.5Mb\r  Downloading scikit-learn-0.14.1.tar.gz (6.8Mb):  95%  6.5Mb\r  Downloading scikit-learn-0.14.1.tar.gz (6.8Mb):  95%  6.5Mb\r  Downloading scikit-learn-0.14.1.tar.gz (6.8Mb):  95%  6.5Mb\r  Downloading scikit-learn-0.14.1.tar.gz (6.8Mb):  95%  6.5Mb\r  Downloading scikit-learn-0.14.1.tar.gz (6.8Mb):  95%  6.5Mb\r  Downloading scikit-learn-0.14.1.tar.gz (6.8Mb):  95%  6.5Mb\r  Downloading scikit-learn-0.14.1.tar.gz (6.8Mb):  95%  6.5Mb\r  Downloading scikit-learn-0.14.1.tar.gz (6.8Mb):  95%  6.5Mb\r  Downloading scikit-learn-0.14.1.tar.gz (6.8Mb):  95%  6.5Mb\r  Downloading scikit-learn-0.14.1.tar.gz (6.8Mb):  95%  6.5Mb\r  Downloading scikit-learn-0.14.1.tar.gz (6.8Mb):  95%  6.5Mb\r  Downloading scikit-learn-0.14.1.tar.gz (6.8Mb):  95%  6.5Mb\r  Downloading scikit-learn-0.14.1.tar.gz (6.8Mb):  95%  6.5Mb\r  Downloading scikit-learn-0.14.1.tar.gz (6.8Mb):  95%  6.5Mb\r  Downloading scikit-learn-0.14.1.tar.gz (6.8Mb):  95%  6.5Mb\r  Downloading scikit-learn-0.14.1.tar.gz (6.8Mb):  95%  6.6Mb\r  Downloading scikit-learn-0.14.1.tar.gz (6.8Mb):  95%  6.6Mb\r  Downloading scikit-learn-0.14.1.tar.gz (6.8Mb):  96%  6.6Mb\r  Downloading scikit-learn-0.14.1.tar.gz (6.8Mb):  96%  6.6Mb\r  Downloading scikit-learn-0.14.1.tar.gz (6.8Mb):  96%  6.6Mb\r  Downloading scikit-learn-0.14.1.tar.gz (6.8Mb):  96%  6.6Mb\r  Downloading scikit-learn-0.14.1.tar.gz (6.8Mb):  96%  6.6Mb\r  Downloading scikit-learn-0.14.1.tar.gz (6.8Mb):  96%  6.6Mb\r  Downloading scikit-learn-0.14.1.tar.gz (6.8Mb):  96%  6.6Mb\r  Downloading scikit-learn-0.14.1.tar.gz (6.8Mb):  96%  6.6Mb\r  Downloading scikit-learn-0.14.1.tar.gz (6.8Mb):  96%  6.6Mb\r  Downloading scikit-learn-0.14.1.tar.gz (6.8Mb):  96%  6.6Mb\r  Downloading scikit-learn-0.14.1.tar.gz (6.8Mb):  96%  6.6Mb\r  Downloading scikit-learn-0.14.1.tar.gz (6.8Mb):  96%  6.6Mb\r  Downloading scikit-learn-0.14.1.tar.gz (6.8Mb):  96%  6.6Mb\r  Downloading scikit-learn-0.14.1.tar.gz (6.8Mb):  96%  6.6Mb\r  Downloading scikit-learn-0.14.1.tar.gz (6.8Mb):  96%  6.6Mb\r  Downloading scikit-learn-0.14.1.tar.gz (6.8Mb):  96%  6.6Mb\r  Downloading scikit-learn-0.14.1.tar.gz (6.8Mb):  96%  6.6Mb\r  Downloading scikit-learn-0.14.1.tar.gz (6.8Mb):  97%  6.6Mb\r  Downloading scikit-learn-0.14.1.tar.gz (6.8Mb):  97%  6.6Mb\r  Downloading scikit-learn-0.14.1.tar.gz (6.8Mb):  97%  6.6Mb\r  Downloading scikit-learn-0.14.1.tar.gz (6.8Mb):  97%  6.6Mb\r  Downloading scikit-learn-0.14.1.tar.gz (6.8Mb):  97%  6.6Mb\r  Downloading scikit-learn-0.14.1.tar.gz (6.8Mb):  97%  6.7Mb\r  Downloading scikit-learn-0.14.1.tar.gz (6.8Mb):  97%  6.7Mb\r  Downloading scikit-learn-0.14.1.tar.gz (6.8Mb):  97%  6.7Mb\r  Downloading scikit-learn-0.14.1.tar.gz (6.8Mb):  97%  6.7Mb\r  Downloading scikit-learn-0.14.1.tar.gz (6.8Mb):  97%  6.7Mb\r  Downloading scikit-learn-0.14.1.tar.gz (6.8Mb):  97%  6.7Mb\r  Downloading scikit-learn-0.14.1.tar.gz (6.8Mb):  97%  6.7Mb\r  Downloading scikit-learn-0.14.1.tar.gz (6.8Mb):  97%  6.7Mb\r  Downloading scikit-learn-0.14.1.tar.gz (6.8Mb):  97%  6.7Mb\r  Downloading scikit-learn-0.14.1.tar.gz (6.8Mb):  97%  6.7Mb\r  Downloading scikit-learn-0.14.1.tar.gz (6.8Mb):  97%  6.7Mb\r  Downloading scikit-learn-0.14.1.tar.gz (6.8Mb):  98%  6.7Mb\r  Downloading scikit-learn-0.14.1.tar.gz (6.8Mb):  98%  6.7Mb\r  Downloading scikit-learn-0.14.1.tar.gz (6.8Mb):  98%  6.7Mb\r  Downloading scikit-learn-0.14.1.tar.gz (6.8Mb):  98%  6.7Mb\r  Downloading scikit-learn-0.14.1.tar.gz (6.8Mb):  98%  6.7Mb\r  Downloading scikit-learn-0.14.1.tar.gz (6.8Mb):  98%  6.7Mb\r  Downloading scikit-learn-0.14.1.tar.gz (6.8Mb):  98%  6.7Mb\r  Downloading scikit-learn-0.14.1.tar.gz (6.8Mb):  98%  6.7Mb\r  Downloading scikit-learn-0.14.1.tar.gz (6.8Mb):  98%  6.7Mb\r  Downloading scikit-learn-0.14.1.tar.gz (6.8Mb):  98%  6.7Mb\r  Downloading scikit-learn-0.14.1.tar.gz (6.8Mb):  98%  6.7Mb\r  Downloading scikit-learn-0.14.1.tar.gz (6.8Mb):  98%  6.7Mb\r  Downloading scikit-learn-0.14.1.tar.gz (6.8Mb):  98%  6.7Mb\r  Downloading scikit-learn-0.14.1.tar.gz (6.8Mb):  98%  6.8Mb\r  Downloading scikit-learn-0.14.1.tar.gz (6.8Mb):  98%  6.8Mb\r  Downloading scikit-learn-0.14.1.tar.gz (6.8Mb):  98%  6.8Mb\r  Downloading scikit-learn-0.14.1.tar.gz (6.8Mb):  98%  6.8Mb\r  Downloading scikit-learn-0.14.1.tar.gz (6.8Mb):  99%  6.8Mb\r  Downloading scikit-learn-0.14.1.tar.gz (6.8Mb):  99%  6.8Mb\r  Downloading scikit-learn-0.14.1.tar.gz (6.8Mb):  99%  6.8Mb\r  Downloading scikit-learn-0.14.1.tar.gz (6.8Mb):  99%  6.8Mb\r  Downloading scikit-learn-0.14.1.tar.gz (6.8Mb):  99%  6.8Mb\r  Downloading scikit-learn-0.14.1.tar.gz (6.8Mb):  99%  6.8Mb\r  Downloading scikit-learn-0.14.1.tar.gz (6.8Mb):  99%  6.8Mb\r  Downloading scikit-learn-0.14.1.tar.gz (6.8Mb):  99%  6.8Mb\r  Downloading scikit-learn-0.14.1.tar.gz (6.8Mb):  99%  6.8Mb\r  Downloading scikit-learn-0.14.1.tar.gz (6.8Mb):  99%  6.8Mb\r  Downloading scikit-learn-0.14.1.tar.gz (6.8Mb):  99%  6.8Mb\r  Downloading scikit-learn-0.14.1.tar.gz (6.8Mb):  99%  6.8Mb\r  Downloading scikit-learn-0.14.1.tar.gz (6.8Mb):  99%  6.8Mb\r  Downloading scikit-learn-0.14.1.tar.gz (6.8Mb):  99%  6.8Mb\r  Downloading scikit-learn-0.14.1.tar.gz (6.8Mb):  99%  6.8Mb\r  Downloading scikit-learn-0.14.1.tar.gz (6.8Mb):  99%  6.8Mb\r  Downloading scikit-learn-0.14.1.tar.gz (6.8Mb):  99%  6.8Mb\r  Downloading scikit-learn-0.14.1.tar.gz (6.8Mb): 100%  6.8Mb\r  Downloading scikit-learn-0.14.1.tar.gz (6.8Mb):            \r  Downloading scikit-learn-0.14.1.tar.gz (6.8Mb): 6.8Mb downloaded\r\n"
      },
      {
       "output_type": "stream",
       "stream": "stdout",
       "text": "  Running setup.py egg_info for package scikit-learn\r\n"
      },
      {
       "output_type": "stream",
       "stream": "stdout",
       "text": "    Partial import of sklearn during the build process.\r\n"
      },
      {
       "output_type": "stream",
       "stream": "stdout",
       "text": "    \r\nInstalling collected packages: scikit-learn\r\n  Found existing installation: scikit-learn 0.14.1\r\n"
      },
      {
       "output_type": "stream",
       "stream": "stdout",
       "text": "    Uninstalling scikit-learn:\r\n      Successfully uninstalled scikit-learn\r\n  Running setup.py install for scikit-learn\r\n"
      },
      {
       "output_type": "stream",
       "stream": "stdout",
       "text": "    Partial import of sklearn during the build process.\r\n"
      },
      {
       "output_type": "stream",
       "stream": "stdout",
       "text": "    blas_opt_info:\r\n    blas_mkl_info:\r\n      libraries mkl,vml,guide not found in /usr/local/lib\r\n      libraries mkl,vml,guide not found in /usr/lib\r\n      NOT AVAILABLE\r\n    \r\n    atlas_blas_threads_info:\r\n    Setting PTATLAS=ATLAS\r\n      libraries ptf77blas,ptcblas,atlas not found in /usr/local/lib\r\n      libraries ptf77blas,ptcblas,atlas not found in /usr/lib/atlas-base\r\n      libraries ptf77blas,ptcblas,atlas not found in /usr/lib\r\n      NOT AVAILABLE\r\n    \r\n    atlas_blas_info:\r\n      libraries f77blas,cblas,atlas not found in /usr/local/lib\r\n      libraries f77blas,cblas,atlas not found in /usr/lib/atlas-base\r\n      libraries f77blas,cblas,atlas not found in /usr/lib\r\n      NOT AVAILABLE\r\n    \r\n    /usr/local/lib/python2.7/dist-packages/numpy/distutils/system_info.py:1425: UserWarning:\r\n        Atlas (http://math-atlas.sourceforge.net/) libraries not found.\r\n        Directories to search for the libraries can be specified in the\r\n        numpy/distutils/site.cfg file (section [atlas]) or by setting\r\n        the ATLAS environment variable.\r\n      warnings.warn(AtlasNotFoundError.__doc__)\r\n    blas_info:\r\n      libraries blas not found in /usr/local/lib\r\n      FOUND:\r\n        libraries = ['blas']\r\n        library_dirs = ['/usr/lib']\r\n        language = f77\r\n    \r\n      FOUND:\r\n        libraries = ['blas']\r\n        library_dirs = ['/usr/lib']\r\n        define_macros = [('NO_ATLAS_INFO', 1)]\r\n        language = f77\r\n    \r\n    sklearn/setup.py:77: UserWarning:\r\n        Blas (http://www.netlib.org/blas/) libraries not found.\r\n        Directories to search for the libraries can be specified in the\r\n        numpy/distutils/site.cfg file (section [blas]) or by setting\r\n        the BLAS environment variable.\r\n      warnings.warn(BlasNotFoundError.__doc__)\r\n"
      },
      {
       "output_type": "stream",
       "stream": "stdout",
       "text": "    unifing config_cc, config, build_clib, build_ext, build commands --compiler options\r\n    unifing config_fc, config, build_clib, build_ext, build commands --fcompiler options\r\n    build_src\r\n    building library \"libsvm-skl\" sources\r\n    building library \"cblas\" sources\r\n    building extension \"sklearn.__check_build._check_build\" sources\r\n    building extension \"sklearn.svm.libsvm\" sources\r\n    building extension \"sklearn.svm.liblinear\" sources\r\n    building extension \"sklearn.svm.libsvm_sparse\" sources\r\n    building extension \"sklearn.datasets._svmlight_format\" sources\r\n    building extension \"sklearn.feature_extraction._hashing\" sources\r\n    building extension \"sklearn.cluster._hierarchical\" sources\r\n    building extension \"sklearn.cluster._k_means\" sources\r\n    building extension \"sklearn.ensemble._gradient_boosting\" sources\r\n    building extension \"sklearn.utils.sparsetools._min_spanning_tree\" sources\r\n    building extension \"sklearn.utils.sparsetools._traversal\" sources\r\n    building extension \"sklearn.utils.sparsetools._graph_tools\" sources\r\n    building extension \"sklearn.utils.arraybuilder\" sources\r\n    building extension \"sklearn.utils.sparsefuncs\" sources\r\n    building extension \"sklearn.utils.arrayfuncs\" sources\r\n    building extension \"sklearn.utils.murmurhash\" sources\r\n    building extension \"sklearn.utils.lgamma\" sources\r\n    building extension \"sklearn.utils.graph_shortest_path\" sources\r\n    building extension \"sklearn.utils.seq_dataset\" sources\r\n    building extension \"sklearn.utils.weight_vector\" sources\r\n    building extension \"sklearn.utils.random\" sources\r\n    building extension \"sklearn.utils._logistic_sigmoid\" sources\r\n    building extension \"sklearn.neighbors.ball_tree\" sources\r\n    building extension \"sklearn.neighbors.kd_tree\" sources\r\n    building extension \"sklearn.neighbors.dist_metrics\" sources\r\n    building extension \"sklearn.neighbors.typedefs\" sources\r\n    building extension \"sklearn.metrics.pairwise_fast\" sources\r\n    building extension \"sklearn.tree._tree\" sources\r\n    building extension \"sklearn.metrics/cluster.expected_mutual_info_fast\" sources\r\n    building extension \"sklearn._hmmc\" sources\r\n    building extension \"sklearn._isotonic\" sources\r\n    building extension \"sklearn.linear_model.cd_fast\" sources\r\n    building extension \"sklearn.linear_model.sgd_fast\" sources\r\n    building extension \"sklearn.utils.sparsetools._min_spanning_tree\" sources\r\n    building extension \"sklearn.utils.sparsetools._traversal\" sources\r\n    building extension \"sklearn.utils.sparsetools._graph_tools\" sources\r\n    building extension \"sklearn.utils.arraybuilder\" sources\r\n    building extension \"sklearn.utils.sparsefuncs\" sources\r\n    building extension \"sklearn.utils.arrayfuncs\" sources\r\n    building extension \"sklearn.utils.murmurhash\" sources\r\n    building extension \"sklearn.utils.lgamma\" sources\r\n    building extension \"sklearn.utils.graph_shortest_path\" sources\r\n    building extension \"sklearn.utils.seq_dataset\" sources\r\n    building extension \"sklearn.utils.weight_vector\" sources\r\n    building extension \"sklearn.utils.random\" sources\r\n    building extension \"sklearn.utils._logistic_sigmoid\" sources\r\n    building data_files sources\r\n    build_src: building npy-pkg config files\r\n"
      },
      {
       "output_type": "stream",
       "stream": "stdout",
       "text": "    customize UnixCCompiler\r\n    customize UnixCCompiler using build_clib\r\n    building 'libsvm-skl' library\r\n    compiling C++ sources\r\n    C compiler: g++ -pthread -fno-strict-aliasing -DNDEBUG -g -fwrapv -O2 -Wall -fPIC\r\n    \r\n    compile options: '-I/usr/local/lib/python2.7/dist-packages/numpy/core/include -c'\r\n    g++: sklearn/svm/src/libsvm/libsvm_template.cpp\r\n"
      },
      {
       "output_type": "stream",
       "stream": "stdout",
       "text": "    ar: adding 1 object files to build/temp.linux-x86_64-2.7/liblibsvm-skl.a\r\n    building 'cblas' library\r\n    compiling C sources\r\n    C compiler: gcc -pthread -fno-strict-aliasing -DNDEBUG -g -fwrapv -O2 -Wall -fPIC\r\n    \r\n    compile options: '-I/usr/local/lib/python2.7/dist-packages/numpy/core/include -c'\r\n    gcc: sklearn/src/cblas/cblas_srotg.c\r\n"
      },
      {
       "output_type": "stream",
       "stream": "stdout",
       "text": "    sklearn/src/cblas/atlas_misc.h:393:12: warning: \ufffd\ufffd\ufffdATL_AlignOffset\ufffd\ufffd\ufffd defined but not used [-Wunused-function]\r\n    sklearn/src/cblas/atlas_misc.h:409:14: warning: \ufffd\ufffd\ufffdATL_Align2Ptr\ufffd\ufffd\ufffd defined but not used [-Wunused-function]\r\n"
      },
      {
       "output_type": "stream",
       "stream": "stdout",
       "text": "    gcc: sklearn/src/cblas/cblas_dnrm2.c\r\n"
      },
      {
       "output_type": "stream",
       "stream": "stdout",
       "text": "    gcc: sklearn/src/cblas/ATL_dreftrsvUTU.c\r\n"
      },
      {
       "output_type": "stream",
       "stream": "stdout",
       "text": "    gcc: sklearn/src/cblas/ATL_sreftrsvUTU.c\r\n"
      },
      {
       "output_type": "stream",
       "stream": "stdout",
       "text": "    gcc: sklearn/src/cblas/cblas_dger.c\r\n"
      },
      {
       "output_type": "stream",
       "stream": "stdout",
       "text": "    sklearn/src/cblas/cblas_dger.c: In function \ufffd\ufffd\ufffdcblas_dger\ufffd\ufffd\ufffd:\r\n    sklearn/src/cblas/cblas_dger.c:73:7: warning: implicit declaration of function \ufffd\ufffd\ufffdcblas_xerbla\ufffd\ufffd\ufffd [-Wimplicit-function-declaration]\r\n    sklearn/src/cblas/cblas_dger.c: At top level:\r\n    sklearn/src/cblas/atlas_misc.h:393:12: warning: \ufffd\ufffd\ufffdATL_AlignOffset\ufffd\ufffd\ufffd defined but not used [-Wunused-function]\r\n    sklearn/src/cblas/atlas_misc.h:409:14: warning: \ufffd\ufffd\ufffdATL_Align2Ptr\ufffd\ufffd\ufffd defined but not used [-Wunused-function]\r\n"
      },
      {
       "output_type": "stream",
       "stream": "stdout",
       "text": "    gcc: sklearn/src/cblas/cblas_srot.c\r\n"
      },
      {
       "output_type": "stream",
       "stream": "stdout",
       "text": "    sklearn/src/cblas/atlas_misc.h:393:12: warning: \ufffd\ufffd\ufffdATL_AlignOffset\ufffd\ufffd\ufffd defined but not used [-Wunused-function]\r\n    sklearn/src/cblas/atlas_misc.h:409:14: warning: \ufffd\ufffd\ufffdATL_Align2Ptr\ufffd\ufffd\ufffd defined but not used [-Wunused-function]\r\n    gcc: sklearn/src/cblas/ATL_sreftrsvUTN.c\r\n"
      },
      {
       "output_type": "stream",
       "stream": "stdout",
       "text": "    gcc: sklearn/src/cblas/ATL_sreftrsvLNU.c\r\n"
      },
      {
       "output_type": "stream",
       "stream": "stdout",
       "text": "    gcc: sklearn/src/cblas/ATL_srefcopy.c\r\n"
      },
      {
       "output_type": "stream",
       "stream": "stdout",
       "text": "    gcc: sklearn/src/cblas/cblas_dtrsv.c\r\n"
      },
      {
       "output_type": "stream",
       "stream": "stdout",
       "text": "    sklearn/src/cblas/cblas_dtrsv.c: In function \ufffd\ufffd\ufffdcblas_dtrsv\ufffd\ufffd\ufffd:\r\n    sklearn/src/cblas/cblas_dtrsv.c:73:7: warning: implicit declaration of function \ufffd\ufffd\ufffdcblas_xerbla\ufffd\ufffd\ufffd [-Wimplicit-function-declaration]\r\n    sklearn/src/cblas/cblas_dtrsv.c: At top level:\r\n    sklearn/src/cblas/atlas_misc.h:393:12: warning: \ufffd\ufffd\ufffdATL_AlignOffset\ufffd\ufffd\ufffd defined but not used [-Wunused-function]\r\n    sklearn/src/cblas/atlas_misc.h:409:14: warning: \ufffd\ufffd\ufffdATL_Align2Ptr\ufffd\ufffd\ufffd defined but not used [-Wunused-function]\r\n"
      },
      {
       "output_type": "stream",
       "stream": "stdout",
       "text": "    gcc: sklearn/src/cblas/ATL_drefger.c\r\n"
      },
      {
       "output_type": "stream",
       "stream": "stdout",
       "text": "    gcc: sklearn/src/cblas/ATL_sreftrsvLTU.c\r\n"
      },
      {
       "output_type": "stream",
       "stream": "stdout",
       "text": "    gcc: sklearn/src/cblas/ATL_dreftrsvLTU.c\r\n"
      },
      {
       "output_type": "stream",
       "stream": "stdout",
       "text": "    gcc: sklearn/src/cblas/ATL_drefgemvT.c\r\n"
      },
      {
       "output_type": "stream",
       "stream": "stdout",
       "text": "    gcc: sklearn/src/cblas/cblas_scopy.c\r\n"
      },
      {
       "output_type": "stream",
       "stream": "stdout",
       "text": "    sklearn/src/cblas/cblas_scopy.c: In function \ufffd\ufffd\ufffdcblas_scopy\ufffd\ufffd\ufffd:\r\n    sklearn/src/cblas/cblas_scopy.c:46:10: warning: implicit declaration of function \ufffd\ufffd\ufffdATL_srefcopy\ufffd\ufffd\ufffd [-Wimplicit-function-declaration]\r\n    sklearn/src/cblas/cblas_scopy.c: At top level:\r\n    sklearn/src/cblas/atlas_misc.h:393:12: warning: \ufffd\ufffd\ufffdATL_AlignOffset\ufffd\ufffd\ufffd defined but not used [-Wunused-function]\r\n    sklearn/src/cblas/atlas_misc.h:409:14: warning: \ufffd\ufffd\ufffdATL_Align2Ptr\ufffd\ufffd\ufffd defined but not used [-Wunused-function]\r\n    gcc: sklearn/src/cblas/ATL_drefcopy.c\r\n"
      },
      {
       "output_type": "stream",
       "stream": "stdout",
       "text": "    gcc: sklearn/src/cblas/cblas_dscal.c\r\n"
      },
      {
       "output_type": "stream",
       "stream": "stdout",
       "text": "    gcc: sklearn/src/cblas/ATL_srefrotg.c\r\n"
      },
      {
       "output_type": "stream",
       "stream": "stdout",
       "text": "    gcc: sklearn/src/cblas/ATL_dreftrsvUNU.c\r\n"
      },
      {
       "output_type": "stream",
       "stream": "stdout",
       "text": "    gcc: sklearn/src/cblas/cblas_drot.c\r\n"
      },
      {
       "output_type": "stream",
       "stream": "stdout",
       "text": "    sklearn/src/cblas/atlas_misc.h:393:12: warning: \ufffd\ufffd\ufffdATL_AlignOffset\ufffd\ufffd\ufffd defined but not used [-Wunused-function]\r\n    sklearn/src/cblas/atlas_misc.h:409:14: warning: \ufffd\ufffd\ufffdATL_Align2Ptr\ufffd\ufffd\ufffd defined but not used [-Wunused-function]\r\n"
      },
      {
       "output_type": "stream",
       "stream": "stdout",
       "text": "    gcc: sklearn/src/cblas/ATL_dreftrsvUNN.c\r\n"
      },
      {
       "output_type": "stream",
       "stream": "stdout",
       "text": "    gcc: sklearn/src/cblas/ATL_drefrot.c\r\n"
      },
      {
       "output_type": "stream",
       "stream": "stdout",
       "text": "    gcc: sklearn/src/cblas/ATL_dreftrsvLNN.c\r\n"
      },
      {
       "output_type": "stream",
       "stream": "stdout",
       "text": "    gcc: sklearn/src/cblas/ATL_dreftrsvUTN.c\r\n"
      },
      {
       "output_type": "stream",
       "stream": "stdout",
       "text": "    gcc: sklearn/src/cblas/cblas_xerbla.c\r\n"
      },
      {
       "output_type": "stream",
       "stream": "stdout",
       "text": "    sklearn/src/cblas/cblas_xerbla.c: In function \ufffd\ufffd\ufffdcblas_xerbla\ufffd\ufffd\ufffd:\r\n    sklearn/src/cblas/cblas_xerbla.c:52:4: warning: implicit declaration of function \ufffd\ufffd\ufffdexit\ufffd\ufffd\ufffd [-Wimplicit-function-declaration]\r\n    sklearn/src/cblas/cblas_xerbla.c:52:4: warning: incompatible implicit declaration of built-in function \ufffd\ufffd\ufffdexit\ufffd\ufffd\ufffd [enabled by default]\r\n"
      },
      {
       "output_type": "stream",
       "stream": "stdout",
       "text": "    gcc: sklearn/src/cblas/ATL_drefgemv.c\r\n"
      },
      {
       "output_type": "stream",
       "stream": "stdout",
       "text": "    gcc: sklearn/src/cblas/cblas_dgemv.c\r\n"
      },
      {
       "output_type": "stream",
       "stream": "stdout",
       "text": "    sklearn/src/cblas/cblas_dgemv.c: In function \ufffd\ufffd\ufffdcblas_dgemv\ufffd\ufffd\ufffd:\r\n    sklearn/src/cblas/cblas_dgemv.c:79:7: warning: implicit declaration of function \ufffd\ufffd\ufffdcblas_xerbla\ufffd\ufffd\ufffd [-Wimplicit-function-declaration]\r\n    sklearn/src/cblas/cblas_dgemv.c: At top level:\r\n    sklearn/src/cblas/atlas_misc.h:393:12: warning: \ufffd\ufffd\ufffdATL_AlignOffset\ufffd\ufffd\ufffd defined but not used [-Wunused-function]\r\n    sklearn/src/cblas/atlas_misc.h:409:14: warning: \ufffd\ufffd\ufffdATL_Align2Ptr\ufffd\ufffd\ufffd defined but not used [-Wunused-function]\r\n"
      },
      {
       "output_type": "stream",
       "stream": "stdout",
       "text": "    gcc: sklearn/src/cblas/cblas_ddot.c\r\n"
      },
      {
       "output_type": "stream",
       "stream": "stdout",
       "text": "    gcc: sklearn/src/cblas/ATL_sreftrsvUNN.c\r\n"
      },
      {
       "output_type": "stream",
       "stream": "stdout",
       "text": "    gcc: sklearn/src/cblas/cblas_daxpy.c\r\n"
      },
      {
       "output_type": "stream",
       "stream": "stdout",
       "text": "    gcc: sklearn/src/cblas/ATL_srefrot.c\r\n"
      },
      {
       "output_type": "stream",
       "stream": "stdout",
       "text": "    gcc: sklearn/src/cblas/ATL_sreftrsvUNU.c\r\n"
      },
      {
       "output_type": "stream",
       "stream": "stdout",
       "text": "    gcc: sklearn/src/cblas/cblas_errprn.c\r\n"
      },
      {
       "output_type": "stream",
       "stream": "stdout",
       "text": "    gcc: sklearn/src/cblas/ATL_dreftrsvLNU.c\r\n"
      },
      {
       "output_type": "stream",
       "stream": "stdout",
       "text": "    gcc: sklearn/src/cblas/ATL_drefrotg.c\r\n"
      },
      {
       "output_type": "stream",
       "stream": "stdout",
       "text": "    gcc: sklearn/src/cblas/cblas_drotg.c\r\n"
      },
      {
       "output_type": "stream",
       "stream": "stdout",
       "text": "    sklearn/src/cblas/atlas_misc.h:393:12: warning: \ufffd\ufffd\ufffdATL_AlignOffset\ufffd\ufffd\ufffd defined but not used [-Wunused-function]\r\n    sklearn/src/cblas/atlas_misc.h:409:14: warning: \ufffd\ufffd\ufffdATL_Align2Ptr\ufffd\ufffd\ufffd defined but not used [-Wunused-function]\r\n"
      },
      {
       "output_type": "stream",
       "stream": "stdout",
       "text": "    gcc: sklearn/src/cblas/ATL_sreftrsvLNN.c\r\n"
      },
      {
       "output_type": "stream",
       "stream": "stdout",
       "text": "    gcc: sklearn/src/cblas/cblas_dcopy.c\r\n"
      },
      {
       "output_type": "stream",
       "stream": "stdout",
       "text": "    sklearn/src/cblas/cblas_dcopy.c: In function \ufffd\ufffd\ufffdcblas_dcopy\ufffd\ufffd\ufffd:\r\n    sklearn/src/cblas/cblas_dcopy.c:46:10: warning: implicit declaration of function \ufffd\ufffd\ufffdATL_drefcopy\ufffd\ufffd\ufffd [-Wimplicit-function-declaration]\r\n    sklearn/src/cblas/cblas_dcopy.c: At top level:\r\n    sklearn/src/cblas/atlas_misc.h:393:12: warning: \ufffd\ufffd\ufffdATL_AlignOffset\ufffd\ufffd\ufffd defined but not used [-Wunused-function]\r\n    sklearn/src/cblas/atlas_misc.h:409:14: warning: \ufffd\ufffd\ufffdATL_Align2Ptr\ufffd\ufffd\ufffd defined but not used [-Wunused-function]\r\n"
      },
      {
       "output_type": "stream",
       "stream": "stdout",
       "text": "    gcc: sklearn/src/cblas/ATL_sreftrsv.c\r\n"
      },
      {
       "output_type": "stream",
       "stream": "stdout",
       "text": "    gcc: sklearn/src/cblas/ATL_dreftrsv.c\r\n"
      },
      {
       "output_type": "stream",
       "stream": "stdout",
       "text": "    gcc: sklearn/src/cblas/ATL_dreftrsvLTN.c\r\n"
      },
      {
       "output_type": "stream",
       "stream": "stdout",
       "text": "    gcc: sklearn/src/cblas/ATL_drefgemvN.c\r\n"
      },
      {
       "output_type": "stream",
       "stream": "stdout",
       "text": "    gcc: sklearn/src/cblas/cblas_strsv.c\r\n"
      },
      {
       "output_type": "stream",
       "stream": "stdout",
       "text": "    sklearn/src/cblas/cblas_strsv.c: In function \ufffd\ufffd\ufffdcblas_strsv\ufffd\ufffd\ufffd:\r\n    sklearn/src/cblas/cblas_strsv.c:73:7: warning: implicit declaration of function \ufffd\ufffd\ufffdcblas_xerbla\ufffd\ufffd\ufffd [-Wimplicit-function-declaration]\r\n    sklearn/src/cblas/cblas_strsv.c: At top level:\r\n    sklearn/src/cblas/atlas_misc.h:393:12: warning: \ufffd\ufffd\ufffdATL_AlignOffset\ufffd\ufffd\ufffd defined but not used [-Wunused-function]\r\n    sklearn/src/cblas/atlas_misc.h:409:14: warning: \ufffd\ufffd\ufffdATL_Align2Ptr\ufffd\ufffd\ufffd defined but not used [-Wunused-function]\r\n    gcc: sklearn/src/cblas/ATL_sreftrsvLTN.c\r\n"
      },
      {
       "output_type": "stream",
       "stream": "stdout",
       "text": "    ar: adding 44 object files to build/temp.linux-x86_64-2.7/libcblas.a\r\n    customize UnixCCompiler\r\n"
      },
      {
       "output_type": "stream",
       "stream": "stdout",
       "text": "    customize UnixCCompiler using build_ext\r\n    resetting extension 'sklearn.svm.liblinear' language from 'f77' to 'c++'.\r\n    customize UnixCCompiler\r\n    customize UnixCCompiler using build_ext\r\n    customize GnuFCompiler\r\n    Could not locate executable g77\r\n    Could not locate executable f77\r\n    customize IntelFCompiler\r\n    Could not locate executable ifort\r\n    Could not locate executable ifc\r\n    customize LaheyFCompiler\r\n    Could not locate executable lf95\r\n    customize PGroupFCompiler\r\n    Could not locate executable pgfortran\r\n    customize AbsoftFCompiler\r\n    Could not locate executable f90\r\n    customize NAGFCompiler\r\n    Found executable /usr/bin/f95\r\n    customize VastFCompiler\r\n"
      },
      {
       "output_type": "stream",
       "stream": "stdout",
       "text": "    customize CompaqFCompiler\r\n    Could not locate executable fort\r\n    customize IntelItaniumFCompiler\r\n    Could not locate executable efort\r\n    Could not locate executable efc\r\n    customize IntelEM64TFCompiler\r\n    customize Gnu95FCompiler\r\n    Found executable /usr/bin/gfortran\r\n    customize Gnu95FCompiler\r\n"
      },
      {
       "output_type": "stream",
       "stream": "stdout",
       "text": "    customize Gnu95FCompiler using build_ext\r\n    building 'sklearn.__check_build._check_build' extension\r\n    compiling C sources\r\n    C compiler: gcc -pthread -fno-strict-aliasing -DNDEBUG -g -fwrapv -O2 -Wall -Wstrict-prototypes -fPIC\r\n    \r\n    compile options: '-I/usr/local/lib/python2.7/dist-packages/numpy/core/include -I/usr/local/lib/python2.7/dist-packages/numpy/core/include -I/usr/include/python2.7 -c'\r\n    gcc: sklearn/__check_build/_check_build.c\r\n"
      },
      {
       "output_type": "stream",
       "stream": "stdout",
       "text": "    gcc -pthread -shared -Wl,-O1 -Wl,-Bsymbolic-functions -Wl,-Bsymbolic-functions -Wl,-z,relro build/temp.linux-x86_64-2.7/sklearn/__check_build/_check_build.o -Lbuild/temp.linux-x86_64-2.7 -o build/lib.linux-x86_64-2.7/sklearn/__check_build/_check_build.so\r\n"
      },
      {
       "output_type": "stream",
       "stream": "stdout",
       "text": "    building 'sklearn.svm.libsvm' extension\r\n    compiling C sources\r\n    C compiler: gcc -pthread -fno-strict-aliasing -DNDEBUG -g -fwrapv -O2 -Wall -Wstrict-prototypes -fPIC\r\n    \r\n    compile options: '-I/usr/local/lib/python2.7/dist-packages/numpy/core/include -Isklearn/svm/src/libsvm -I/usr/local/lib/python2.7/dist-packages/numpy/core/include -I/usr/include/python2.7 -c'\r\n    gcc: sklearn/svm/libsvm.c\r\n"
      },
      {
       "output_type": "stream",
       "stream": "stdout",
       "text": "    /usr/local/lib/python2.7/dist-packages/numpy/core/include/numpy/__ufunc_api.h:226:1: warning: \ufffd\ufffd\ufffd_import_umath\ufffd\ufffd\ufffd defined but not used [-Wunused-function]\r\n"
      },
      {
       "output_type": "stream",
       "stream": "stdout",
       "text": "    g++ -pthread -shared -Wl,-O1 -Wl,-Bsymbolic-functions -Wl,-Bsymbolic-functions -Wl,-z,relro build/temp.linux-x86_64-2.7/sklearn/svm/libsvm.o -Lbuild/temp.linux-x86_64-2.7 -llibsvm-skl -o build/lib.linux-x86_64-2.7/sklearn/svm/libsvm.so\r\n"
      },
      {
       "output_type": "stream",
       "stream": "stdout",
       "text": "    building 'sklearn.svm.liblinear' extension\r\n    compiling C sources\r\n    C compiler: gcc -pthread -fno-strict-aliasing -DNDEBUG -g -fwrapv -O2 -Wall -Wstrict-prototypes -fPIC\r\n    \r\n    compile options: '-DNO_ATLAS_INFO=1 -Isklearn/svm/src -I/usr/local/lib/python2.7/dist-packages/numpy/core/include -I/usr/local/lib/python2.7/dist-packages/numpy/core/include -I/usr/include/python2.7 -c'\r\n    gcc: sklearn/svm/liblinear.c\r\n"
      },
      {
       "output_type": "stream",
       "stream": "stdout",
       "text": "    /usr/local/lib/python2.7/dist-packages/numpy/core/include/numpy/__ufunc_api.h:226:1: warning: \ufffd\ufffd\ufffd_import_umath\ufffd\ufffd\ufffd defined but not used [-Wunused-function]\r\n"
      },
      {
       "output_type": "stream",
       "stream": "stdout",
       "text": "    compiling C++ sources\r\n    C compiler: g++ -pthread -fno-strict-aliasing -DNDEBUG -g -fwrapv -O2 -Wall -fPIC\r\n    \r\n    compile options: '-DNO_ATLAS_INFO=1 -Isklearn/svm/src -I/usr/local/lib/python2.7/dist-packages/numpy/core/include -I/usr/local/lib/python2.7/dist-packages/numpy/core/include -I/usr/include/python2.7 -c'\r\n    g++: sklearn/svm/src/liblinear/linear.cpp\r\n"
      },
      {
       "output_type": "stream",
       "stream": "stdout",
       "text": "    sklearn/svm/src/liblinear/linear.cpp: In function \ufffd\ufffd\ufffdvoid solve_l2r_l1l2_svr(const problem*, double*, const parameter*, int)\ufffd\ufffd\ufffd:\r\n    sklearn/svm/src/liblinear/linear.cpp:1173:3: warning: \ufffd\ufffd\ufffdGnorm1_init\ufffd\ufffd\ufffd may be used uninitialized in this function [-Wuninitialized]\r\n"
      },
      {
       "output_type": "stream",
       "stream": "stdout",
       "text": "    sklearn/svm/src/liblinear/linear.cpp: In function \ufffd\ufffd\ufffdvoid train_one(const problem*, const parameter*, double*, double, double)\ufffd\ufffd\ufffd:\r\n    sklearn/svm/src/liblinear/linear.cpp:1630:3: warning: \ufffd\ufffd\ufffdGnorm1_init\ufffd\ufffd\ufffd may be used uninitialized in this function [-Wuninitialized]\r\n    sklearn/svm/src/liblinear/linear.cpp:1426:9: note: \ufffd\ufffd\ufffdGnorm1_init\ufffd\ufffd\ufffd was declared here\r\n"
      },
      {
       "output_type": "stream",
       "stream": "stdout",
       "text": "    g++: sklearn/svm/src/liblinear/tron.cpp\r\n"
      },
      {
       "output_type": "stream",
       "stream": "stdout",
       "text": "    g++ -pthread -shared -Wl,-O1 -Wl,-Bsymbolic-functions -Wl,-Bsymbolic-functions -Wl,-z,relro build/temp.linux-x86_64-2.7/sklearn/svm/liblinear.o build/temp.linux-x86_64-2.7/sklearn/svm/src/liblinear/tron.o build/temp.linux-x86_64-2.7/sklearn/svm/src/liblinear/linear.o -Lbuild/temp.linux-x86_64-2.7 -lblas -o build/lib.linux-x86_64-2.7/sklearn/svm/liblinear.so\r\n"
      },
      {
       "output_type": "stream",
       "stream": "stdout",
       "text": "    building 'sklearn.svm.libsvm_sparse' extension\r\n    compiling C sources\r\n    C compiler: gcc -pthread -fno-strict-aliasing -DNDEBUG -g -fwrapv -O2 -Wall -Wstrict-prototypes -fPIC\r\n    \r\n    compile options: '-I/usr/local/lib/python2.7/dist-packages/numpy/core/include -Isklearn/svm/src/libsvm -I/usr/local/lib/python2.7/dist-packages/numpy/core/include -I/usr/include/python2.7 -c'\r\n    gcc: sklearn/svm/libsvm_sparse.c\r\n"
      },
      {
       "output_type": "stream",
       "stream": "stdout",
       "text": "    sklearn/svm/libsvm_sparse.c: In function \ufffd\ufffd\ufffd__pyx_pf_7sklearn_3svm_13libsvm_sparse_libsvm_sparse_train\ufffd\ufffd\ufffd:\r\n    sklearn/svm/libsvm_sparse.c:2188:3: warning: passing argument 2 of \ufffd\ufffd\ufffdcopy_support\ufffd\ufffd\ufffd from incompatible pointer type [enabled by default]\r\n    sklearn/svm/src/libsvm/libsvm_sparse_helper.c:309:6: note: expected \ufffd\ufffd\ufffdstruct svm_model *\ufffd\ufffd\ufffd but argument is of type \ufffd\ufffd\ufffdstruct svm_csr_model *\ufffd\ufffd\ufffd\r\n"
      },
      {
       "output_type": "stream",
       "stream": "stdout",
       "text": "    sklearn/svm/libsvm_sparse.c: At top level:\r\n    /usr/local/lib/python2.7/dist-packages/numpy/core/include/numpy/__ufunc_api.h:226:1: warning: \ufffd\ufffd\ufffd_import_umath\ufffd\ufffd\ufffd defined but not used [-Wunused-function]\r\n"
      },
      {
       "output_type": "stream",
       "stream": "stdout",
       "text": "    g++ -pthread -shared -Wl,-O1 -Wl,-Bsymbolic-functions -Wl,-Bsymbolic-functions -Wl,-z,relro build/temp.linux-x86_64-2.7/sklearn/svm/libsvm_sparse.o -Lbuild/temp.linux-x86_64-2.7 -llibsvm-skl -o build/lib.linux-x86_64-2.7/sklearn/svm/libsvm_sparse.so\r\n"
      },
      {
       "output_type": "stream",
       "stream": "stdout",
       "text": "    building 'sklearn.datasets._svmlight_format' extension\r\n    compiling C sources\r\n    C compiler: gcc -pthread -fno-strict-aliasing -DNDEBUG -g -fwrapv -O2 -Wall -Wstrict-prototypes -fPIC\r\n    \r\n    compile options: '-I/usr/local/lib/python2.7/dist-packages/numpy/core/include -I/usr/local/lib/python2.7/dist-packages/numpy/core/include -I/usr/include/python2.7 -c'\r\n    gcc: sklearn/datasets/_svmlight_format.c\r\n"
      },
      {
       "output_type": "stream",
       "stream": "stdout",
       "text": "    /usr/local/lib/python2.7/dist-packages/numpy/core/include/numpy/__ufunc_api.h:226:1: warning: \ufffd\ufffd\ufffd_import_umath\ufffd\ufffd\ufffd defined but not used [-Wunused-function]\r\n"
      },
      {
       "output_type": "stream",
       "stream": "stdout",
       "text": "    gcc -pthread -shared -Wl,-O1 -Wl,-Bsymbolic-functions -Wl,-Bsymbolic-functions -Wl,-z,relro build/temp.linux-x86_64-2.7/sklearn/datasets/_svmlight_format.o -Lbuild/temp.linux-x86_64-2.7 -o build/lib.linux-x86_64-2.7/sklearn/datasets/_svmlight_format.so\r\n"
      },
      {
       "output_type": "stream",
       "stream": "stdout",
       "text": "    building 'sklearn.feature_extraction._hashing' extension\r\n    compiling C sources\r\n    C compiler: gcc -pthread -fno-strict-aliasing -DNDEBUG -g -fwrapv -O2 -Wall -Wstrict-prototypes -fPIC\r\n    \r\n    compile options: '-I/usr/local/lib/python2.7/dist-packages/numpy/core/include -I/usr/local/lib/python2.7/dist-packages/numpy/core/include -I/usr/include/python2.7 -c'\r\n    gcc: sklearn/feature_extraction/_hashing.c\r\n"
      },
      {
       "output_type": "stream",
       "stream": "stdout",
       "text": "    /usr/local/lib/python2.7/dist-packages/numpy/core/include/numpy/__ufunc_api.h:226:1: warning: \ufffd\ufffd\ufffd_import_umath\ufffd\ufffd\ufffd defined but not used [-Wunused-function]\r\n"
      },
      {
       "output_type": "stream",
       "stream": "stdout",
       "text": "    gcc -pthread -shared -Wl,-O1 -Wl,-Bsymbolic-functions -Wl,-Bsymbolic-functions -Wl,-z,relro build/temp.linux-x86_64-2.7/sklearn/feature_extraction/_hashing.o -Lbuild/temp.linux-x86_64-2.7 -lm -o build/lib.linux-x86_64-2.7/sklearn/feature_extraction/_hashing.so\r\n"
      },
      {
       "output_type": "stream",
       "stream": "stdout",
       "text": "    building 'sklearn.cluster._hierarchical' extension\r\n    compiling C sources\r\n    C compiler: gcc -pthread -fno-strict-aliasing -DNDEBUG -g -fwrapv -O2 -Wall -Wstrict-prototypes -fPIC\r\n    \r\n    compile options: '-I/usr/local/lib/python2.7/dist-packages/numpy/core/include -I/usr/local/lib/python2.7/dist-packages/numpy/core/include -I/usr/include/python2.7 -c'\r\n    gcc: sklearn/cluster/_hierarchical.c\r\n"
      },
      {
       "output_type": "stream",
       "stream": "stdout",
       "text": "    /usr/local/lib/python2.7/dist-packages/numpy/core/include/numpy/__ufunc_api.h:226:1: warning: \ufffd\ufffd\ufffd_import_umath\ufffd\ufffd\ufffd defined but not used [-Wunused-function]\r\n"
      },
      {
       "output_type": "stream",
       "stream": "stdout",
       "text": "    gcc -pthread -shared -Wl,-O1 -Wl,-Bsymbolic-functions -Wl,-Bsymbolic-functions -Wl,-z,relro build/temp.linux-x86_64-2.7/sklearn/cluster/_hierarchical.o -Lbuild/temp.linux-x86_64-2.7 -lm -o build/lib.linux-x86_64-2.7/sklearn/cluster/_hierarchical.so\r\n"
      },
      {
       "output_type": "stream",
       "stream": "stdout",
       "text": "    building 'sklearn.cluster._k_means' extension\r\n    compiling C sources\r\n    C compiler: gcc -pthread -fno-strict-aliasing -DNDEBUG -g -fwrapv -O2 -Wall -Wstrict-prototypes -fPIC\r\n    \r\n    compile options: '-DNO_ATLAS_INFO=1 -Isklearn/src/cblas -I/usr/local/lib/python2.7/dist-packages/numpy/core/include -I/usr/local/lib/python2.7/dist-packages/numpy/core/include -I/usr/include/python2.7 -c'\r\n    gcc: sklearn/cluster/_k_means.c\r\n"
      },
      {
       "output_type": "stream",
       "stream": "stdout",
       "text": "    /usr/local/lib/python2.7/dist-packages/numpy/core/include/numpy/__ufunc_api.h:226:1: warning: \ufffd\ufffd\ufffd_import_umath\ufffd\ufffd\ufffd defined but not used [-Wunused-function]\r\n"
      },
      {
       "output_type": "stream",
       "stream": "stdout",
       "text": "    /usr/bin/gfortran -Wall -Wall -shared build/temp.linux-x86_64-2.7/sklearn/cluster/_k_means.o -L/usr/lib -Lbuild/temp.linux-x86_64-2.7 -lcblas -lm -lgfortran -o build/lib.linux-x86_64-2.7/sklearn/cluster/_k_means.so\r\n"
      },
      {
       "output_type": "stream",
       "stream": "stdout",
       "text": "    building 'sklearn.ensemble._gradient_boosting' extension\r\n    compiling C sources\r\n    C compiler: gcc -pthread -fno-strict-aliasing -DNDEBUG -g -fwrapv -O2 -Wall -Wstrict-prototypes -fPIC\r\n    \r\n    compile options: '-I/usr/local/lib/python2.7/dist-packages/numpy/core/include -I/usr/local/lib/python2.7/dist-packages/numpy/core/include -I/usr/include/python2.7 -c'\r\n    gcc: sklearn/ensemble/_gradient_boosting.c\r\n"
      },
      {
       "output_type": "stream",
       "stream": "stdout",
       "text": "    /usr/local/lib/python2.7/dist-packages/numpy/core/include/numpy/__ufunc_api.h:226:1: warning: \ufffd\ufffd\ufffd_import_umath\ufffd\ufffd\ufffd defined but not used [-Wunused-function]\r\n"
      },
      {
       "output_type": "stream",
       "stream": "stdout",
       "text": "    gcc -pthread -shared -Wl,-O1 -Wl,-Bsymbolic-functions -Wl,-Bsymbolic-functions -Wl,-z,relro build/temp.linux-x86_64-2.7/sklearn/ensemble/_gradient_boosting.o -Lbuild/temp.linux-x86_64-2.7 -o build/lib.linux-x86_64-2.7/sklearn/ensemble/_gradient_boosting.so\r\n"
      },
      {
       "output_type": "stream",
       "stream": "stdout",
       "text": "    building 'sklearn.utils.sparsetools._min_spanning_tree' extension\r\n    compiling C sources\r\n    C compiler: gcc -pthread -fno-strict-aliasing -DNDEBUG -g -fwrapv -O2 -Wall -Wstrict-prototypes -fPIC\r\n    \r\n    compile options: '-I/usr/local/lib/python2.7/dist-packages/numpy/core/include -I/usr/local/lib/python2.7/dist-packages/numpy/core/include -I/usr/include/python2.7 -c'\r\n    gcc: sklearn/utils/sparsetools/_min_spanning_tree.c\r\n"
      },
      {
       "output_type": "stream",
       "stream": "stdout",
       "text": "    /usr/local/lib/python2.7/dist-packages/numpy/core/include/numpy/__multiarray_api.h:1532:1: warning: \ufffd\ufffd\ufffd_import_array\ufffd\ufffd\ufffd defined but not used [-Wunused-function]\r\n    /usr/local/lib/python2.7/dist-packages/numpy/core/include/numpy/__ufunc_api.h:226:1: warning: \ufffd\ufffd\ufffd_import_umath\ufffd\ufffd\ufffd defined but not used [-Wunused-function]\r\n"
      },
      {
       "output_type": "stream",
       "stream": "stdout",
       "text": "    gcc -pthread -shared -Wl,-O1 -Wl,-Bsymbolic-functions -Wl,-Bsymbolic-functions -Wl,-z,relro build/temp.linux-x86_64-2.7/sklearn/utils/sparsetools/_min_spanning_tree.o -Lbuild/temp.linux-x86_64-2.7 -o build/lib.linux-x86_64-2.7/sklearn/utils/sparsetools/_min_spanning_tree.so\r\n"
      },
      {
       "output_type": "stream",
       "stream": "stdout",
       "text": "    building 'sklearn.utils.sparsetools._traversal' extension\r\n    compiling C sources\r\n    C compiler: gcc -pthread -fno-strict-aliasing -DNDEBUG -g -fwrapv -O2 -Wall -Wstrict-prototypes -fPIC\r\n    \r\n    compile options: '-I/usr/local/lib/python2.7/dist-packages/numpy/core/include -I/usr/local/lib/python2.7/dist-packages/numpy/core/include -I/usr/include/python2.7 -c'\r\n    gcc: sklearn/utils/sparsetools/_traversal.c\r\n"
      },
      {
       "output_type": "stream",
       "stream": "stdout",
       "text": "    sklearn/utils/sparsetools/_traversal.c: In function \ufffd\ufffd\ufffd__Pyx_GetBuffer\ufffd\ufffd\ufffd:\r\n    sklearn/utils/sparsetools/_traversal.c:10909:15: warning: unused variable \ufffd\ufffd\ufffdgetbuffer_cobj\ufffd\ufffd\ufffd [-Wunused-variable]\r\n    sklearn/utils/sparsetools/_traversal.c: In function \ufffd\ufffd\ufffd__Pyx_ReleaseBuffer\ufffd\ufffd\ufffd:\r\n    sklearn/utils/sparsetools/_traversal.c:10949:15: warning: unused variable \ufffd\ufffd\ufffdreleasebuffer_cobj\ufffd\ufffd\ufffd [-Wunused-variable]\r\n    sklearn/utils/sparsetools/_traversal.c: At top level:\r\n    /usr/local/lib/python2.7/dist-packages/numpy/core/include/numpy/__multiarray_api.h:1532:1: warning: \ufffd\ufffd\ufffd_import_array\ufffd\ufffd\ufffd defined but not used [-Wunused-function]\r\n    /usr/local/lib/python2.7/dist-packages/numpy/core/include/numpy/__ufunc_api.h:226:1: warning: \ufffd\ufffd\ufffd_import_umath\ufffd\ufffd\ufffd defined but not used [-Wunused-function]\r\n"
      },
      {
       "output_type": "stream",
       "stream": "stdout",
       "text": "    gcc -pthread -shared -Wl,-O1 -Wl,-Bsymbolic-functions -Wl,-Bsymbolic-functions -Wl,-z,relro build/temp.linux-x86_64-2.7/sklearn/utils/sparsetools/_traversal.o -Lbuild/temp.linux-x86_64-2.7 -o build/lib.linux-x86_64-2.7/sklearn/utils/sparsetools/_traversal.so\r\n"
      },
      {
       "output_type": "stream",
       "stream": "stdout",
       "text": "    building 'sklearn.utils.sparsetools._graph_tools' extension\r\n    compiling C sources\r\n    C compiler: gcc -pthread -fno-strict-aliasing -DNDEBUG -g -fwrapv -O2 -Wall -Wstrict-prototypes -fPIC\r\n    \r\n    compile options: '-I/usr/local/lib/python2.7/dist-packages/numpy/core/include -I/usr/local/lib/python2.7/dist-packages/numpy/core/include -I/usr/include/python2.7 -c'\r\n    gcc: sklearn/utils/sparsetools/_graph_tools.c\r\n"
      },
      {
       "output_type": "stream",
       "stream": "stdout",
       "text": "    sklearn/utils/sparsetools/_graph_tools.c: In function \ufffd\ufffd\ufffd__Pyx_GetBuffer\ufffd\ufffd\ufffd:\r\n    sklearn/utils/sparsetools/_graph_tools.c:8680:15: warning: unused variable \ufffd\ufffd\ufffdgetbuffer_cobj\ufffd\ufffd\ufffd [-Wunused-variable]\r\n    sklearn/utils/sparsetools/_graph_tools.c: In function \ufffd\ufffd\ufffd__Pyx_ReleaseBuffer\ufffd\ufffd\ufffd:\r\n    sklearn/utils/sparsetools/_graph_tools.c:8720:15: warning: unused variable \ufffd\ufffd\ufffdreleasebuffer_cobj\ufffd\ufffd\ufffd [-Wunused-variable]\r\n"
      },
      {
       "output_type": "stream",
       "stream": "stdout",
       "text": "    sklearn/utils/sparsetools/_graph_tools.c: At top level:\r\n    /usr/local/lib/python2.7/dist-packages/numpy/core/include/numpy/__multiarray_api.h:1532:1: warning: \ufffd\ufffd\ufffd_import_array\ufffd\ufffd\ufffd defined but not used [-Wunused-function]\r\n    /usr/local/lib/python2.7/dist-packages/numpy/core/include/numpy/__ufunc_api.h:226:1: warning: \ufffd\ufffd\ufffd_import_umath\ufffd\ufffd\ufffd defined but not used [-Wunused-function]\r\n"
      },
      {
       "output_type": "stream",
       "stream": "stdout",
       "text": "    gcc -pthread -shared -Wl,-O1 -Wl,-Bsymbolic-functions -Wl,-Bsymbolic-functions -Wl,-z,relro build/temp.linux-x86_64-2.7/sklearn/utils/sparsetools/_graph_tools.o -Lbuild/temp.linux-x86_64-2.7 -o build/lib.linux-x86_64-2.7/sklearn/utils/sparsetools/_graph_tools.so\r\n"
      },
      {
       "output_type": "stream",
       "stream": "stdout",
       "text": "    building 'sklearn.utils.arraybuilder' extension\r\n    compiling C sources\r\n    C compiler: gcc -pthread -fno-strict-aliasing -DNDEBUG -g -fwrapv -O2 -Wall -Wstrict-prototypes -fPIC\r\n    \r\n    compile options: '-I/usr/local/lib/python2.7/dist-packages/numpy/core/include -I/usr/include/python2.7 -c'\r\n    gcc: sklearn/utils/arraybuilder.c\r\n"
      },
      {
       "output_type": "stream",
       "stream": "stdout",
       "text": "    /usr/local/lib/python2.7/dist-packages/numpy/core/include/numpy/__ufunc_api.h:226:1: warning: \ufffd\ufffd\ufffd_import_umath\ufffd\ufffd\ufffd defined but not used [-Wunused-function]\r\n"
      },
      {
       "output_type": "stream",
       "stream": "stdout",
       "text": "    gcc -pthread -shared -Wl,-O1 -Wl,-Bsymbolic-functions -Wl,-Bsymbolic-functions -Wl,-z,relro build/temp.linux-x86_64-2.7/sklearn/utils/arraybuilder.o -Lbuild/temp.linux-x86_64-2.7 -o build/lib.linux-x86_64-2.7/sklearn/utils/arraybuilder.so\r\n"
      },
      {
       "output_type": "stream",
       "stream": "stdout",
       "text": "    building 'sklearn.utils.sparsefuncs' extension\r\n    compiling C sources\r\n    C compiler: gcc -pthread -fno-strict-aliasing -DNDEBUG -g -fwrapv -O2 -Wall -Wstrict-prototypes -fPIC\r\n    \r\n    compile options: '-I/usr/local/lib/python2.7/dist-packages/numpy/core/include -I/usr/include/python2.7 -c'\r\n    gcc: sklearn/utils/sparsefuncs.c\r\n"
      },
      {
       "output_type": "stream",
       "stream": "stdout",
       "text": "    /usr/local/lib/python2.7/dist-packages/numpy/core/include/numpy/__ufunc_api.h:226:1: warning: \ufffd\ufffd\ufffd_import_umath\ufffd\ufffd\ufffd defined but not used [-Wunused-function]\r\n"
      },
      {
       "output_type": "stream",
       "stream": "stdout",
       "text": "    gcc -pthread -shared -Wl,-O1 -Wl,-Bsymbolic-functions -Wl,-Bsymbolic-functions -Wl,-z,relro build/temp.linux-x86_64-2.7/sklearn/utils/sparsefuncs.o -Lbuild/temp.linux-x86_64-2.7 -lm -o build/lib.linux-x86_64-2.7/sklearn/utils/sparsefuncs.so\r\n"
      },
      {
       "output_type": "stream",
       "stream": "stdout",
       "text": "    building 'sklearn.utils.arrayfuncs' extension\r\n    compiling C sources\r\n    C compiler: gcc -pthread -fno-strict-aliasing -DNDEBUG -g -fwrapv -O2 -Wall -Wstrict-prototypes -fPIC\r\n    \r\n    compile options: '-DNO_ATLAS_INFO=1 -Isklearn/src/cblas -I/usr/local/lib/python2.7/dist-packages/numpy/core/include -I/usr/local/lib/python2.7/dist-packages/numpy/core/include -I/usr/include/python2.7 -c'\r\n    gcc: sklearn/utils/arrayfuncs.c\r\n"
      },
      {
       "output_type": "stream",
       "stream": "stdout",
       "text": "    /usr/local/lib/python2.7/dist-packages/numpy/core/include/numpy/__ufunc_api.h:226:1: warning: \ufffd\ufffd\ufffd_import_umath\ufffd\ufffd\ufffd defined but not used [-Wunused-function]\r\n"
      },
      {
       "output_type": "stream",
       "stream": "stdout",
       "text": "    /usr/bin/gfortran -Wall -Wall -shared build/temp.linux-x86_64-2.7/sklearn/utils/arrayfuncs.o -L/usr/lib -Lbuild/temp.linux-x86_64-2.7 -lcblas -lm -lgfortran -o build/lib.linux-x86_64-2.7/sklearn/utils/arrayfuncs.so\r\n"
      },
      {
       "output_type": "stream",
       "stream": "stdout",
       "text": "    building 'sklearn.utils.murmurhash' extension\r\n    compiling C sources\r\n    C compiler: gcc -pthread -fno-strict-aliasing -DNDEBUG -g -fwrapv -O2 -Wall -Wstrict-prototypes -fPIC\r\n    \r\n    compile options: '-Isklearn/utils/src -I/usr/local/lib/python2.7/dist-packages/numpy/core/include -I/usr/include/python2.7 -c'\r\n    gcc: sklearn/utils/murmurhash.c\r\n"
      },
      {
       "output_type": "stream",
       "stream": "stdout",
       "text": "    /usr/local/lib/python2.7/dist-packages/numpy/core/include/numpy/__ufunc_api.h:226:1: warning: \ufffd\ufffd\ufffd_import_umath\ufffd\ufffd\ufffd defined but not used [-Wunused-function]\r\n"
      },
      {
       "output_type": "stream",
       "stream": "stdout",
       "text": "    compiling C++ sources\r\n    C compiler: g++ -pthread -fno-strict-aliasing -DNDEBUG -g -fwrapv -O2 -Wall -fPIC\r\n    \r\n    compile options: '-Isklearn/utils/src -I/usr/local/lib/python2.7/dist-packages/numpy/core/include -I/usr/include/python2.7 -c'\r\n    g++: sklearn/utils/src/MurmurHash3.cpp\r\n"
      },
      {
       "output_type": "stream",
       "stream": "stdout",
       "text": "    g++ -pthread -shared -Wl,-O1 -Wl,-Bsymbolic-functions -Wl,-Bsymbolic-functions -Wl,-z,relro build/temp.linux-x86_64-2.7/sklearn/utils/murmurhash.o build/temp.linux-x86_64-2.7/sklearn/utils/src/MurmurHash3.o -Lbuild/temp.linux-x86_64-2.7 -o build/lib.linux-x86_64-2.7/sklearn/utils/murmurhash.so\r\n"
      },
      {
       "output_type": "stream",
       "stream": "stdout",
       "text": "    building 'sklearn.utils.lgamma' extension\r\n    compiling C sources\r\n    C compiler: gcc -pthread -fno-strict-aliasing -DNDEBUG -g -fwrapv -O2 -Wall -Wstrict-prototypes -fPIC\r\n    \r\n    compile options: '-Isklearn/utils/src -I/usr/local/lib/python2.7/dist-packages/numpy/core/include -I/usr/include/python2.7 -c'\r\n    gcc: sklearn/utils/lgamma.c\r\n"
      },
      {
       "output_type": "stream",
       "stream": "stdout",
       "text": "    gcc: sklearn/utils/src/gamma.c\r\n"
      },
      {
       "output_type": "stream",
       "stream": "stdout",
       "text": "    gcc -pthread -shared -Wl,-O1 -Wl,-Bsymbolic-functions -Wl,-Bsymbolic-functions -Wl,-z,relro build/temp.linux-x86_64-2.7/sklearn/utils/lgamma.o build/temp.linux-x86_64-2.7/sklearn/utils/src/gamma.o -Lbuild/temp.linux-x86_64-2.7 -lm -o build/lib.linux-x86_64-2.7/sklearn/utils/lgamma.so\r\n"
      },
      {
       "output_type": "stream",
       "stream": "stdout",
       "text": "    building 'sklearn.utils.graph_shortest_path' extension\r\n    compiling C sources\r\n    C compiler: gcc -pthread -fno-strict-aliasing -DNDEBUG -g -fwrapv -O2 -Wall -Wstrict-prototypes -fPIC\r\n    \r\n    compile options: '-I/usr/local/lib/python2.7/dist-packages/numpy/core/include -I/usr/local/lib/python2.7/dist-packages/numpy/core/include -I/usr/include/python2.7 -c'\r\n    gcc: sklearn/utils/graph_shortest_path.c\r\n"
      },
      {
       "output_type": "stream",
       "stream": "stdout",
       "text": "    /usr/local/lib/python2.7/dist-packages/numpy/core/include/numpy/__ufunc_api.h:226:1: warning: \ufffd\ufffd\ufffd_import_umath\ufffd\ufffd\ufffd defined but not used [-Wunused-function]\r\n"
      },
      {
       "output_type": "stream",
       "stream": "stdout",
       "text": "    gcc -pthread -shared -Wl,-O1 -Wl,-Bsymbolic-functions -Wl,-Bsymbolic-functions -Wl,-z,relro build/temp.linux-x86_64-2.7/sklearn/utils/graph_shortest_path.o -Lbuild/temp.linux-x86_64-2.7 -o build/lib.linux-x86_64-2.7/sklearn/utils/graph_shortest_path.so\r\n"
      },
      {
       "output_type": "stream",
       "stream": "stdout",
       "text": "    building 'sklearn.utils.seq_dataset' extension\r\n    compiling C sources\r\n    C compiler: gcc -pthread -fno-strict-aliasing -DNDEBUG -g -fwrapv -O2 -Wall -Wstrict-prototypes -fPIC\r\n    \r\n    compile options: '-I/usr/local/lib/python2.7/dist-packages/numpy/core/include -I/usr/local/lib/python2.7/dist-packages/numpy/core/include -I/usr/include/python2.7 -c'\r\n    gcc: sklearn/utils/seq_dataset.c\r\n"
      },
      {
       "output_type": "stream",
       "stream": "stdout",
       "text": "    /usr/local/lib/python2.7/dist-packages/numpy/core/include/numpy/__ufunc_api.h:226:1: warning: \ufffd\ufffd\ufffd_import_umath\ufffd\ufffd\ufffd defined but not used [-Wunused-function]\r\n"
      },
      {
       "output_type": "stream",
       "stream": "stdout",
       "text": "    gcc -pthread -shared -Wl,-O1 -Wl,-Bsymbolic-functions -Wl,-Bsymbolic-functions -Wl,-z,relro build/temp.linux-x86_64-2.7/sklearn/utils/seq_dataset.o -Lbuild/temp.linux-x86_64-2.7 -o build/lib.linux-x86_64-2.7/sklearn/utils/seq_dataset.so\r\n"
      },
      {
       "output_type": "stream",
       "stream": "stdout",
       "text": "    building 'sklearn.utils.weight_vector' extension\r\n    compiling C sources\r\n    C compiler: gcc -pthread -fno-strict-aliasing -DNDEBUG -g -fwrapv -O2 -Wall -Wstrict-prototypes -fPIC\r\n    \r\n    compile options: '-I/usr/local/lib/python2.7/dist-packages/numpy/core/include -I/usr/local/lib/python2.7/dist-packages/numpy/core/include -I/usr/include/python2.7 -c'\r\n    gcc: sklearn/utils/weight_vector.c\r\n"
      },
      {
       "output_type": "stream",
       "stream": "stdout",
       "text": "    /usr/local/lib/python2.7/dist-packages/numpy/core/include/numpy/__ufunc_api.h:226:1: warning: \ufffd\ufffd\ufffd_import_umath\ufffd\ufffd\ufffd defined but not used [-Wunused-function]\r\n"
      },
      {
       "output_type": "stream",
       "stream": "stdout",
       "text": "    gcc -pthread -shared -Wl,-O1 -Wl,-Bsymbolic-functions -Wl,-Bsymbolic-functions -Wl,-z,relro build/temp.linux-x86_64-2.7/sklearn/utils/weight_vector.o -Lbuild/temp.linux-x86_64-2.7 -lm -o build/lib.linux-x86_64-2.7/sklearn/utils/weight_vector.so\r\n"
      },
      {
       "output_type": "stream",
       "stream": "stdout",
       "text": "    building 'sklearn.utils.random' extension\r\n    compiling C sources\r\n    C compiler: gcc -pthread -fno-strict-aliasing -DNDEBUG -g -fwrapv -O2 -Wall -Wstrict-prototypes -fPIC\r\n    \r\n    compile options: '-I/usr/local/lib/python2.7/dist-packages/numpy/core/include -I/usr/local/lib/python2.7/dist-packages/numpy/core/include -I/usr/include/python2.7 -c'\r\n    gcc: sklearn/utils/random.c\r\n"
      },
      {
       "output_type": "stream",
       "stream": "stdout",
       "text": "    /usr/local/lib/python2.7/dist-packages/numpy/core/include/numpy/__ufunc_api.h:226:1: warning: \ufffd\ufffd\ufffd_import_umath\ufffd\ufffd\ufffd defined but not used [-Wunused-function]\r\n"
      },
      {
       "output_type": "stream",
       "stream": "stdout",
       "text": "    gcc -pthread -shared -Wl,-O1 -Wl,-Bsymbolic-functions -Wl,-Bsymbolic-functions -Wl,-z,relro build/temp.linux-x86_64-2.7/sklearn/utils/random.o -Lbuild/temp.linux-x86_64-2.7 -lm -o build/lib.linux-x86_64-2.7/sklearn/utils/random.so\r\n"
      },
      {
       "output_type": "stream",
       "stream": "stdout",
       "text": "    building 'sklearn.utils._logistic_sigmoid' extension\r\n    compiling C sources\r\n    C compiler: gcc -pthread -fno-strict-aliasing -DNDEBUG -g -fwrapv -O2 -Wall -Wstrict-prototypes -fPIC\r\n    \r\n    compile options: '-I/usr/local/lib/python2.7/dist-packages/numpy/core/include -I/usr/local/lib/python2.7/dist-packages/numpy/core/include -I/usr/include/python2.7 -c'\r\n    gcc: sklearn/utils/_logistic_sigmoid.c\r\n"
      },
      {
       "output_type": "stream",
       "stream": "stdout",
       "text": "    /usr/local/lib/python2.7/dist-packages/numpy/core/include/numpy/__multiarray_api.h:1532:1: warning: \ufffd\ufffd\ufffd_import_array\ufffd\ufffd\ufffd defined but not used [-Wunused-function]\r\n    /usr/local/lib/python2.7/dist-packages/numpy/core/include/numpy/__ufunc_api.h:226:1: warning: \ufffd\ufffd\ufffd_import_umath\ufffd\ufffd\ufffd defined but not used [-Wunused-function]\r\n"
      },
      {
       "output_type": "stream",
       "stream": "stdout",
       "text": "    gcc -pthread -shared -Wl,-O1 -Wl,-Bsymbolic-functions -Wl,-Bsymbolic-functions -Wl,-z,relro build/temp.linux-x86_64-2.7/sklearn/utils/_logistic_sigmoid.o -Lbuild/temp.linux-x86_64-2.7 -lm -o build/lib.linux-x86_64-2.7/sklearn/utils/_logistic_sigmoid.so\r\n"
      },
      {
       "output_type": "stream",
       "stream": "stdout",
       "text": "    building 'sklearn.neighbors.ball_tree' extension\r\n    compiling C sources\r\n    C compiler: gcc -pthread -fno-strict-aliasing -DNDEBUG -g -fwrapv -O2 -Wall -Wstrict-prototypes -fPIC\r\n    \r\n    compile options: '-I/usr/local/lib/python2.7/dist-packages/numpy/core/include -I/usr/local/lib/python2.7/dist-packages/numpy/core/include -I/usr/include/python2.7 -c'\r\n    gcc: sklearn/neighbors/ball_tree.c\r\n"
      },
      {
       "output_type": "stream",
       "stream": "stdout",
       "text": "    /usr/local/lib/python2.7/dist-packages/numpy/core/include/numpy/__multiarray_api.h:1532:1: warning: \ufffd\ufffd\ufffd_import_array\ufffd\ufffd\ufffd defined but not used [-Wunused-function]\r\n    /usr/local/lib/python2.7/dist-packages/numpy/core/include/numpy/__ufunc_api.h:226:1: warning: \ufffd\ufffd\ufffd_import_umath\ufffd\ufffd\ufffd defined but not used [-Wunused-function]\r\n"
      },
      {
       "output_type": "stream",
       "stream": "stdout",
       "text": "    gcc -pthread -shared -Wl,-O1 -Wl,-Bsymbolic-functions -Wl,-Bsymbolic-functions -Wl,-z,relro build/temp.linux-x86_64-2.7/sklearn/neighbors/ball_tree.o -Lbuild/temp.linux-x86_64-2.7 -lm -o build/lib.linux-x86_64-2.7/sklearn/neighbors/ball_tree.so\r\n"
      },
      {
       "output_type": "stream",
       "stream": "stdout",
       "text": "    building 'sklearn.neighbors.kd_tree' extension\r\n    compiling C sources\r\n    C compiler: gcc -pthread -fno-strict-aliasing -DNDEBUG -g -fwrapv -O2 -Wall -Wstrict-prototypes -fPIC\r\n    \r\n    compile options: '-I/usr/local/lib/python2.7/dist-packages/numpy/core/include -I/usr/local/lib/python2.7/dist-packages/numpy/core/include -I/usr/include/python2.7 -c'\r\n    gcc: sklearn/neighbors/kd_tree.c\r\n"
      },
      {
       "output_type": "stream",
       "stream": "stdout",
       "text": "    /usr/local/lib/python2.7/dist-packages/numpy/core/include/numpy/__multiarray_api.h:1532:1: warning: \ufffd\ufffd\ufffd_import_array\ufffd\ufffd\ufffd defined but not used [-Wunused-function]\r\n    /usr/local/lib/python2.7/dist-packages/numpy/core/include/numpy/__ufunc_api.h:226:1: warning: \ufffd\ufffd\ufffd_import_umath\ufffd\ufffd\ufffd defined but not used [-Wunused-function]\r\n"
      },
      {
       "output_type": "stream",
       "stream": "stdout",
       "text": "    sklearn/neighbors/kd_tree.c: In function \ufffd\ufffd\ufffd__pyx_f_7sklearn_9neighbors_7kd_tree_10BinaryTree__recursive_build\ufffd\ufffd\ufffd:\r\n    sklearn/neighbors/kd_tree.c:18572:49: warning: \ufffd\ufffd\ufffd__pyx_v_j\ufffd\ufffd\ufffd may be used uninitialized in this function [-Wuninitialized]\r\n"
      },
      {
       "output_type": "stream",
       "stream": "stdout",
       "text": "    gcc -pthread -shared -Wl,-O1 -Wl,-Bsymbolic-functions -Wl,-Bsymbolic-functions -Wl,-z,relro build/temp.linux-x86_64-2.7/sklearn/neighbors/kd_tree.o -Lbuild/temp.linux-x86_64-2.7 -lm -o build/lib.linux-x86_64-2.7/sklearn/neighbors/kd_tree.so\r\n"
      },
      {
       "output_type": "stream",
       "stream": "stdout",
       "text": "    building 'sklearn.neighbors.dist_metrics' extension\r\n    compiling C sources\r\n    C compiler: gcc -pthread -fno-strict-aliasing -DNDEBUG -g -fwrapv -O2 -Wall -Wstrict-prototypes -fPIC\r\n    \r\n    compile options: '-I/usr/local/lib/python2.7/dist-packages/numpy/core/include -I/usr/local/lib/python2.7/dist-packages/numpy/core/include/numpy -I/usr/local/lib/python2.7/dist-packages/numpy/core/include -I/usr/include/python2.7 -c'\r\n    gcc: sklearn/neighbors/dist_metrics.c\r\n"
      },
      {
       "output_type": "stream",
       "stream": "stdout",
       "text": "    sklearn/neighbors/dist_metrics.c: In function \ufffd\ufffd\ufffd__pyx_f_7sklearn_9neighbors_12dist_metrics_18SEuclideanDistance_dist\ufffd\ufffd\ufffd:\r\n    sklearn/neighbors/dist_metrics.c:5657:94: warning: passing argument 1 of \ufffd\ufffd\ufffd__pyx_f_7sklearn_9neighbors_12dist_metrics_18SEuclideanDistance_rdist\ufffd\ufffd\ufffd from incompatible pointer type [enabled by default]\r\n    sklearn/neighbors/dist_metrics.c:5532:54: note: expected \ufffd\ufffd\ufffdstruct __pyx_obj_7sklearn_9neighbors_12dist_metrics_SEuclideanDistance *\ufffd\ufffd\ufffd but argument is of type \ufffd\ufffd\ufffdstruct __pyx_obj_7sklearn_9neighbors_12dist_metrics_DistanceMetric *\ufffd\ufffd\ufffd\r\n    sklearn/neighbors/dist_metrics.c: In function \ufffd\ufffd\ufffd__pyx_f_7sklearn_9neighbors_12dist_metrics_17MinkowskiDistance_dist\ufffd\ufffd\ufffd:\r\n    sklearn/neighbors/dist_metrics.c:6310:93: warning: passing argument 1 of \ufffd\ufffd\ufffd__pyx_f_7sklearn_9neighbors_12dist_metrics_17MinkowskiDistance_rdist\ufffd\ufffd\ufffd from incompatible pointer type [enabled by default]\r\n    sklearn/neighbors/dist_metrics.c:6231:54: note: expected \ufffd\ufffd\ufffdstruct __pyx_obj_7sklearn_9neighbors_12dist_metrics_MinkowskiDistance *\ufffd\ufffd\ufffd but argument is of type \ufffd\ufffd\ufffdstruct __pyx_obj_7sklearn_9neighbors_12dist_metrics_DistanceMetric *\ufffd\ufffd\ufffd\r\n    sklearn/neighbors/dist_metrics.c: In function \ufffd\ufffd\ufffd__pyx_f_7sklearn_9neighbors_12dist_metrics_18WMinkowskiDistance_dist\ufffd\ufffd\ufffd:\r\n    sklearn/neighbors/dist_metrics.c:6852:94: warning: passing argument 1 of \ufffd\ufffd\ufffd__pyx_f_7sklearn_9neighbors_12dist_metrics_18WMinkowskiDistance_rdist\ufffd\ufffd\ufffd from incompatible pointer type [enabled by default]\r\n    sklearn/neighbors/dist_metrics.c:6737:54: note: expected \ufffd\ufffd\ufffdstruct __pyx_obj_7sklearn_9neighbors_12dist_metrics_WMinkowskiDistance *\ufffd\ufffd\ufffd but argument is of type \ufffd\ufffd\ufffdstruct __pyx_obj_7sklearn_9neighbors_12dist_metrics_DistanceMetric *\ufffd\ufffd\ufffd\r\n    sklearn/neighbors/dist_metrics.c: In function \ufffd\ufffd\ufffd__pyx_f_7sklearn_9neighbors_12dist_metrics_19MahalanobisDistance_dist\ufffd\ufffd\ufffd:\r\n    sklearn/neighbors/dist_metrics.c:7520:95: warning: passing argument 1 of \ufffd\ufffd\ufffd__pyx_f_7sklearn_9neighbors_12dist_metrics_19MahalanobisDistance_rdist\ufffd\ufffd\ufffd from incompatible pointer type [enabled by default]\r\n    sklearn/neighbors/dist_metrics.c:7350:54: note: expected \ufffd\ufffd\ufffdstruct __pyx_obj_7sklearn_9neighbors_12dist_metrics_MahalanobisDistance *\ufffd\ufffd\ufffd but argument is of type \ufffd\ufffd\ufffdstruct __pyx_obj_7sklearn_9neighbors_12dist_metrics_DistanceMetric *\ufffd\ufffd\ufffd\r\n"
      },
      {
       "output_type": "stream",
       "stream": "stdout",
       "text": "    sklearn/neighbors/dist_metrics.c: At top level:\r\n    /usr/local/lib/python2.7/dist-packages/numpy/core/include/numpy/__ufunc_api.h:226:1: warning: \ufffd\ufffd\ufffd_import_umath\ufffd\ufffd\ufffd defined but not used [-Wunused-function]\r\n"
      },
      {
       "output_type": "stream",
       "stream": "stdout",
       "text": "    gcc -pthread -shared -Wl,-O1 -Wl,-Bsymbolic-functions -Wl,-Bsymbolic-functions -Wl,-z,relro build/temp.linux-x86_64-2.7/sklearn/neighbors/dist_metrics.o -Lbuild/temp.linux-x86_64-2.7 -lm -o build/lib.linux-x86_64-2.7/sklearn/neighbors/dist_metrics.so\r\n"
      },
      {
       "output_type": "stream",
       "stream": "stdout",
       "text": "    building 'sklearn.neighbors.typedefs' extension\r\n    compiling C sources\r\n    C compiler: gcc -pthread -fno-strict-aliasing -DNDEBUG -g -fwrapv -O2 -Wall -Wstrict-prototypes -fPIC\r\n    \r\n    compile options: '-I/usr/local/lib/python2.7/dist-packages/numpy/core/include -I/usr/local/lib/python2.7/dist-packages/numpy/core/include -I/usr/include/python2.7 -c'\r\n    gcc: sklearn/neighbors/typedefs.c\r\n"
      },
      {
       "output_type": "stream",
       "stream": "stdout",
       "text": "    /usr/local/lib/python2.7/dist-packages/numpy/core/include/numpy/__multiarray_api.h:1532:1: warning: \ufffd\ufffd\ufffd_import_array\ufffd\ufffd\ufffd defined but not used [-Wunused-function]\r\n    /usr/local/lib/python2.7/dist-packages/numpy/core/include/numpy/__ufunc_api.h:226:1: warning: \ufffd\ufffd\ufffd_import_umath\ufffd\ufffd\ufffd defined but not used [-Wunused-function]\r\n"
      },
      {
       "output_type": "stream",
       "stream": "stdout",
       "text": "    gcc -pthread -shared -Wl,-O1 -Wl,-Bsymbolic-functions -Wl,-Bsymbolic-functions -Wl,-z,relro build/temp.linux-x86_64-2.7/sklearn/neighbors/typedefs.o -Lbuild/temp.linux-x86_64-2.7 -lm -o build/lib.linux-x86_64-2.7/sklearn/neighbors/typedefs.so\r\n"
      },
      {
       "output_type": "stream",
       "stream": "stdout",
       "text": "    building 'sklearn.metrics.pairwise_fast' extension\r\n    compiling C sources\r\n    C compiler: gcc -pthread -fno-strict-aliasing -DNDEBUG -g -fwrapv -O2 -Wall -Wstrict-prototypes -fPIC\r\n    \r\n    compile options: '-I/usr/local/lib/python2.7/dist-packages/numpy/core/include -I/usr/local/lib/python2.7/dist-packages/numpy/core/include -I/usr/include/python2.7 -c'\r\n    gcc: sklearn/metrics/pairwise_fast.c\r\n"
      },
      {
       "output_type": "stream",
       "stream": "stdout",
       "text": "    /usr/local/lib/python2.7/dist-packages/numpy/core/include/numpy/__ufunc_api.h:226:1: warning: \ufffd\ufffd\ufffd_import_umath\ufffd\ufffd\ufffd defined but not used [-Wunused-function]\r\n"
      },
      {
       "output_type": "stream",
       "stream": "stdout",
       "text": "    gcc -pthread -shared -Wl,-O1 -Wl,-Bsymbolic-functions -Wl,-Bsymbolic-functions -Wl,-z,relro build/temp.linux-x86_64-2.7/sklearn/metrics/pairwise_fast.o -Lbuild/temp.linux-x86_64-2.7 -lm -o build/lib.linux-x86_64-2.7/sklearn/metrics/pairwise_fast.so\r\n"
      },
      {
       "output_type": "stream",
       "stream": "stdout",
       "text": "    building 'sklearn.tree._tree' extension\r\n    compiling C sources\r\n    C compiler: gcc -pthread -fno-strict-aliasing -DNDEBUG -g -fwrapv -O2 -Wall -Wstrict-prototypes -fPIC\r\n    \r\n    compile options: '-I/usr/local/lib/python2.7/dist-packages/numpy/core/include -I/usr/local/lib/python2.7/dist-packages/numpy/core/include -I/usr/include/python2.7 -c'\r\n    extra options: '-O3'\r\n    gcc: sklearn/tree/_tree.c\r\n"
      },
      {
       "output_type": "stream",
       "stream": "stdout",
       "text": "    /usr/local/lib/python2.7/dist-packages/numpy/core/include/numpy/__ufunc_api.h:226:1: warning: \ufffd\ufffd\ufffd_import_umath\ufffd\ufffd\ufffd defined but not used [-Wunused-function]\r\n"
      },
      {
       "output_type": "stream",
       "stream": "stdout",
       "text": "    sklearn/tree/_tree.c: In function \ufffd\ufffd\ufffd__pyx_f_7sklearn_4tree_5_tree_14RandomSplitter_node_split\ufffd\ufffd\ufffd:\r\n    sklearn/tree/_tree.c:9753:26: warning: \ufffd\ufffd\ufffd__pyx_v_best_threshold\ufffd\ufffd\ufffd may be used uninitialized in this function [-Wuninitialized]\r\n    sklearn/tree/_tree.c:9744:24: warning: \ufffd\ufffd\ufffd__pyx_v_best_feature\ufffd\ufffd\ufffd may be used uninitialized in this function [-Wuninitialized]\r\n"
      },
      {
       "output_type": "stream",
       "stream": "stdout",
       "text": "    sklearn/tree/_tree.c: In function \ufffd\ufffd\ufffd__pyx_f_7sklearn_4tree_5_tree_12BestSplitter_node_split\ufffd\ufffd\ufffd:\r\n    sklearn/tree/_tree.c:8510:26: warning: \ufffd\ufffd\ufffd__pyx_v_best_threshold\ufffd\ufffd\ufffd may be used uninitialized in this function [-Wuninitialized]\r\n    sklearn/tree/_tree.c:8501:24: warning: \ufffd\ufffd\ufffd__pyx_v_best_feature\ufffd\ufffd\ufffd may be used uninitialized in this function [-Wuninitialized]\r\n"
      },
      {
       "output_type": "stream",
       "stream": "stdout",
       "text": "    gcc -pthread -shared -Wl,-O1 -Wl,-Bsymbolic-functions -Wl,-Bsymbolic-functions -Wl,-z,relro build/temp.linux-x86_64-2.7/sklearn/tree/_tree.o -Lbuild/temp.linux-x86_64-2.7 -lm -o build/lib.linux-x86_64-2.7/sklearn/tree/_tree.so\r\n"
      },
      {
       "output_type": "stream",
       "stream": "stdout",
       "text": "    building 'sklearn.metrics/cluster.expected_mutual_info_fast' extension\r\n    compiling C sources\r\n    C compiler: gcc -pthread -fno-strict-aliasing -DNDEBUG -g -fwrapv -O2 -Wall -Wstrict-prototypes -fPIC\r\n    \r\n    compile options: '-I/usr/local/lib/python2.7/dist-packages/numpy/core/include -I/usr/local/lib/python2.7/dist-packages/numpy/core/include -I/usr/include/python2.7 -c'\r\n    gcc: sklearn/metrics/cluster/expected_mutual_info_fast.c\r\n"
      },
      {
       "output_type": "stream",
       "stream": "stdout",
       "text": "    /usr/local/lib/python2.7/dist-packages/numpy/core/include/numpy/__ufunc_api.h:226:1: warning: \ufffd\ufffd\ufffd_import_umath\ufffd\ufffd\ufffd defined but not used [-Wunused-function]\r\n"
      },
      {
       "output_type": "stream",
       "stream": "stdout",
       "text": "    gcc -pthread -shared -Wl,-O1 -Wl,-Bsymbolic-functions -Wl,-Bsymbolic-functions -Wl,-z,relro build/temp.linux-x86_64-2.7/sklearn/metrics/cluster/expected_mutual_info_fast.o -Lbuild/temp.linux-x86_64-2.7 -lm -o build/lib.linux-x86_64-2.7/sklearn/metrics/cluster/expected_mutual_info_fast.so\r\n"
      },
      {
       "output_type": "stream",
       "stream": "stdout",
       "text": "    building 'sklearn._hmmc' extension\r\n    compiling C sources\r\n    C compiler: gcc -pthread -fno-strict-aliasing -DNDEBUG -g -fwrapv -O2 -Wall -Wstrict-prototypes -fPIC\r\n    \r\n    compile options: '-I/usr/local/lib/python2.7/dist-packages/numpy/core/include -I/usr/local/lib/python2.7/dist-packages/numpy/core/include -I/usr/include/python2.7 -c'\r\n    gcc: sklearn/_hmmc.c\r\n"
      },
      {
       "output_type": "stream",
       "stream": "stdout",
       "text": "    /usr/local/lib/python2.7/dist-packages/numpy/core/include/numpy/__ufunc_api.h:226:1: warning: \ufffd\ufffd\ufffd_import_umath\ufffd\ufffd\ufffd defined but not used [-Wunused-function]\r\n"
      },
      {
       "output_type": "stream",
       "stream": "stdout",
       "text": "    gcc -pthread -shared -Wl,-O1 -Wl,-Bsymbolic-functions -Wl,-Bsymbolic-functions -Wl,-z,relro build/temp.linux-x86_64-2.7/sklearn/_hmmc.o -Lbuild/temp.linux-x86_64-2.7 -lm -o build/lib.linux-x86_64-2.7/sklearn/_hmmc.so\r\n"
      },
      {
       "output_type": "stream",
       "stream": "stdout",
       "text": "    building 'sklearn._isotonic' extension\r\n    compiling C sources\r\n    C compiler: gcc -pthread -fno-strict-aliasing -DNDEBUG -g -fwrapv -O2 -Wall -Wstrict-prototypes -fPIC\r\n    \r\n    compile options: '-I/usr/local/lib/python2.7/dist-packages/numpy/core/include -I/usr/local/lib/python2.7/dist-packages/numpy/core/include -I/usr/include/python2.7 -c'\r\n    gcc: sklearn/_isotonic.c\r\n"
      },
      {
       "output_type": "stream",
       "stream": "stdout",
       "text": "    /usr/local/lib/python2.7/dist-packages/numpy/core/include/numpy/__multiarray_api.h:1532:1: warning: \ufffd\ufffd\ufffd_import_array\ufffd\ufffd\ufffd defined but not used [-Wunused-function]\r\n    /usr/local/lib/python2.7/dist-packages/numpy/core/include/numpy/__ufunc_api.h:226:1: warning: \ufffd\ufffd\ufffd_import_umath\ufffd\ufffd\ufffd defined but not used [-Wunused-function]\r\n"
      },
      {
       "output_type": "stream",
       "stream": "stdout",
       "text": "    gcc -pthread -shared -Wl,-O1 -Wl,-Bsymbolic-functions -Wl,-Bsymbolic-functions -Wl,-z,relro build/temp.linux-x86_64-2.7/sklearn/_isotonic.o -Lbuild/temp.linux-x86_64-2.7 -lm -o build/lib.linux-x86_64-2.7/sklearn/_isotonic.so\r\n"
      },
      {
       "output_type": "stream",
       "stream": "stdout",
       "text": "    building 'sklearn.linear_model.cd_fast' extension\r\n    compiling C sources\r\n    C compiler: gcc -pthread -fno-strict-aliasing -DNDEBUG -g -fwrapv -O2 -Wall -Wstrict-prototypes -fPIC\r\n    \r\n    compile options: '-DNO_ATLAS_INFO=1 -Isklearn/src/cblas -I/usr/local/lib/python2.7/dist-packages/numpy/core/include -I/usr/local/lib/python2.7/dist-packages/numpy/core/include -I/usr/include/python2.7 -c'\r\n    gcc: sklearn/linear_model/cd_fast.c\r\n"
      },
      {
       "output_type": "stream",
       "stream": "stdout",
       "text": "    /usr/local/lib/python2.7/dist-packages/numpy/core/include/numpy/__ufunc_api.h:226:1: warning: \ufffd\ufffd\ufffd_import_umath\ufffd\ufffd\ufffd defined but not used [-Wunused-function]\r\n"
      },
      {
       "output_type": "stream",
       "stream": "stdout",
       "text": "    /usr/bin/gfortran -Wall -Wall -shared build/temp.linux-x86_64-2.7/sklearn/linear_model/cd_fast.o -L/usr/lib -Lbuild/temp.linux-x86_64-2.7 -lcblas -lm -lgfortran -o build/lib.linux-x86_64-2.7/sklearn/linear_model/cd_fast.so\r\n"
      },
      {
       "output_type": "stream",
       "stream": "stdout",
       "text": "    building 'sklearn.linear_model.sgd_fast' extension\r\n    compiling C sources\r\n    C compiler: gcc -pthread -fno-strict-aliasing -DNDEBUG -g -fwrapv -O2 -Wall -Wstrict-prototypes -fPIC\r\n    \r\n    compile options: '-I/usr/local/lib/python2.7/dist-packages/numpy/core/include -I/usr/local/lib/python2.7/dist-packages/numpy/core/include -I/usr/include/python2.7 -c'\r\n    gcc: sklearn/linear_model/sgd_fast.c\r\n"
      },
      {
       "output_type": "stream",
       "stream": "stdout",
       "text": "    /usr/local/lib/python2.7/dist-packages/numpy/core/include/numpy/__ufunc_api.h:226:1: warning: \ufffd\ufffd\ufffd_import_umath\ufffd\ufffd\ufffd defined but not used [-Wunused-function]\r\n"
      },
      {
       "output_type": "stream",
       "stream": "stdout",
       "text": "    gcc -pthread -shared -Wl,-O1 -Wl,-Bsymbolic-functions -Wl,-Bsymbolic-functions -Wl,-z,relro build/temp.linux-x86_64-2.7/sklearn/linear_model/sgd_fast.o -Lbuild/temp.linux-x86_64-2.7 -lm -o build/lib.linux-x86_64-2.7/sklearn/linear_model/sgd_fast.so\r\n"
      },
      {
       "output_type": "stream",
       "stream": "stdout",
       "text": "    \r\n"
      },
      {
       "output_type": "stream",
       "stream": "stdout",
       "text": "Successfully installed scikit-learn\r\nCleaning up...\r\n"
      }
     ],
     "prompt_number": 27
    },
    {
     "cell_type": "heading",
     "level": 1,
     "metadata": {},
     "source": "Stemming "
    },
    {
     "cell_type": "heading",
     "level": 2,
     "metadata": {},
     "source": "Stemming train data :"
    },
    {
     "cell_type": "code",
     "collapsed": false,
     "input": "import pandas as pd\ntest1 = pd.read_csv('TestSA.csv')\ntrain1 = pd.read_csv('TrainSA.csv')\n",
     "language": "python",
     "metadata": {},
     "outputs": [],
     "prompt_number": 22
    },
    {
     "cell_type": "code",
     "collapsed": false,
     "input": "for i in range(len(train1)):\n    t = []\n    for word in nltk.word_tokenize(train1.SentimentText[i]):\n        t.append(stemmer.stem(word))\n\n    train1.SentimentText[i] = \" \".join(t)\n\nfor i in range(len(test1)):\n    t = []\n    for word in nltk.word_tokenize(test1.SentimentText[i]):\n        t.append(stemmer.stem(word))\n\n    test1.SentimentText[i] = \" \".join(t)",
     "language": "python",
     "metadata": {},
     "outputs": [],
     "prompt_number": 23
    },
    {
     "cell_type": "code",
     "collapsed": false,
     "input": "",
     "language": "python",
     "metadata": {},
     "outputs": [],
     "prompt_number": "*"
    },
    {
     "cell_type": "code",
     "collapsed": false,
     "input": "neg_tweets = []\npos_tweets = []\nfor i in range(len(train1)):\n    if train1.Sentiment[i] == 0:\n        neg_tweets.append(i)\n    else:\n        pos_tweets.append(i)\n        \nnegfeatsstem = [(word_feats(x for x in train1.SentimentText[f].lower().split() if x not in stopwords), 'neg') for f in neg_tweets]\nposfeatsstem = [(word_feats(x for x in train1.SentimentText[f].lower().split() if x not in stopwords), 'pos') for f in pos_tweets]\n\ntrainfeatsstem = negfeatsstem + posfeatsstem\nrandom.shuffle(trainfeatsstem)\nneg_tweets_test = []\npos_tweets_test = []\n\nfor i in range(len(test1)):\n    if test1.Sentiment[i] == 0:\n        neg_tweets_test.append(i)\n    else:\n        pos_tweets_test.append(i)\n        \nnegfeatsteststem = [(word_feats(x for x in test1.SentimentText[f].lower().split() if x not in stopwords), 'neg') for f in neg_tweets_test]\nposfeatsteststem = [(word_feats(x for x in test1.SentimentText[f].lower().split() if x not in stopwords), 'pos') for f in pos_tweets_test]\ntestfeatsstem = negfeatsteststem + posfeatsteststem\nrandom.shuffle(testfeatsstem)\n    ",
     "language": "python",
     "metadata": {},
     "outputs": [],
     "prompt_number": 24
    },
    {
     "cell_type": "code",
     "collapsed": false,
     "input": "y = []\ntrainsize = [60900]\naccuracy = []\nfor i in trainsize:\n    classif = SklearnClassifier(LinearSVC(C=0.032))\n    classif.train(trainfeats[:i])\n    print 'train on %d instances, test on %d instances' % (len(trainfeatsstem[:i]), len(testfeatsstem))\n    y.append( nltk.classify.util.accuracy(classif, testfeatsstem))\nprint y\n",
     "language": "python",
     "metadata": {},
     "outputs": [
      {
       "output_type": "stream",
       "stream": "stdout",
       "text": "train on 60900 instances, test on 44832 instances\n[0.7660822626695217]"
      },
      {
       "output_type": "stream",
       "stream": "stdout",
       "text": "\n"
      }
     ],
     "prompt_number": 25
    },
    {
     "cell_type": "code",
     "collapsed": false,
     "input": "\nclassifier = NaiveBayesClassifier.train(trainfeatsstem)\nprint 'train on %d instances, test on %d instances' % (len(trainfeatsstem), len(testfeatsstem))\n\nprint 'accuracy:', nltk.classify.util.accuracy(classifier, testfeatsstem)\nprint classifier.show_most_informative_features()\n",
     "language": "python",
     "metadata": {},
     "outputs": [
      {
       "output_type": "stream",
       "stream": "stdout",
       "text": "train on 60908 instances, test on 44832 instances\naccuracy: "
      },
      {
       "output_type": "stream",
       "stream": "stdout",
       "text": "0.753501962884\nMost Informative Features\n                    sad. = True              neg : pos    =     40.0 : 1.0"
      },
      {
       "output_type": "stream",
       "stream": "stdout",
       "text": "\n                  throat = True              neg : pos    =     35.5 : 1.0\n                frustrat = True              neg : pos    =     27.4 : 1.0\n                thankyou = True              pos : neg    =     19.2 : 1.0\n                     sad = True              neg : pos    =     18.4 : 1.0\n               congratul = True              pos : neg    =     17.7 : 1.0\n                  dammit = True              neg : pos    =     16.2 : 1.0\n                 depress = True              neg : pos    =     15.8 : 1.0\n            followfriday = True              pos : neg    =     15.5 : 1.0\n                  shitti = True              neg : pos    =     15.3 : 1.0\nNone\n"
      }
     ],
     "prompt_number": 26
    },
    {
     "cell_type": "code",
     "collapsed": false,
     "input": "import nltk.classify.util\nfrom nltk.classify import MaxentClassifier\nalgorithm = nltk.classify.MaxentClassifier.ALGORITHMS[0]\n\npoints_3 = [60908]\namax = []\nfor i in points_3:\n    classifier = nltk.MaxentClassifier.train(trainfeatsstem[:i],algorithm, max_iter=10)\n    out_maxent_uni = nltk.classify.util.accuracy(classifier, testfeatsstem)\n    amax.append(out_maxent_uni)\n    print 'dataset: ',i, 'accuracy:', out_maxent_uni\nclassifier.show_most_informative_features()\ndel classifier",
     "language": "python",
     "metadata": {},
     "outputs": [
      {
       "output_type": "stream",
       "stream": "stdout",
       "text": "  ==> Training (10 iterations)\n\n      Iteration    Log Likelihood    Accuracy\n      ---------------------------------------\n             1          -0.69315        0.498"
      },
      {
       "output_type": "stream",
       "stream": "stdout",
       "text": "\n             2          -0.69313        0.871"
      },
      {
       "output_type": "stream",
       "stream": "stdout",
       "text": "\n             3          -0.69311        0.871"
      },
      {
       "output_type": "stream",
       "stream": "stdout",
       "text": "\n             4          -0.69310        0.871"
      },
      {
       "output_type": "stream",
       "stream": "stdout",
       "text": "\n             5          -0.69308        0.871"
      },
      {
       "output_type": "stream",
       "stream": "stdout",
       "text": "\n             6          -0.69306        0.871"
      },
      {
       "output_type": "stream",
       "stream": "stdout",
       "text": "\n             7          -0.69304        0.871"
      },
      {
       "output_type": "stream",
       "stream": "stdout",
       "text": "\n             8          -0.69303        0.871"
      },
      {
       "output_type": "stream",
       "stream": "stdout",
       "text": "\n             9          -0.69301        0.871"
      },
      {
       "output_type": "stream",
       "stream": "stdout",
       "text": "\n         Final          -0.69299        0.871"
      },
      {
       "output_type": "stream",
       "stream": "stdout",
       "text": "\ndataset: "
      },
      {
       "output_type": "stream",
       "stream": "stdout",
       "text": " 60908 accuracy: 0.75613401142\n  -0.001 sad.==True and label is 'pos'"
      },
      {
       "output_type": "stream",
       "stream": "stdout",
       "text": "\n  -0.001 throat==True and label is 'pos'\n  -0.001 frustrat==True and label is 'pos'\n  -0.000 thankyou==True and label is 'neg'\n  -0.000 dammit==True and label is 'pos'\n  -0.000 congratul==True and label is 'neg'\n  -0.000 promot==True and label is 'neg'\n  -0.000 gooood==True and label is 'neg'\n  -0.000 shitti==True and label is 'pos'\n  -0.000 charger==True and label is 'pos'\n"
      }
     ],
     "prompt_number": 27
    },
    {
     "cell_type": "heading",
     "level": 1,
     "metadata": {},
     "source": "POS tagging"
    },
    {
     "cell_type": "code",
     "collapsed": false,
     "input": "from nltk.tag.simplify import simplify_wsj_tag\nstopwords = pd.read_csv('stop_words.csv')\n\ndef word_feats(words):\n    return dict([(word, True) for word in words])\n\nfor i in range(len(train)):\n    t = []\n    for word in nltk.word_tokenize(train.SentimentText[i]):\n        t.append(stemmer.stem(word))\n\n    train.SentimentText[i] = \" \".join(t)\n\nneg_tw = []\npos_tw = []\nfor i in range(len(train)):\n    if train.Sentiment[i] == 0:\n        neg_tw.append(i)\n    else:\n        pos_tw.append(i)\n    \n    \nnegfeatspos = []\nposfeatspos = []\nfor f in range(len(train)):\n    if f in neg_tw:\n        negfeatspos.append(([(word, simplify_wsj_tag(tag)) for word, tag in nltk.pos_tag(nltk.word_tokenize(train.SentimentText[f].lower()))], 'neg')) \n    else:\n        posfeatspos.append(([(word, simplify_wsj_tag(tag)) for word, tag in nltk.pos_tag(nltk.word_tokenize(train.SentimentText[f].lower()))], 'pos')) \n    \ntrainfeatspos = negfeatspos+ posfeatspos\nrandom.shuffle(trainfeatspos)\n\n",
     "language": "python",
     "metadata": {},
     "outputs": [],
     "prompt_number": 79
    },
    {
     "cell_type": "code",
     "collapsed": false,
     "input": "for i in range(len(test)):\n    t = []\n    for word in nltk.word_tokenize(test.SentimentText[i]):\n        t.append(stemmer.stem(word))\n\n    test.SentimentText[i] = \" \".join(t)\nneg_tweets_test = []\npos_tweets_test = []\nfor i in range(len(test)):\n    if test.Sentiment[i] ==0:\n        neg_tweets_test.append(i)\n    else:\n        pos_tweets_test.append(i)\n\n#negfeatstestpos = [(word_feats(x for x in p_test.SentimentText[f].lower().split() + find_bigrams(p_test.SentimentText[f].lower().split()) if x not in stopwords), 'neg') for f in neg_tweets_test]\n#posfeatstest = [(word_feats(x for x in p_test.SentimentText[f].lower().split() + find_bigrams(p_test.SentimentText[f].lower().split()) if x not in stopwords), 'pos') for f in pos_tweets_test]\nnegfeatstestpos = []\nposfeatstestpos = []\nfor f in range(len(test)):\n    if f in neg_tweets_test:\n        negfeatstestpos.append(([(word, simplify_wsj_tag(tag)) for word, tag in nltk.pos_tag(nltk.word_tokenize(test.SentimentText[f].lower()))], 'neg')) \n    else:\n        posfeatstestpos.append(([(word, simplify_wsj_tag(tag)) for word, tag in nltk.pos_tag(nltk.word_tokenize(test.SentimentText[f].lower()))], 'pos')) \n \ntestfeatspos = negfeatstestpos + posfeatstestpos\nrandom.shuffle(testfeatspos)\n",
     "language": "python",
     "metadata": {},
     "outputs": [],
     "prompt_number": 41
    },
    {
     "cell_type": "code",
     "collapsed": false,
     "input": "trainfeatpos[1]",
     "language": "python",
     "metadata": {},
     "outputs": [],
     "prompt_number": 80
    },
    {
     "cell_type": "code",
     "collapsed": false,
     "input": "trainfeattrue = []\nfor a in trainfeatspos:\n    trainfeattrue.append((dict((k,True) for k in a[0]), a[1]))\n    \ntestfeattrue = []\nfor a in testfeatspos:\n    testfeattrue.append((dict((k,True) for k in a[0]), a[1]))",
     "language": "python",
     "metadata": {},
     "outputs": [],
     "prompt_number": 71
    },
    {
     "cell_type": "code",
     "collapsed": false,
     "input": "",
     "language": "python",
     "metadata": {},
     "outputs": [
      {
       "output_type": "pyout",
       "prompt_number": 73,
       "text": "({(',', ','): True,\n  ('.', '.'): True,\n  ('@', 'P'): True,\n  ('better', 'ADV'): True,\n  ('feel', 'V'): True,\n  ('hope', 'N'): True,\n  ('i', 'PRO'): True,\n  ('scigirl543', 'NP'): True,\n  ('second', 'V'): True,\n  ('sweeti', 'V'): True,\n  ('that', 'P'): True,\n  ('you', 'PRO'): True},\n 'neg')"
      }
     ],
     "prompt_number": 73
    },
    {
     "cell_type": "code",
     "collapsed": false,
     "input": "y = []\ntrainsize = [60900]\naccuracy = []\n\nclassif = SklearnClassifier(LinearSVC(C=0.032))\nclassif.train(trainfeattrue)\nprint 'train on %d instances, test on %d instances' % (len(trainfeattrue), len(testfeattrue))\ny.append( nltk.classify.util.accuracy(classif, testfeattrue))\nprint y",
     "language": "python",
     "metadata": {},
     "outputs": [
      {
       "output_type": "stream",
       "stream": "stdout",
       "text": "train on 60908 instances, test on 44832 instances\n[0.7429737687366167]"
      },
      {
       "output_type": "stream",
       "stream": "stdout",
       "text": "\n"
      }
     ],
     "prompt_number": 75
    },
    {
     "cell_type": "code",
     "collapsed": false,
     "input": "classifier = NaiveBayesClassifier.train(trainfeattrue)\nprint 'train on %d instances, test on %d instances' % (len(trainfeattrue), len(testfeattrue))\n\nprint 'accuracy:', nltk.classify.util.accuracy(classifier, testfeattrue)\nprint classifier.show_most_informative_features()\n",
     "language": "python",
     "metadata": {},
     "outputs": [
      {
       "output_type": "stream",
       "stream": "stdout",
       "text": "train on 60908 instances, test on 44832 instances\naccuracy: "
      },
      {
       "output_type": "stream",
       "stream": "stdout",
       "text": "0.720199857245\nMost Informative Features\n         ('throat', 'N') = True              neg : pos    =     45.3 : 1.0"
      },
      {
       "output_type": "stream",
       "stream": "stdout",
       "text": "\n          ('sad.', 'NP') = True              neg : pos    =     40.0 : 1.0\n      ('welcome', 'DET') = True              pos : neg    =     33.3 : 1.0\n        ('stuck', 'ADJ') = True              neg : pos    =     31.4 : 1.0\n         ('misses', 'N') = True              neg : pos    =     22.8 : 1.0\n          ('sad', 'ADJ') = True              neg : pos    =     21.2 : 1.0\n         ('shitty', 'N') = True              neg : pos    =     18.2 : 1.0\n        ('fathers', 'N') = True              neg : pos    =     17.5 : 1.0\n          ('smile', 'N') = True              pos : neg    =     17.2 : 1.0\n('congratulations', 'N') = True              pos : neg    =     16.3 : 1.0\nNone\n"
      }
     ],
     "prompt_number": 76
    },
    {
     "cell_type": "code",
     "collapsed": false,
     "input": "algorithm = nltk.classify.MaxentClassifier.ALGORITHMS[0]\n\npoints_3 = [60908]\namax = []\nfor i in points_3:\n    classifier = nltk.MaxentClassifier.train(trainfeattrue[:i],algorithm, max_iter=10)\n    out_maxent_uni = nltk.classify.util.accuracy(classifier, testfeattrue)\n    amax.append(out_maxent_uni)\n    print 'dataset: ',i, 'accuracy:', out_maxent_uni\nclassifier.show_most_informative_features()\ndel classifier",
     "language": "python",
     "metadata": {},
     "outputs": [
      {
       "output_type": "stream",
       "stream": "stdout",
       "text": "  ==> Training (10 iterations)\n\n      Iteration    Log Likelihood    Accuracy\n      ---------------------------------------\n             1          -0.69315        0.498"
      },
      {
       "output_type": "stream",
       "stream": "stdout",
       "text": "\n             2          -0.69313        0.877"
      },
      {
       "output_type": "stream",
       "stream": "stdout",
       "text": "\n             3          -0.69311        0.877"
      },
      {
       "output_type": "stream",
       "stream": "stdout",
       "text": "\n             4          -0.69310        0.878"
      },
      {
       "output_type": "stream",
       "stream": "stdout",
       "text": "\n             5          -0.69308        0.878"
      },
      {
       "output_type": "stream",
       "stream": "stdout",
       "text": "\n             6          -0.69307        0.878"
      },
      {
       "output_type": "stream",
       "stream": "stdout",
       "text": "\n             7          -0.69305        0.878"
      },
      {
       "output_type": "stream",
       "stream": "stdout",
       "text": "\n             8          -0.69303        0.878"
      },
      {
       "output_type": "stream",
       "stream": "stdout",
       "text": "\n             9          -0.69302        0.878"
      },
      {
       "output_type": "stream",
       "stream": "stdout",
       "text": "\n         Final          -0.69300        0.878"
      },
      {
       "output_type": "stream",
       "stream": "stdout",
       "text": "\ndataset: "
      },
      {
       "output_type": "stream",
       "stream": "stdout",
       "text": " 60908 accuracy: 0.723746431121\n  -0.001 ('throat', 'N')==True and label is 'pos'"
      },
      {
       "output_type": "stream",
       "stream": "stdout",
       "text": "\n  -0.000 ('sad.', 'NP')==True and label is 'pos'\n  -0.000 ('welcome', 'DET')==True and label is 'neg'\n  -0.000 ('stuck', 'ADJ')==True and label is 'pos'\n  -0.000 ('misses', 'N')==True and label is 'pos'\n  -0.000 ('shitty', 'N')==True and label is 'pos'\n  -0.000 ('fathers', 'N')==True and label is 'pos'\n  -0.000 ('pissed', 'VD')==True and label is 'pos'\n  -0.000 ('proud', 'N')==True and label is 'neg'\n  -0.000 ('sad', 'ADJ')==True and label is 'pos'\n"
      }
     ],
     "prompt_number": 78
    },
    {
     "cell_type": "code",
     "collapsed": false,
     "input": "",
     "language": "python",
     "metadata": {},
     "outputs": []
    }
   ],
   "metadata": {}
  }
 ]
}