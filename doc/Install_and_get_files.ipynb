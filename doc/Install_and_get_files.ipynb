{
 "metadata": {
  "name": "SA_twitter_get files"
 },
 "nbformat": 3,
 "nbformat_minor": 0,
 "worksheets": [
  {
   "cells": [
    {
     "cell_type": "code",
     "collapsed": false,
     "input": "!wget(\"https://www.dropbox.com/sh/eb7ssim7ff1qofv/q2daa8HQCT/TestSA.csv\")",
     "language": "python",
     "metadata": {},
     "outputs": [
      {
       "output_type": "stream",
       "stream": "stdout",
       "text": "/bin/sh: 1: Syntax error: word unexpected (expecting \")\")\r\n"
      }
     ],
     "prompt_number": 2
    },
    {
     "cell_type": "code",
     "collapsed": false,
     "input": "!wget(\"https://www.dropbox.com/sh/eb7ssim7ff1qofv/q2daa8HQCT/TestSA.csv\")",
     "language": "python",
     "metadata": {},
     "outputs": [
      {
       "output_type": "stream",
       "stream": "stdout",
       "text": "/bin/sh: 1: Syntax error: word unexpected (expecting \")\")\r\n"
      }
     ],
     "prompt_number": 3
    },
    {
     "cell_type": "code",
     "collapsed": false,
     "input": "!wget 'https://www.dropbox.com/sh/eb7ssim7ff1qofv/LY3CgmXXRo/negative-words.csv'",
     "language": "python",
     "metadata": {},
     "outputs": [
      {
       "output_type": "stream",
       "stream": "stdout",
       "text": "--2013-12-04 20:10:36--  https://www.dropbox.com/sh/eb7ssim7ff1qofv/LY3CgmXXRo/negative-words.csv\r\nResolving www.dropbox.com (www.dropbox.com)... 108.160.166.20\r\nConnecting to www.dropbox.com (www.dropbox.com)|108.160.166.20|:443... "
      },
      {
       "output_type": "stream",
       "stream": "stdout",
       "text": "connected.\r\n"
      },
      {
       "output_type": "stream",
       "stream": "stdout",
       "text": "HTTP request sent, awaiting response... "
      },
      {
       "output_type": "stream",
       "stream": "stdout",
       "text": "302 FOUND\r\nLocation: https://dl.dropboxusercontent.com/sh/eb7ssim7ff1qofv/LY3CgmXXRo/negative-words.csv?token_hash=AAFhAepIaiXyd_VaSXQbyZU8H5QsHbEZvs4bJmykz6HI8g [following]\r\n--2013-12-04 20:10:36--  https://dl.dropboxusercontent.com/sh/eb7ssim7ff1qofv/LY3CgmXXRo/negative-words.csv?token_hash=AAFhAepIaiXyd_VaSXQbyZU8H5QsHbEZvs4bJmykz6HI8g\r\nResolving dl.dropboxusercontent.com (dl.dropboxusercontent.com)... 54.225.204.209\r\nConnecting to dl.dropboxusercontent.com (dl.dropboxusercontent.com)|54.225.204.209|:443... connected.\r\nHTTP request sent, awaiting response... "
      },
      {
       "output_type": "stream",
       "stream": "stdout",
       "text": "200 OK\r\nLength: 44758 (44K) [text/csv]\r\nSaving to: `negative-words.csv'\r\n\r\n\r 0% [                                       ] 0           --.-K/s              \r100%[======================================>] 44,758      --.-K/s   in 0.002s  \r\n\r\n2013-12-04 20:10:36 (20.1 MB/s) - `negative-words.csv' saved [44758/44758]\r\n\r\n"
      }
     ],
     "prompt_number": 14
    },
    {
     "cell_type": "code",
     "collapsed": false,
     "input": "!wget 'https://www.dropbox.com/sh/eb7ssim7ff1qofv/WS68TwinCm/Positive%20emoticons.csv'",
     "language": "python",
     "metadata": {},
     "outputs": [
      {
       "output_type": "stream",
       "stream": "stdout",
       "text": "--2013-12-04 20:11:02--  https://www.dropbox.com/sh/eb7ssim7ff1qofv/WS68TwinCm/Positive%20emoticons.csv\r\nResolving www.dropbox.com (www.dropbox.com)... 108.160.166.20\r\nConnecting to www.dropbox.com (www.dropbox.com)|108.160.166.20|:443... "
      },
      {
       "output_type": "stream",
       "stream": "stdout",
       "text": "connected.\r\n"
      },
      {
       "output_type": "stream",
       "stream": "stdout",
       "text": "HTTP request sent, awaiting response... "
      },
      {
       "output_type": "stream",
       "stream": "stdout",
       "text": "302 FOUND\r\nLocation: https://dl.dropboxusercontent.com/sh/eb7ssim7ff1qofv/WS68TwinCm/Positive%20emoticons.csv?token_hash=AAFhAepIaiXyd_VaSXQbyZU8H5QsHbEZvs4bJmykz6HI8g [following]\r\n--2013-12-04 20:11:02--  https://dl.dropboxusercontent.com/sh/eb7ssim7ff1qofv/WS68TwinCm/Positive%20emoticons.csv?token_hash=AAFhAepIaiXyd_VaSXQbyZU8H5QsHbEZvs4bJmykz6HI8g\r\nResolving dl.dropboxusercontent.com (dl.dropboxusercontent.com)... 54.225.204.209\r\nConnecting to dl.dropboxusercontent.com (dl.dropboxusercontent.com)|54.225.204.209|:443... connected.\r\n"
      },
      {
       "output_type": "stream",
       "stream": "stdout",
       "text": "HTTP request sent, awaiting response... "
      },
      {
       "output_type": "stream",
       "stream": "stdout",
       "text": "200 OK\r\nLength: 353 [text/csv]\r\nSaving to: `Positive emoticons.csv'\r\n\r\n\r 0% [                                       ] 0           --.-K/s              \r100%[======================================>] 353         --.-K/s   in 0s      \r\n\r\n2013-12-04 20:11:02 (76.7 MB/s) - `Positive emoticons.csv' saved [353/353]\r\n\r\n"
      }
     ],
     "prompt_number": 15
    },
    {
     "cell_type": "code",
     "collapsed": false,
     "input": "!wget 'https://www.dropbox.com/sh/eb7ssim7ff1qofv/0Rc8qdkj4m/positive-words.csv'",
     "language": "python",
     "metadata": {},
     "outputs": [
      {
       "output_type": "stream",
       "stream": "stdout",
       "text": "--2013-12-04 20:11:26--  https://www.dropbox.com/sh/eb7ssim7ff1qofv/0Rc8qdkj4m/positive-words.csv\r\nResolving www.dropbox.com (www.dropbox.com)... 108.160.166.20\r\nConnecting to www.dropbox.com (www.dropbox.com)|108.160.166.20|:443... "
      },
      {
       "output_type": "stream",
       "stream": "stdout",
       "text": "connected.\r\n"
      },
      {
       "output_type": "stream",
       "stream": "stdout",
       "text": "HTTP request sent, awaiting response... "
      },
      {
       "output_type": "stream",
       "stream": "stdout",
       "text": "302 FOUND\r\nLocation: https://dl.dropboxusercontent.com/sh/eb7ssim7ff1qofv/0Rc8qdkj4m/positive-words.csv?token_hash=AAFhAepIaiXyd_VaSXQbyZU8H5QsHbEZvs4bJmykz6HI8g [following]\r\n--2013-12-04 20:11:26--  https://dl.dropboxusercontent.com/sh/eb7ssim7ff1qofv/0Rc8qdkj4m/positive-words.csv?token_hash=AAFhAepIaiXyd_VaSXQbyZU8H5QsHbEZvs4bJmykz6HI8g\r\nResolving dl.dropboxusercontent.com (dl.dropboxusercontent.com)... 54.225.204.209\r\nConnecting to dl.dropboxusercontent.com (dl.dropboxusercontent.com)|54.225.204.209|:443... connected.\r\n"
      },
      {
       "output_type": "stream",
       "stream": "stdout",
       "text": "HTTP request sent, awaiting response... "
      },
      {
       "output_type": "stream",
       "stream": "stdout",
       "text": "200 OK\r\nLength: 19094 (19K) [text/csv]\r\nSaving to: `positive-words.csv'\r\n\r\n\r 0% [                                       ] 0           --.-K/s              \r100%[======================================>] 19,094      --.-K/s   in 0s      \r\n\r\n2013-12-04 20:11:26 (118 MB/s) - `positive-words.csv' saved [19094/19094]\r\n\r\n"
      }
     ],
     "prompt_number": 16
    },
    {
     "cell_type": "code",
     "collapsed": false,
     "input": "!wget 'https://www.dropbox.com/sh/eb7ssim7ff1qofv/uxL1V3I-S9/slang.txt'",
     "language": "python",
     "metadata": {},
     "outputs": [
      {
       "output_type": "stream",
       "stream": "stdout",
       "text": "--2013-12-04 20:21:03--  https://www.dropbox.com/sh/eb7ssim7ff1qofv/uxL1V3I-S9/slang.txt\r\nResolving www.dropbox.com (www.dropbox.com)... 108.160.165.12\r\nConnecting to www.dropbox.com (www.dropbox.com)|108.160.165.12|:443... "
      },
      {
       "output_type": "stream",
       "stream": "stdout",
       "text": "connected.\r\n"
      },
      {
       "output_type": "stream",
       "stream": "stdout",
       "text": "HTTP request sent, awaiting response... "
      },
      {
       "output_type": "stream",
       "stream": "stdout",
       "text": "302 FOUND\r\nLocation: https://dl.dropboxusercontent.com/sh/eb7ssim7ff1qofv/uxL1V3I-S9/slang.txt?token_hash=AAFhAepIaiXyd_VaSXQbyZU8H5QsHbEZvs4bJmykz6HI8g [following]\r\n--2013-12-04 20:21:03--  https://dl.dropboxusercontent.com/sh/eb7ssim7ff1qofv/uxL1V3I-S9/slang.txt?token_hash=AAFhAepIaiXyd_VaSXQbyZU8H5QsHbEZvs4bJmykz6HI8g\r\nResolving dl.dropboxusercontent.com (dl.dropboxusercontent.com)... 54.225.65.197\r\nConnecting to dl.dropboxusercontent.com (dl.dropboxusercontent.com)|54.225.65.197|:443... connected.\r\nHTTP request sent, awaiting response... "
      },
      {
       "output_type": "stream",
       "stream": "stdout",
       "text": "200 OK\r\nLength: 144981 (142K) [text/plain]\r\nSaving to: `slang.txt'\r\n\r\n\r 0% [                                       ] 0           --.-K/s              \r100%[======================================>] 144,981     --.-K/s   in 0.008s  \r\n\r\n2013-12-04 20:21:04 (17.8 MB/s) - `slang.txt' saved [144981/144981]\r\n\r\n"
      }
     ],
     "prompt_number": 18
    },
    {
     "cell_type": "code",
     "collapsed": false,
     "input": "ls\n",
     "language": "python",
     "metadata": {},
     "outputs": [
      {
       "output_type": "stream",
       "stream": "stdout",
       "text": "Install.ipynb           TrainSA.csv             slang.txt\r\nPositive emoticons.csv  negative emoticons.csv  stop_words.csv\r\nSA_twitter.ipynb        negative-words.csv\r\nTestSA.csv              positive-words.csv\r\n"
      }
     ],
     "prompt_number": 19
    },
    {
     "cell_type": "code",
     "collapsed": false,
     "input": "",
     "language": "python",
     "metadata": {},
     "outputs": []
    }
   ],
   "metadata": {}
  }
 ]
}