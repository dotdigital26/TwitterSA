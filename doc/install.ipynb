{
 "metadata": {
  "name": "Install"
 },
 "nbformat": 3,
 "nbformat_minor": 0,
 "worksheets": [
  {
   "cells": [
    {
     "cell_type": "code",
     "collapsed": false,
     "input": "!wget <URL here>",
     "language": "python",
     "metadata": {},
     "outputs": [
      {
       "output_type": "stream",
       "stream": "stdout",
       "text": "/bin/sh: 1: Syntax error: end of file unexpected\r\n"
      }
     ],
     "prompt_number": 5
    },
    {
     "cell_type": "code",
     "collapsed": false,
     "input": "!ls \n",
     "language": "python",
     "metadata": {},
     "outputs": [
      {
       "output_type": "stream",
       "stream": "stdout",
       "text": "Untitled0.ipynb\r\n"
      }
     ],
     "prompt_number": 6
    },
    {
     "cell_type": "code",
     "collapsed": false,
     "input": "!sudo pip install nltk",
     "language": "python",
     "metadata": {},
     "outputs": [
      {
       "output_type": "stream",
       "stream": "stdout",
       "text": "Downloading/unpacking nltk\r\n"
      },
      {
       "output_type": "stream",
       "stream": "stdout",
       "text": "  Downloading nltk-2.0.4.tar.gz (955Kb): \r  Downloading nltk-2.0.4.tar.gz (955Kb):   0%  4.1Kb\r  Downloading nltk-2.0.4.tar.gz (955Kb):   0%  8.2Kb\r  Downloading nltk-2.0.4.tar.gz (955Kb):   1%  12Kb \r  Downloading nltk-2.0.4.tar.gz (955Kb):   1%  16Kb\r  Downloading nltk-2.0.4.tar.gz (955Kb):   2%  20Kb\r  Downloading nltk-2.0.4.tar.gz (955Kb):   2%  24Kb\r  Downloading nltk-2.0.4.tar.gz (955Kb):   2%  28Kb\r  Downloading nltk-2.0.4.tar.gz (955Kb):   3%  32Kb\r  Downloading nltk-2.0.4.tar.gz (955Kb):   3%  36Kb\r  Downloading nltk-2.0.4.tar.gz (955Kb):   4%  40Kb\r  Downloading nltk-2.0.4.tar.gz (955Kb):   4%  45Kb\r  Downloading nltk-2.0.4.tar.gz (955Kb):   5%  49Kb\r  Downloading nltk-2.0.4.tar.gz (955Kb):   5%  53Kb\r  Downloading nltk-2.0.4.tar.gz (955Kb):   5%  57Kb\r  Downloading nltk-2.0.4.tar.gz (955Kb):   6%  61Kb\r  Downloading nltk-2.0.4.tar.gz (955Kb):   6%  65Kb\r  Downloading nltk-2.0.4.tar.gz (955Kb):   7%  69Kb\r  Downloading nltk-2.0.4.tar.gz (955Kb):   7%  73Kb\r  Downloading nltk-2.0.4.tar.gz (955Kb):   8%  77Kb\r  Downloading nltk-2.0.4.tar.gz (955Kb):   8%  81Kb\r  Downloading nltk-2.0.4.tar.gz (955Kb):   8%  86Kb\r  Downloading nltk-2.0.4.tar.gz (955Kb):   9%  90Kb\r  Downloading nltk-2.0.4.tar.gz (955Kb):   9%  94Kb\r  Downloading nltk-2.0.4.tar.gz (955Kb):  10%  98Kb\r  Downloading nltk-2.0.4.tar.gz (955Kb):  10%  102Kb\r  Downloading nltk-2.0.4.tar.gz (955Kb):  11%  106Kb\r  Downloading nltk-2.0.4.tar.gz (955Kb):  11%  110Kb\r  Downloading nltk-2.0.4.tar.gz (955Kb):  11%  114Kb\r  Downloading nltk-2.0.4.tar.gz (955Kb):  12%  118Kb\r  Downloading nltk-2.0.4.tar.gz (955Kb):  12%  122Kb\r  Downloading nltk-2.0.4.tar.gz (955Kb):  13%  126Kb\r  Downloading nltk-2.0.4.tar.gz (955Kb):  13%  131Kb\r  Downloading nltk-2.0.4.tar.gz (955Kb):  14%  135Kb\r  Downloading nltk-2.0.4.tar.gz (955Kb):  14%  139Kb\r  Downloading nltk-2.0.4.tar.gz (955Kb):  14%  143Kb\r  Downloading nltk-2.0.4.tar.gz (955Kb):  15%  147Kb\r  Downloading nltk-2.0.4.tar.gz (955Kb):  15%  151Kb\r  Downloading nltk-2.0.4.tar.gz (955Kb):  16%  155Kb\r  Downloading nltk-2.0.4.tar.gz (955Kb):  16%  159Kb\r  Downloading nltk-2.0.4.tar.gz (955Kb):  17%  163Kb\r  Downloading nltk-2.0.4.tar.gz (955Kb):  17%  167Kb\r  Downloading nltk-2.0.4.tar.gz (955Kb):  17%  172Kb\r  Downloading nltk-2.0.4.tar.gz (955Kb):  18%  176Kb\r  Downloading nltk-2.0.4.tar.gz (955Kb):  18%  180Kb\r  Downloading nltk-2.0.4.tar.gz (955Kb):  19%  184Kb\r  Downloading nltk-2.0.4.tar.gz (955Kb):  19%  188Kb\r  Downloading nltk-2.0.4.tar.gz (955Kb):  20%  192Kb\r  Downloading nltk-2.0.4.tar.gz (955Kb):  20%  196Kb\r  Downloading nltk-2.0.4.tar.gz (955Kb):  20%  200Kb\r  Downloading nltk-2.0.4.tar.gz (955Kb):  21%  204Kb\r  Downloading nltk-2.0.4.tar.gz (955Kb):  21%  208Kb\r  Downloading nltk-2.0.4.tar.gz (955Kb):  22%  212Kb\r  Downloading nltk-2.0.4.tar.gz (955Kb):  22%  217Kb\r  Downloading nltk-2.0.4.tar.gz (955Kb):  23%  221Kb\r  Downloading nltk-2.0.4.tar.gz (955Kb):  23%  225Kb\r  Downloading nltk-2.0.4.tar.gz (955Kb):  23%  229Kb\r  Downloading nltk-2.0.4.tar.gz (955Kb):  24%  233Kb\r  Downloading nltk-2.0.4.tar.gz (955Kb):  24%  237Kb\r  Downloading nltk-2.0.4.tar.gz (955Kb):  25%  241Kb\r  Downloading nltk-2.0.4.tar.gz (955Kb):  25%  245Kb\r  Downloading nltk-2.0.4.tar.gz (955Kb):  26%  249Kb\r  Downloading nltk-2.0.4.tar.gz (955Kb):  26%  253Kb\r  Downloading nltk-2.0.4.tar.gz (955Kb):  26%  258Kb\r  Downloading nltk-2.0.4.tar.gz (955Kb):  27%  262Kb\r  Downloading nltk-2.0.4.tar.gz (955Kb):  27%  266Kb\r  Downloading nltk-2.0.4.tar.gz (955Kb):  28%  270Kb\r  Downloading nltk-2.0.4.tar.gz (955Kb):  28%  274Kb\r  Downloading nltk-2.0.4.tar.gz (955Kb):  29%  278Kb\r  Downloading nltk-2.0.4.tar.gz (955Kb):  29%  282Kb\r  Downloading nltk-2.0.4.tar.gz (955Kb):  29%  286Kb\r  Downloading nltk-2.0.4.tar.gz (955Kb):  30%  290Kb\r  Downloading nltk-2.0.4.tar.gz (955Kb):  30%  294Kb\r  Downloading nltk-2.0.4.tar.gz (955Kb):  31%  299Kb\r  Downloading nltk-2.0.4.tar.gz (955Kb):  31%  303Kb\r  Downloading nltk-2.0.4.tar.gz (955Kb):  32%  307Kb\r  Downloading nltk-2.0.4.tar.gz (955Kb):  32%  311Kb\r  Downloading nltk-2.0.4.tar.gz (955Kb):  32%  315Kb\r  Downloading nltk-2.0.4.tar.gz (955Kb):  33%  319Kb\r  Downloading nltk-2.0.4.tar.gz (955Kb):  33%  323Kb\r  Downloading nltk-2.0.4.tar.gz (955Kb):  34%  327Kb\r  Downloading nltk-2.0.4.tar.gz (955Kb):  34%  331Kb\r  Downloading nltk-2.0.4.tar.gz (955Kb):  35%  335Kb\r  Downloading nltk-2.0.4.tar.gz (955Kb):  35%  339Kb\r  Downloading nltk-2.0.4.tar.gz (955Kb):  35%  344Kb\r  Downloading nltk-2.0.4.tar.gz (955Kb):  36%  348Kb\r  Downloading nltk-2.0.4.tar.gz (955Kb):  36%  352Kb\r  Downloading nltk-2.0.4.tar.gz (955Kb):  37%  356Kb\r  Downloading nltk-2.0.4.tar.gz (955Kb):  37%  360Kb\r  Downloading nltk-2.0.4.tar.gz (955Kb):  38%  364Kb\r  Downloading nltk-2.0.4.tar.gz (955Kb):  38%  368Kb\r  Downloading nltk-2.0.4.tar.gz (955Kb):  38%  372Kb\r  Downloading nltk-2.0.4.tar.gz (955Kb):  39%  376Kb\r  Downloading nltk-2.0.4.tar.gz (955Kb):  39%  380Kb\r  Downloading nltk-2.0.4.tar.gz (955Kb):  40%  385Kb\r  Downloading nltk-2.0.4.tar.gz (955Kb):  40%  389Kb\r  Downloading nltk-2.0.4.tar.gz (955Kb):  41%  393Kb\r  Downloading nltk-2.0.4.tar.gz (955Kb):  41%  397Kb\r  Downloading nltk-2.0.4.tar.gz (955Kb):  41%  401Kb\r  Downloading nltk-2.0.4.tar.gz (955Kb):  42%  405Kb\r  Downloading nltk-2.0.4.tar.gz (955Kb):  42%  409Kb\r  Downloading nltk-2.0.4.tar.gz (955Kb):  43%  413Kb\r  Downloading nltk-2.0.4.tar.gz (955Kb):  43%  417Kb\r  Downloading nltk-2.0.4.tar.gz (955Kb):  44%  421Kb\r  Downloading nltk-2.0.4.tar.gz (955Kb):  44%  425Kb"
      },
      {
       "output_type": "stream",
       "stream": "stdout",
       "text": "\r  Downloading nltk-2.0.4.tar.gz (955Kb):  44%  430Kb\r  Downloading nltk-2.0.4.tar.gz (955Kb):  45%  434Kb\r  Downloading nltk-2.0.4.tar.gz (955Kb):  45%  438Kb\r  Downloading nltk-2.0.4.tar.gz (955Kb):  46%  442Kb\r  Downloading nltk-2.0.4.tar.gz (955Kb):  46%  446Kb\r  Downloading nltk-2.0.4.tar.gz (955Kb):  47%  450Kb\r  Downloading nltk-2.0.4.tar.gz (955Kb):  47%  454Kb\r  Downloading nltk-2.0.4.tar.gz (955Kb):  47%  458Kb\r  Downloading nltk-2.0.4.tar.gz (955Kb):  48%  462Kb\r  Downloading nltk-2.0.4.tar.gz (955Kb):  48%  466Kb\r  Downloading nltk-2.0.4.tar.gz (955Kb):  49%  471Kb\r  Downloading nltk-2.0.4.tar.gz (955Kb):  49%  475Kb\r  Downloading nltk-2.0.4.tar.gz (955Kb):  50%  479Kb\r  Downloading nltk-2.0.4.tar.gz (955Kb):  50%  483Kb\r  Downloading nltk-2.0.4.tar.gz (955Kb):  50%  487Kb\r  Downloading nltk-2.0.4.tar.gz (955Kb):  51%  491Kb\r  Downloading nltk-2.0.4.tar.gz (955Kb):  51%  495Kb\r  Downloading nltk-2.0.4.tar.gz (955Kb):  52%  499Kb\r  Downloading nltk-2.0.4.tar.gz (955Kb):  52%  503Kb\r  Downloading nltk-2.0.4.tar.gz (955Kb):  53%  507Kb\r  Downloading nltk-2.0.4.tar.gz (955Kb):  53%  512Kb\r  Downloading nltk-2.0.4.tar.gz (955Kb):  53%  516Kb\r  Downloading nltk-2.0.4.tar.gz (955Kb):  54%  520Kb\r  Downloading nltk-2.0.4.tar.gz (955Kb):  54%  524Kb\r  Downloading nltk-2.0.4.tar.gz (955Kb):  55%  528Kb\r  Downloading nltk-2.0.4.tar.gz (955Kb):  55%  532Kb\r  Downloading nltk-2.0.4.tar.gz (955Kb):  56%  536Kb\r  Downloading nltk-2.0.4.tar.gz (955Kb):  56%  540Kb\r  Downloading nltk-2.0.4.tar.gz (955Kb):  56%  544Kb\r  Downloading nltk-2.0.4.tar.gz (955Kb):  57%  548Kb\r  Downloading nltk-2.0.4.tar.gz (955Kb):  57%  552Kb\r  Downloading nltk-2.0.4.tar.gz (955Kb):  58%  557Kb\r  Downloading nltk-2.0.4.tar.gz (955Kb):  58%  561Kb\r  Downloading nltk-2.0.4.tar.gz (955Kb):  59%  565Kb\r  Downloading nltk-2.0.4.tar.gz (955Kb):  59%  569Kb\r  Downloading nltk-2.0.4.tar.gz (955Kb):  59%  573Kb\r  Downloading nltk-2.0.4.tar.gz (955Kb):  60%  577Kb\r  Downloading nltk-2.0.4.tar.gz (955Kb):  60%  581Kb\r  Downloading nltk-2.0.4.tar.gz (955Kb):  61%  585Kb\r  Downloading nltk-2.0.4.tar.gz (955Kb):  61%  589Kb\r  Downloading nltk-2.0.4.tar.gz (955Kb):  62%  593Kb\r  Downloading nltk-2.0.4.tar.gz (955Kb):  62%  598Kb\r  Downloading nltk-2.0.4.tar.gz (955Kb):  62%  602Kb\r  Downloading nltk-2.0.4.tar.gz (955Kb):  63%  606Kb\r  Downloading nltk-2.0.4.tar.gz (955Kb):  63%  610Kb\r  Downloading nltk-2.0.4.tar.gz (955Kb):  64%  614Kb\r  Downloading nltk-2.0.4.tar.gz (955Kb):  64%  618Kb\r  Downloading nltk-2.0.4.tar.gz (955Kb):  65%  622Kb\r  Downloading nltk-2.0.4.tar.gz (955Kb):  65%  626Kb\r  Downloading nltk-2.0.4.tar.gz (955Kb):  65%  630Kb\r  Downloading nltk-2.0.4.tar.gz (955Kb):  66%  634Kb\r  Downloading nltk-2.0.4.tar.gz (955Kb):  66%  638Kb\r  Downloading nltk-2.0.4.tar.gz (955Kb):  67%  643Kb\r  Downloading nltk-2.0.4.tar.gz (955Kb):  67%  647Kb\r  Downloading nltk-2.0.4.tar.gz (955Kb):  68%  651Kb\r  Downloading nltk-2.0.4.tar.gz (955Kb):  68%  655Kb\r  Downloading nltk-2.0.4.tar.gz (955Kb):  68%  659Kb\r  Downloading nltk-2.0.4.tar.gz (955Kb):  69%  663Kb\r  Downloading nltk-2.0.4.tar.gz (955Kb):  69%  667Kb\r  Downloading nltk-2.0.4.tar.gz (955Kb):  70%  671Kb\r  Downloading nltk-2.0.4.tar.gz (955Kb):  70%  675Kb\r  Downloading nltk-2.0.4.tar.gz (955Kb):  71%  679Kb\r  Downloading nltk-2.0.4.tar.gz (955Kb):  71%  684Kb\r  Downloading nltk-2.0.4.tar.gz (955Kb):  71%  688Kb\r  Downloading nltk-2.0.4.tar.gz (955Kb):  72%  692Kb\r  Downloading nltk-2.0.4.tar.gz (955Kb):  72%  696Kb\r  Downloading nltk-2.0.4.tar.gz (955Kb):  73%  700Kb\r  Downloading nltk-2.0.4.tar.gz (955Kb):  73%  704Kb\r  Downloading nltk-2.0.4.tar.gz (955Kb):  74%  708Kb\r  Downloading nltk-2.0.4.tar.gz (955Kb):  74%  712Kb\r  Downloading nltk-2.0.4.tar.gz (955Kb):  74%  716Kb\r  Downloading nltk-2.0.4.tar.gz (955Kb):  75%  720Kb\r  Downloading nltk-2.0.4.tar.gz (955Kb):  75%  724Kb\r  Downloading nltk-2.0.4.tar.gz (955Kb):  76%  729Kb\r  Downloading nltk-2.0.4.tar.gz (955Kb):  76%  733Kb\r  Downloading nltk-2.0.4.tar.gz (955Kb):  77%  737Kb\r  Downloading nltk-2.0.4.tar.gz (955Kb):  77%  741Kb\r  Downloading nltk-2.0.4.tar.gz (955Kb):  77%  745Kb\r  Downloading nltk-2.0.4.tar.gz (955Kb):  78%  749Kb\r  Downloading nltk-2.0.4.tar.gz (955Kb):  78%  753Kb\r  Downloading nltk-2.0.4.tar.gz (955Kb):  79%  757Kb\r  Downloading nltk-2.0.4.tar.gz (955Kb):  79%  761Kb\r  Downloading nltk-2.0.4.tar.gz (955Kb):  80%  765Kb\r  Downloading nltk-2.0.4.tar.gz (955Kb):  80%  770Kb\r  Downloading nltk-2.0.4.tar.gz (955Kb):  80%  774Kb\r  Downloading nltk-2.0.4.tar.gz (955Kb):  81%  778Kb\r  Downloading nltk-2.0.4.tar.gz (955Kb):  81%  782Kb\r  Downloading nltk-2.0.4.tar.gz (955Kb):  82%  786Kb\r  Downloading nltk-2.0.4.tar.gz (955Kb):  82%  790Kb\r  Downloading nltk-2.0.4.tar.gz (955Kb):  83%  794Kb\r  Downloading nltk-2.0.4.tar.gz (955Kb):  83%  798Kb\r  Downloading nltk-2.0.4.tar.gz (955Kb):  83%  802Kb\r  Downloading nltk-2.0.4.tar.gz (955Kb):  84%  806Kb\r  Downloading nltk-2.0.4.tar.gz (955Kb):  84%  811Kb\r  Downloading nltk-2.0.4.tar.gz (955Kb):  85%  815Kb\r  Downloading nltk-2.0.4.tar.gz (955Kb):  85%  819Kb\r  Downloading nltk-2.0.4.tar.gz (955Kb):  86%  823Kb\r  Downloading nltk-2.0.4.tar.gz (955Kb):  86%  827Kb\r  Downloading nltk-2.0.4.tar.gz (955Kb):  86%  831Kb\r  Downloading nltk-2.0.4.tar.gz (955Kb):  87%  835Kb\r  Downloading nltk-2.0.4.tar.gz (955Kb):  87%  839Kb\r  Downloading nltk-2.0.4.tar.gz (955Kb):  88%  843Kb\r  Downloading nltk-2.0.4.tar.gz (955Kb):  88%  847Kb\r  Downloading nltk-2.0.4.tar.gz (955Kb):  89%  851Kb\r  Downloading nltk-2.0.4.tar.gz (955Kb):  89%  856Kb\r  Downloading nltk-2.0.4.tar.gz (955Kb):  89%  860Kb\r  Downloading nltk-2.0.4.tar.gz (955Kb):  90%  864Kb\r  Downloading nltk-2.0.4.tar.gz (955Kb):  90%  868Kb\r  Downloading nltk-2.0.4.tar.gz (955Kb):  91%  872Kb\r  Downloading nltk-2.0.4.tar.gz (955Kb):  91%  876Kb\r  Downloading nltk-2.0.4.tar.gz (955Kb):  92%  880Kb\r  Downloading nltk-2.0.4.tar.gz (955Kb):  92%  884Kb\r  Downloading nltk-2.0.4.tar.gz (955Kb):  92%  888Kb\r  Downloading nltk-2.0.4.tar.gz (955Kb):  93%  892Kb\r  Downloading nltk-2.0.4.tar.gz (955Kb):  93%  897Kb\r  Downloading nltk-2.0.4.tar.gz (955Kb):  94%  901Kb\r  Downloading nltk-2.0.4.tar.gz (955Kb):  94%  905Kb\r  Downloading nltk-2.0.4.tar.gz (955Kb):  95%  909Kb\r  Downloading nltk-2.0.4.tar.gz (955Kb):  95%  913Kb\r  Downloading nltk-2.0.4.tar.gz (955Kb):  95%  917Kb\r  Downloading nltk-2.0.4.tar.gz (955Kb):  96%  921Kb\r  Downloading nltk-2.0.4.tar.gz (955Kb):  96%  925Kb\r  Downloading nltk-2.0.4.tar.gz (955Kb):  97%  929Kb\r  Downloading nltk-2.0.4.tar.gz (955Kb):  97%  933Kb\r  Downloading nltk-2.0.4.tar.gz (955Kb):  98%  937Kb\r  Downloading nltk-2.0.4.tar.gz (955Kb):  98%  942Kb\r  Downloading nltk-2.0.4.tar.gz (955Kb):  98%  946Kb\r  Downloading nltk-2.0.4.tar.gz (955Kb):  99%  950Kb\r  Downloading nltk-2.0.4.tar.gz (955Kb):  99%  954Kb\r  Downloading nltk-2.0.4.tar.gz (955Kb): 100%  955Kb\r  Downloading nltk-2.0.4.tar.gz (955Kb):            \r  Downloading nltk-2.0.4.tar.gz (955Kb): 955Kb downloaded\r\n"
      },
      {
       "output_type": "stream",
       "stream": "stdout",
       "text": "  Running setup.py egg_info for package nltk\r\n"
      },
      {
       "output_type": "stream",
       "stream": "stdout",
       "text": "    \r\n    warning: no previously-included files matching '*~' found anywhere in distribution\r\nRequirement already satisfied (use --upgrade to upgrade): PyYAML>=3.09 in /usr/lib/python2.7/dist-packages (from nltk)\r\nInstalling collected packages: nltk\r\n  Running setup.py install for nltk\r\n"
      },
      {
       "output_type": "stream",
       "stream": "stdout",
       "text": "    \r\n    warning: no previously-included files matching '*~' found anywhere in distribution\r\n"
      },
      {
       "output_type": "stream",
       "stream": "stdout",
       "text": "Successfully installed nltk\r\nCleaning up...\r\n"
      }
     ],
     "prompt_number": 7
    },
    {
     "cell_type": "code",
     "collapsed": false,
     "input": "import nltk",
     "language": "python",
     "metadata": {},
     "outputs": [],
     "prompt_number": 10
    },
    {
     "cell_type": "code",
     "collapsed": false,
     "input": "nltk.download('maxent_treebank_pos_tagger')",
     "language": "python",
     "metadata": {},
     "outputs": [
      {
       "output_type": "stream",
       "stream": "stdout",
       "text": "[nltk_data] Downloading package 'maxent_treebank_pos_tagger' to\n[nltk_data]     /home/ubuntu/nltk_data...\n[nltk_data]   Package maxent_treebank_pos_tagger is already up-to-\n[nltk_data]       date!\n"
      },
      {
       "output_type": "pyout",
       "prompt_number": 13,
       "text": "True"
      }
     ],
     "prompt_number": 13
    },
    {
     "cell_type": "code",
     "collapsed": false,
     "input": "",
     "language": "python",
     "metadata": {},
     "outputs": []
    }
   ],
   "metadata": {}
  }
 ]
}